<<<<<<< HEAD
{
 "metadata": {
  "name": "",
  "signature": "sha256:cf3e3a04122d9e7d09d1ab206868bb9fc30bc49cb8fd94ad43a5888e772a714a"
 },
 "nbformat": 3,
 "nbformat_minor": 0,
 "worksheets": [
  {
   "cells": [
    {
     "cell_type": "markdown",
     "metadata": {},
     "source": [
      "# Homework 0\n",
      "\n",
      "### Due Tuesday, September 9, 2014 (but no submission is required)\n",
      "\n",
      "---\n",
      "\n",
      "Welcome to CS109 / STAT121 / AC209 / E-109 (http://cs109.github.io/2014/).  In this class, we will be using a variety of tools that will require some initial configuration. To ensure everything goes smoothly moving forward, we will setup the majority of those tools in this homework. While some of this will likely be dull, doing it now will enable us to do more exciting work in the weeks that follow without getting bogged down in further software configuration. This homework will not be graded, however it is essential that you complete it timely since it will enable us to set up your accounts. You do not have to hand anything in, with the exception of filling out the online survey. \n",
      "\n",
      "## Class Survey, Piazza, and Introduction\n",
      "\n",
      "**Class Survey**\n",
      "\n",
      "Please complete the mandatory course survey located [here](https://docs.google.com/forms/d/1uAxk4am1HZFh15Y8zdGpBm5hGTTmX3IGkBkD3foTbv0/viewform?usp=send_form). It should only take a few moments of your time. Once you fill in the survey we will sign you up to the course forum on Piazza and the dropbox system that you will use to hand in the homework. It is imperative that you fill out the survey on time as we use the provided information to sign you up for these services. \n",
      "\n",
      "**Piazza**\n",
      "\n",
      "Go to [Piazza](https://piazza.com/harvard/fall2014/cs109) and sign up for the class using your Harvard e-mail address. \n",
      "\n",
      "You will use Piazza as a forum for discussion, to find team members, to arrange appointments, and to ask questions. Piazza should be your primary form of communication with the staff. Use the staff e-mail (staff@cs109.org) only for individual requests, e.g., to excuse yourself from a mandatory guest lecture. All homeworks, and project descriptions will be announced on Piazza first. \n",
      "\n",
      "**Introduction**\n",
      "\n",
      "Once you are signed up to the Piazza course forum, introduce yourself to your classmates and course staff with a follow-up post in the introduction thread. Include your name/nickname, your affiliation, why you are taking this course, and tell us something interesting about yourself (e.g., an industry job, an unusual hobby, past travels, or a cool project you did, etc.). Also tell us whether you have experience with data science. \n",
      "\n",
      "## Programming expectations\n",
      "\n",
      "All the assignments and labs for this class will use Python and, for the most part, the browser-based IPython notebook format you are currently viewing. Knowledge of Python is not a prerequisite for this course, **provided you are comfortable learning on your own as needed**. While we have strived to make the programming component of this course straightforward, we will not devote much time to teaching prorgramming or Python syntax. Basically, you should feel comfortable with:\n",
      "\n",
      "* How to look up Python syntax on Google and StackOverflow.\n",
      "* Basic programming concepts like functions, loops, arrays, dictionaries, strings, and if statements.\n",
      "* How to learn new libraries by reading documentation.\n",
      "* Asking questions on StackOverflow or Piazza.\n",
      "\n",
      "There are many online tutorials to introduce you to scientific python programming. [Here is one](https://github.com/jrjohansson/scientific-python-lectures) that is very nice. Lectures 1-4 are most relevant to this class.\n",
      "\n",
      "## Getting Python\n",
      "\n",
      "You will be using Python throughout the course, including many popular 3rd party Python libraries for scientific computing. [Anaconda](http://continuum.io/downloads) is an easy-to-install bundle of Python and most of these libraries. We recommend that you use Anaconda for this course.\n",
      "\n",
      "Please visit [this page](https://github.com/cs109/content/wiki/Installing-Python) and follow the instructions to set up Python.\n",
      "\n",
      "<hline>\n",
      "\n",
      "## Hello, Python\n",
      "\n",
      "The IPython notebook is an application to build interactive computational notebooks. You'll be using them to complete labs and homework. Once you've set up Python, please download this HW0 ipython notebook and open it with IPython by typing\n",
      "\n",
      "```\n",
      "ipython notebook <name_of_downloaded_file>\n",
      "```\n",
      "\n",
      "For the rest of the assignment, use your local copy of this page, running on IPython.\n",
      "\n",
      "Notebooks are composed of many \"cells\", which can contain text (like this one), or code (like the one below). Double click on the cell below, and evaluate it by clicking the \"play\" button above, or by hitting shift + enter"
     ]
    },
    {
     "cell_type": "code",
     "collapsed": false,
     "input": [
      "x = [10, 20, 30, 40, 50]\n",
      "for item in x:\n",
      "    print \"Item is \", item"
     ],
     "language": "python",
     "metadata": {},
     "outputs": [
      {
       "output_type": "stream",
       "stream": "stdout",
       "text": [
        "Item is  10\n",
        "Item is  20\n",
        "Item is  30\n",
        "Item is  40\n",
        "Item is  50\n"
       ]
      }
     ],
     "prompt_number": 1
    },
    {
     "cell_type": "markdown",
     "metadata": {},
     "source": [
      "## Python Libraries\n",
      "\n",
      "We will be using a several different libraries throughout this course. If you've successfully completed the [installation instructions](https://github.com/cs109/content/wiki/Installing-Python), all of the following statements should run."
     ]
    },
    {
     "cell_type": "code",
     "collapsed": false,
     "input": [
      "#IPython is what you are using now to run the notebook\n",
      "import IPython\n",
      "print \"IPython version:      %6.6s (need at least 1.0)\" % IPython.__version__\n",
      "\n",
      "# Numpy is a library for working with Arrays\n",
      "import numpy as np\n",
      "print \"Numpy version:        %6.6s (need at least 1.7.1)\" % np.__version__\n",
      "\n",
      "# SciPy implements many different numerical algorithms\n",
      "import scipy as sp\n",
      "print \"SciPy version:        %6.6s (need at least 0.12.0)\" % sp.__version__\n",
      "\n",
      "# Pandas makes working with data tables easier\n",
      "import pandas as pd\n",
      "print \"Pandas version:       %6.6s (need at least 0.11.0)\" % pd.__version__\n",
      "\n",
      "# Module for plotting\n",
      "import matplotlib\n",
      "print \"Mapltolib version:    %6.6s (need at least 1.2.1)\" % matplotlib.__version__\n",
      "\n",
      "# SciKit Learn implements several Machine Learning algorithms\n",
      "import sklearn\n",
      "print \"Scikit-Learn version: %6.6s (need at least 0.13.1)\" % sklearn.__version__\n",
      "\n",
      "# Requests is a library for getting data from the Web\n",
      "import requests\n",
      "print \"requests version:     %6.6s (need at least 1.2.3)\" % requests.__version__\n",
      "\n",
      "# Networkx is a library for working with networks\n",
      "import networkx as nx\n",
      "print \"NetworkX version:     %6.6s (need at least 1.7)\" % nx.__version__\n",
      "\n",
      "#BeautifulSoup is a library to parse HTML and XML documents\n",
      "import bs4\n",
      "print \"BeautifulSoup version:%6.6s (need at least 3.2)\" % bs4.__version__\n",
      "\n",
      "#MrJob is a library to run map reduce jobs on Amazon's computers\n",
      "import mrjob\n",
      "print \"Mr Job version:       %6.6s (need at least 0.4)\" % mrjob.__version__\n",
      "\n",
      "#Pattern has lots of tools for working with data from the internet\n",
      "import pattern\n",
      "print \"Pattern version:      %6.6s (need at least 2.6)\" % pattern.__version__\n",
      "\n",
      "#Seaborn is a nice library for visualizations\n",
      "import seaborn\n",
      "print \"Seaborn version:      %6.6s (need at least 0.3.1)\" % seaborn.__version__"
     ],
     "language": "python",
     "metadata": {},
     "outputs": [
      {
       "output_type": "stream",
       "stream": "stdout",
       "text": [
        "IPython version:       2.2.0 (need at least 1.0)\n",
        "Numpy version:         1.8.1 (need at least 1.7.1)"
       ]
      },
      {
       "output_type": "stream",
       "stream": "stdout",
       "text": [
        "\n",
        "SciPy version:        0.14.0 (need at least 0.12.0)\n",
        "Pandas version:       0.13.0 (need at least 0.11.0)"
       ]
      },
      {
       "output_type": "stream",
       "stream": "stdout",
       "text": [
        "\n",
        "Mapltolib version:     1.3.1 (need at least 1.2.1)\n",
        "Scikit-Learn version: 0.14.1 (need at least 0.13.1)\n",
        "requests version:      2.3.0 (need at least 1.2.3)\n",
        "NetworkX version:        1.9 (need at least 1.7)"
       ]
      },
      {
       "output_type": "stream",
       "stream": "stdout",
       "text": [
        "\n",
        "BeautifulSoup version: 4.3.2 (need at least 3.2)\n",
        "Mr Job version:        0.4.2 (need at least 0.4)\n",
        "Pattern version:         2.6 (need at least 2.6)\n",
        "Seaborn version:       0.4.0 (need at least 0.3.1)"
       ]
      },
      {
       "output_type": "stream",
       "stream": "stdout",
       "text": [
        "\n"
       ]
      }
     ],
     "prompt_number": 2
    },
    {
     "cell_type": "markdown",
     "metadata": {},
     "source": [
      "If any of these libraries are missing or out of date, you will need to [install them](https://github.com/cs109/content/wiki/Installing-Python#installing-additional-libraries) and restart IPython"
     ]
    },
    {
     "cell_type": "markdown",
     "metadata": {},
     "source": [
      "## Hello matplotlib"
     ]
    },
    {
     "cell_type": "markdown",
     "metadata": {},
     "source": [
      "The notebook integrates nicely with Matplotlib, the primary plotting package for python. This should embed a figure of a sine wave:"
     ]
    },
    {
     "cell_type": "code",
     "collapsed": false,
     "input": [
      "#this line prepares IPython for working with matplotlib\n",
      "%matplotlib inline  \n",
      "\n",
      "# this actually imports matplotlib\n",
      "import matplotlib.pyplot as plt  \n",
      "\n",
      "x = np.linspace(0, 10, 30)  #array of 30 points from 0 to 10\n",
      "y = np.sin(x)\n",
      "z = y + np.random.normal(size=30) * .2\n",
      "plt.plot(x, y, 'ro-', label='A sine wave')\n",
      "plt.plot(x, z, 'b-', label='Noisy sine')\n",
      "plt.legend(loc = 'lower right')\n",
      "plt.xlabel(\"X axis\")\n",
      "plt.ylabel(\"Y axis\")           "
     ],
     "language": "python",
     "metadata": {},
     "outputs": [
      {
       "metadata": {},
       "output_type": "pyout",
       "prompt_number": 3,
       "text": [
        "<matplotlib.text.Text at 0x114534a90>"
       ]
      },
      {
       "metadata": {},
       "output_type": "display_data",
       "png": "iVBORw0KGgoAAAANSUhEUgAAAY8AAAESCAYAAAAFYll6AAAABHNCSVQICAgIfAhkiAAAAAlwSFlz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\nY4wxxhhjjDHGGGOMMQHm/wFqj/TyO5o1nQAAAABJRU5ErkJggg==\n",
       "text": [
        "<matplotlib.figure.Figure at 0x10f5c96d0>"
       ]
      }
     ],
     "prompt_number": 3
    },
    {
     "cell_type": "markdown",
     "metadata": {},
     "source": [
      "If that last cell complained about the `%matplotlib` line, you need to update IPython to v1.0, and restart the notebook. See the [installation page](https://github.com/cs109/content/wiki/Installing-Python)"
     ]
    },
    {
     "cell_type": "markdown",
     "metadata": {},
     "source": [
      "## Hello Numpy\n",
      "\n",
      "The Numpy array processing library is the basis of nearly all numerical computing in Python. Here's a 30 second crash course. For more details, consult Chapter 4 of Python for Data Analysis, or the [Numpy User's Guide](http://docs.scipy.org/doc/numpy-dev/user/index.html)"
     ]
    },
    {
     "cell_type": "code",
     "collapsed": false,
     "input": [
      "print \"Make a 3 row x 4 column array of random numbers\"\n",
      "x = np.random.random((3, 4))\n",
      "print x\n",
      "print\n",
      "\n",
      "print \"Add 1 to every element\"\n",
      "x = x + 1\n",
      "print x\n",
      "print\n",
      "\n",
      "print \"Get the element at row 1, column 2\"\n",
      "print x[1, 2]\n",
      "print\n",
      "\n",
      "# The colon syntax is called \"slicing\" the array. \n",
      "print \"Get the first row\"\n",
      "print x[0, :]\n",
      "print\n",
      "\n",
      "print \"Get every 2nd column of the first row\"\n",
      "print x[0, ::2]\n",
      "print"
     ],
     "language": "python",
     "metadata": {},
     "outputs": [
      {
       "output_type": "stream",
       "stream": "stdout",
       "text": [
        "Make a 3 row x 4 column array of random numbers\n",
        "[[ 0.67442072  0.04587954  0.99758352  0.11082894]\n",
        " [ 0.93754743  0.86018195  0.88181405  0.02860508]\n",
        " [ 0.11259596  0.10418561  0.6454104   0.73560574]]\n",
        "\n",
        "Add 1 to every element\n",
        "[[ 1.67442072  1.04587954  1.99758352  1.11082894]\n",
        " [ 1.93754743  1.86018195  1.88181405  1.02860508]\n",
        " [ 1.11259596  1.10418561  1.6454104   1.73560574]]\n",
        "\n",
        "Get the element at row 1, column 2\n",
        "1.8818140505\n",
        "\n",
        "Get the first row\n",
        "[ 1.67442072  1.04587954  1.99758352  1.11082894]\n",
        "\n",
        "Get every 2nd column of the first row\n",
        "[ 1.67442072  1.99758352]\n",
        "\n"
       ]
      }
     ],
     "prompt_number": 4
    },
    {
     "cell_type": "markdown",
     "metadata": {},
     "source": [
      "Print the maximum, minimum, and mean of the array. This does **not** require writing a loop. In the code cell below, type `x.m<TAB>`, to find built-in operations for common array statistics like this"
     ]
    },
    {
     "cell_type": "code",
     "collapsed": false,
     "input": [
      "#your code here\n",
      "print \"Get maximum of array\"\n",
      "print x.max()\n",
      "print\n",
      "\n",
      "print \"Get minimum of array\"\n",
      "print x.min()\n",
      "print\n",
      "\n",
      "print \"Get mean of array\"\n",
      "print x.mean()\n",
      "print\n"
     ],
     "language": "python",
     "metadata": {},
     "outputs": [
      {
       "output_type": "stream",
       "stream": "stdout",
       "text": [
        "Get maximum of array\n",
        "1.99758351573\n",
        "\n",
        "Get minimum of array\n",
        "1.02860507555\n",
        "\n",
        "Get mean of array\n",
        "1.51122157779\n",
        "\n"
       ]
      }
     ],
     "prompt_number": 5
    },
    {
     "cell_type": "markdown",
     "metadata": {},
     "source": [
      "Call the `x.max` function again, but use the `axis` keyword to print the maximum of each row in x."
     ]
    },
    {
     "cell_type": "code",
     "collapsed": false,
     "input": [
      "#your code here\n",
      "print x.max(axis=1)\n"
     ],
     "language": "python",
     "metadata": {},
     "outputs": [
      {
       "output_type": "stream",
       "stream": "stdout",
       "text": [
        "[ 1.99758352  1.93754743  1.73560574]\n"
       ]
      }
     ],
     "prompt_number": 10
    },
    {
     "cell_type": "markdown",
     "metadata": {},
     "source": [
      "Here's a way to quickly simulate 500 coin \"fair\" coin tosses (where the probabily of getting Heads is 50%, or 0.5)"
     ]
    },
    {
     "cell_type": "code",
     "collapsed": false,
     "input": [
      "x = np.random.binomial(500, .5)\n",
      "print \"number of heads:\", x"
     ],
     "language": "python",
     "metadata": {},
     "outputs": [
      {
       "output_type": "stream",
       "stream": "stdout",
       "text": [
        "number of heads: 236\n"
       ]
      }
     ],
     "prompt_number": 7
    },
    {
     "cell_type": "markdown",
     "metadata": {},
     "source": [
      "Repeat this simulation 500 times, and use the [plt.hist() function](http://matplotlib.org/api/pyplot_api.html#matplotlib.pyplot.hist) to plot a histogram of the number of Heads (1s) in each simulation"
     ]
    },
    {
     "cell_type": "code",
     "collapsed": false,
     "input": [
      "#your code here\n",
      "heads = []\n",
      "\n",
      "for i in range(500):\n",
      "    heads.append(np.random.binomial(500, .5))\n",
      "    \n",
      "plt.hist(heads)"
     ],
     "language": "python",
     "metadata": {},
     "outputs": [
      {
       "metadata": {},
       "output_type": "pyout",
       "prompt_number": 8,
       "text": [
        "(array([   6.,   31.,   66.,  102.,  123.,   90.,   53.,   20.,    8.,    1.]),\n",
        " array([ 220. ,  227.1,  234.2,  241.3,  248.4,  255.5,  262.6,  269.7,\n",
        "         276.8,  283.9,  291. ]),\n",
        " <a list of 10 Patch objects>)"
       ]
      },
      {
       "metadata": {},
       "output_type": "display_data",
       "png": "iVBORw0KGgoAAAANSUhEUgAAAX4AAAEDCAYAAAAyZm/jAAAABHNCSVQICAgIfAhkiAAAAAlwSFlz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\n",
       "text": [
        "<matplotlib.figure.Figure at 0x10bf2ca90>"
       ]
      }
     ],
     "prompt_number": 8
    },
    {
     "cell_type": "markdown",
     "metadata": {},
     "source": [
      "## The Monty Hall Problem\n",
      "\n",
      "\n",
      "Here's a fun and perhaps surprising statistical riddle, and a good way to get some practice writing python functions\n",
      "\n",
      "In a gameshow, contestants try to guess which of 3 closed doors contain a cash prize (goats are behind the other two doors). Of course, the odds of choosing the correct door are 1 in 3. As a twist, the host of the show occasionally opens a door after a contestant makes his or her choice. This door is always one of the two the contestant did not pick, and is also always one of the goat doors (note that it is always possible to do this, since there are two goat doors). At this point, the contestant has the option of keeping his or her original choice, or swtiching to the other unopened door. The question is: is there any benefit to switching doors? The answer surprises many people who haven't heard the question before.\n",
      "\n",
      "We can answer the problem by running simulations in Python. We'll do it in several parts.\n",
      "\n",
      "First, write a function called `simulate_prizedoor`. This function will simulate the location of the prize in many games -- see the detailed specification below:"
     ]
    },
    {
     "cell_type": "code",
     "collapsed": false,
     "input": [
      "\"\"\"\n",
      "Function\n",
      "--------\n",
      "simulate_prizedoor\n",
      "\n",
      "Generate a random array of 0s, 1s, and 2s, representing\n",
      "hiding a prize between door 0, door 1, and door 2\n",
      "\n",
      "Parameters\n",
      "----------\n",
      "nsim : int\n",
      "    The number of simulations to run\n",
      "\n",
      "Returns\n",
      "-------\n",
      "sims : array\n",
      "    Random array of 0s, 1s, and 2s\n",
      "\n",
      "Example\n",
      "-------\n",
      ">>> print simulate_prizedoor(3)\n",
      "array([0, 0, 2])\n",
      "\"\"\"\n",
      "def simulate_prizedoor(nsim):\n",
      "    #compute here\n",
      "    answer = np.random.randint(3, size=nsim)\n",
      "    return answer\n",
      "#your code here\n",
      "prize = simulate_prizedoor(3)\n",
      "print prize"
     ],
     "language": "python",
     "metadata": {},
     "outputs": [
      {
       "output_type": "stream",
       "stream": "stdout",
       "text": [
        "[0 0 2]\n"
       ]
      }
     ],
     "prompt_number": 19
    },
    {
     "cell_type": "markdown",
     "metadata": {},
     "source": [
      "Next, write a function that simulates the contestant's guesses for `nsim` simulations. Call this function `simulate_guess`. The specs:"
     ]
    },
    {
     "cell_type": "code",
     "collapsed": false,
     "input": [
      "\"\"\"\n",
      "Function\n",
      "--------\n",
      "simulate_guess\n",
      "\n",
      "Return any strategy for guessing which door a prize is behind. This\n",
      "could be a random strategy, one that always guesses 2, whatever.\n",
      "\n",
      "Parameters\n",
      "----------\n",
      "nsim : int\n",
      "    The number of simulations to generate guesses for\n",
      "\n",
      "Returns\n",
      "-------\n",
      "guesses : array\n",
      "    An array of guesses. Each guess is a 0, 1, or 2\n",
      "\n",
      "Example\n",
      "-------\n",
      ">>> print simulate_guess(5)\n",
      "array([0, 0, 0, 0, 0])\n",
      "\"\"\"\n",
      "#your code here\n",
      "def simulate_guess(nsim):\n",
      "    guess = np.array([0,0,0])\n",
      "    return guess\n",
      "\n",
      "guess = simulate_guess(3)\n",
      "print guess"
     ],
     "language": "python",
     "metadata": {},
     "outputs": [
      {
       "output_type": "stream",
       "stream": "stdout",
       "text": [
        "[0 0 0]\n"
       ]
      }
     ],
     "prompt_number": 20
    },
    {
     "cell_type": "markdown",
     "metadata": {},
     "source": [
      "Next, write a function, `goat_door`, to simulate randomly revealing one of the goat doors that a contestant didn't pick."
     ]
    },
    {
     "cell_type": "code",
     "collapsed": false,
     "input": [
      "\"\"\"\n",
      "Function\n",
      "--------\n",
      "goat_door\n",
      "\n",
      "Simulate the opening of a \"goat door\" that doesn't contain the prize,\n",
      "and is different from the contestants guess\n",
      "\n",
      "Parameters\n",
      "----------\n",
      "prizedoors : array\n",
      "    The door that the prize is behind in each simulation\n",
      "guesses : array\n",
      "    THe door that the contestant guessed in each simulation\n",
      "\n",
      "Returns\n",
      "-------\n",
      "goats : array\n",
      "    The goat door that is opened for each simulation. Each item is 0, 1, or 2, and is different\n",
      "    from both prizedoors and guesses\n",
      "\n",
      "Examples\n",
      "--------\n",
      ">>> print goat_door(np.array([0, 1, 2]), np.array([1, 1, 1]))\n",
      ">>> array([2, 2, 0])\n",
      "\"\"\"\n",
      "#your code here\n",
      "def goat_door(prizedoors, guesses):\n",
      "    import random\n",
      "    \n",
      "    goat_drs = []\n",
      "    \n",
      "    for counter, guess in enumerate(guesses):\n",
      "        doors = [0,1,2]\n",
      "        \n",
      "        # two choices to pick from\n",
      "        if guess == prizedoors[counter]:\n",
      "            doors.remove(guess)\n",
      "            goat_dr = random.choice(doors)\n",
      "        # one choice to pick from\n",
      "        else:\n",
      "            doors.remove(guess)\n",
      "            doors.remove(prizedoors[counter])\n",
      "            goat_dr = doors[0]\n",
      "            \n",
      "        goat_drs.append(goat_dr)\n",
      "        \n",
      "    return np.array(goat_drs)\n",
      "     \n",
      "goatdoors = goat_door(prize,guess)\n",
      "print goatdoors\n",
      "    \n",
      "    "
     ],
     "language": "python",
     "metadata": {},
     "outputs": [
      {
       "output_type": "stream",
       "stream": "stdout",
       "text": [
        "[1 2 1]\n"
       ]
      }
     ],
     "prompt_number": 21
    },
    {
     "cell_type": "markdown",
     "metadata": {},
     "source": [
      "Write a function, `switch_guess`, that represents the strategy of always switching a guess after the goat door is opened."
     ]
    },
    {
     "cell_type": "code",
     "collapsed": false,
     "input": [
      "\"\"\"\n",
      "Function\n",
      "--------\n",
      "switch_guess\n",
      "\n",
      "The strategy that always switches a guess after the goat door is opened\n",
      "\n",
      "Parameters\n",
      "----------\n",
      "guesses : array\n",
      "     Array of original guesses, for each simulation\n",
      "goatdoors : array\n",
      "     Array of revealed goat doors for each simulation\n",
      "\n",
      "Returns\n",
      "-------\n",
      "The new door after switching. Should be different from both guesses and goatdoors\n",
      "\n",
      "Examples\n",
      "--------\n",
      ">>> print switch_guess(np.array([0, 1, 2]), np.array([1, 2, 1]))\n",
      ">>> array([2, 0, 0])\n",
      "\"\"\"\n",
      "#your code here\n",
      "def switch_guess(guesses,goatdoors):\n",
      "    switch = []\n",
      "    \n",
      "    for counter, guess in enumerate(guesses):\n",
      "        num = guess + goatdoors[counter]\n",
      "        switch.append(3 - num)\n",
      "    \n",
      "    return np.array(switch)\n",
      "    \n",
      "print guess\n",
      "print goatdoors\n",
      "switch = switch_guess(guess,goatdoors)\n",
      "print switch\n",
      "\n",
      "    "
     ],
     "language": "python",
     "metadata": {},
     "outputs": [
      {
       "output_type": "stream",
       "stream": "stdout",
       "text": [
        "[0 0 0]\n",
        "[1 2 1]\n",
        "[2 1 2]\n"
       ]
      }
     ],
     "prompt_number": 41
    },
    {
     "cell_type": "markdown",
     "metadata": {},
     "source": [
      "Last function: write a `win_percentage` function that takes an array of `guesses` and `prizedoors`, and returns the percent of correct guesses"
     ]
    },
    {
     "cell_type": "code",
     "collapsed": false,
     "input": [
      "\"\"\"\n",
      "Function\n",
      "--------\n",
      "win_percentage\n",
      "\n",
      "Calculate the percent of times that a simulation of guesses is correct\n",
      "\n",
      "Parameters\n",
      "-----------\n",
      "guesses : array\n",
      "    Guesses for each simulation\n",
      "prizedoors : array\n",
      "    Location of prize for each simulation\n",
      "\n",
      "Returns\n",
      "--------\n",
      "percentage : number between 0 and 100\n",
      "    The win percentage\n",
      "\n",
      "Examples\n",
      "---------\n",
      ">>> print win_percentage(np.array([0, 1, 2]), np.array([0, 0, 0]))\n",
      "33.333\n",
      "\"\"\"\n",
      "#your code here\n",
      "def win_percentage(guesses,prizedoors):\n",
      "    win = []\n",
      "    \n",
      "    for counter, guess in enumerate(guesses):\n",
      "        if guess == prizedoors[counter]:\n",
      "            win.append(1)\n",
      "        else:\n",
      "            win.append(0)\n",
      "            \n",
      "    perc = (1.*sum(win))/len(win)\n",
      "    \n",
      "    return perc\n",
      "\n",
      "print win_percentage(guess,prize)\n",
      "print win_percentage(switch,prize)"
     ],
     "language": "python",
     "metadata": {},
     "outputs": [
      {
       "output_type": "stream",
       "stream": "stdout",
       "text": [
        "0.666666666667\n",
        "0.333333333333\n"
       ]
      }
     ],
     "prompt_number": 42
    },
    {
     "cell_type": "markdown",
     "metadata": {},
     "source": [
      "Now, put it together. Simulate 10000 games where contestant keeps his original guess, and 10000 games where the contestant switches his door after a  goat door is revealed. Compute the percentage of time the contestant wins under either strategy. Is one strategy better than the other?"
     ]
    },
    {
     "cell_type": "code",
     "collapsed": false,
     "input": [
      "#your code here\n",
      "games = 10000\n",
      "\n",
      "prize = simulate_prizedoor(games)\n",
      "guess = simulate_guess(games)\n",
      "\n",
      "goatdoors = goat_door(prize,guess)\n",
      "switch = switch_guess(guess,goatdoors)\n",
      "\n",
      "print win_percentage(guess,prize)\n",
      "print win_percentage(switch,prize)"
     ],
     "language": "python",
     "metadata": {},
     "outputs": [
      {
       "output_type": "stream",
       "stream": "stdout",
       "text": [
        "0.333333333333\n",
        "0.666666666667\n"
       ]
      }
     ],
     "prompt_number": 43
    },
    {
     "cell_type": "markdown",
     "metadata": {},
     "source": [
      "Many people find this answer counter-intuitive (famously, PhD mathematicians have incorrectly claimed the result must be wrong. Clearly, none of them knew Python). \n",
      "\n",
      "One of the best ways to build intuition about why opening a Goat door affects the odds is to re-run the experiment with 100 doors and one prize. If the game show host opens 98 goat doors after you make your initial selection, would you want to keep your first pick or switch? Can you generalize your simulation code to handle the case of `n` doors?"
     ]
    }
   ],
   "metadata": {}
  }
 ]
=======
{
 "metadata": {
  "name": "",
  "signature": "sha256:c3f92e6bccbb7ccb12ea954ec371279a425ebc3a89a106ba24a757e98c332cde"
 },
 "nbformat": 3,
 "nbformat_minor": 0,
 "worksheets": [
  {
   "cells": [
    {
     "cell_type": "markdown",
     "metadata": {},
     "source": [
      "# Homework 0\n",
      "\n",
      "### Due Tuesday, September 9, 2014 (but no submission is required)\n",
      "\n",
      "---\n",
      "\n",
      "Welcome to CS109 / STAT121 / AC209 / E-109 (http://cs109.github.io/2014/).  In this class, we will be using a variety of tools that will require some initial configuration. To ensure everything goes smoothly moving forward, we will setup the majority of those tools in this homework. While some of this will likely be dull, doing it now will enable us to do more exciting work in the weeks that follow without getting bogged down in further software configuration. This homework will not be graded, however it is essential that you complete it timely since it will enable us to set up your accounts. You do not have to hand anything in, with the exception of filling out the online survey. \n",
      "\n",
      "## Class Survey, Piazza, and Introduction\n",
      "\n",
      "**Class Survey**\n",
      "\n",
      "Please complete the mandatory course survey located [here](https://docs.google.com/forms/d/1uAxk4am1HZFh15Y8zdGpBm5hGTTmX3IGkBkD3foTbv0/viewform?usp=send_form). It should only take a few moments of your time. Once you fill in the survey we will sign you up to the course forum on Piazza and the dropbox system that you will use to hand in the homework. It is imperative that you fill out the survey on time as we use the provided information to sign you up for these services. \n",
      "\n",
      "**Piazza**\n",
      "\n",
      "Go to [Piazza](https://piazza.com/harvard/fall2014/cs109) and sign up for the class using your Harvard e-mail address. \n",
      "\n",
      "You will use Piazza as a forum for discussion, to find team members, to arrange appointments, and to ask questions. Piazza should be your primary form of communication with the staff. Use the staff e-mail (staff@cs109.org) only for individual requests, e.g., to excuse yourself from a mandatory guest lecture. All homeworks, and project descriptions will be announced on Piazza first. \n",
      "\n",
      "**Introduction**\n",
      "\n",
      "Once you are signed up to the Piazza course forum, introduce yourself to your classmates and course staff with a follow-up post in the introduction thread. Include your name/nickname, your affiliation, why you are taking this course, and tell us something interesting about yourself (e.g., an industry job, an unusual hobby, past travels, or a cool project you did, etc.). Also tell us whether you have experience with data science. \n",
      "\n",
      "## Programming expectations\n",
      "\n",
      "All the assignments and labs for this class will use Python and, for the most part, the browser-based IPython notebook format you are currently viewing. Knowledge of Python is not a prerequisite for this course, **provided you are comfortable learning on your own as needed**. While we have strived to make the programming component of this course straightforward, we will not devote much time to teaching prorgramming or Python syntax. Basically, you should feel comfortable with:\n",
      "\n",
      "* How to look up Python syntax on Google and StackOverflow.\n",
      "* Basic programming concepts like functions, loops, arrays, dictionaries, strings, and if statements.\n",
      "* How to learn new libraries by reading documentation.\n",
      "* Asking questions on StackOverflow or Piazza.\n",
      "\n",
      "There are many online tutorials to introduce you to scientific python programming. [Here is one](https://github.com/jrjohansson/scientific-python-lectures) that is very nice. Lectures 1-4 are most relevant to this class.\n",
      "\n",
      "## Getting Python\n",
      "\n",
      "You will be using Python throughout the course, including many popular 3rd party Python libraries for scientific computing. [Anaconda](http://continuum.io/downloads) is an easy-to-install bundle of Python and most of these libraries. We recommend that you use Anaconda for this course.\n",
      "\n",
      "Please visit [this page](https://github.com/cs109/content/wiki/Installing-Python) and follow the instructions to set up Python.\n",
      "\n",
      "<hline>\n",
      "\n",
      "## Hello, Python\n",
      "\n",
      "The IPython notebook is an application to build interactive computational notebooks. You'll be using them to complete labs and homework. Once you've set up Python, please download this HW0 ipython notebook and open it with IPython by typing\n",
      "\n",
      "```\n",
      "ipython notebook <name_of_downloaded_file>\n",
      "```\n",
      "\n",
      "For the rest of the assignment, use your local copy of this page, running on IPython.\n",
      "\n",
      "Notebooks are composed of many \"cells\", which can contain text (like this one), or code (like the one below). Double click on the cell below, and evaluate it by clicking the \"play\" button above, or by hitting shift + enter"
     ]
    },
    {
     "cell_type": "code",
     "collapsed": false,
     "input": [
      "x = [10, 20, 30, 40, 50]\n",
      "for item in x:\n",
      "    print \"Item is \", item"
     ],
     "language": "python",
     "metadata": {},
     "outputs": [
      {
       "output_type": "stream",
       "stream": "stdout",
       "text": [
        "Item is  10\n",
        "Item is  20\n",
        "Item is  30\n",
        "Item is  40\n",
        "Item is  50\n"
       ]
      }
     ],
     "prompt_number": 1
    },
    {
     "cell_type": "markdown",
     "metadata": {},
     "source": [
      "## Python Libraries\n",
      "\n",
      "We will be using a several different libraries throughout this course. If you've successfully completed the [installation instructions](https://github.com/cs109/content/wiki/Installing-Python), all of the following statements should run."
     ]
    },
    {
     "cell_type": "code",
     "collapsed": false,
     "input": [
      "#IPython is what you are using now to run the notebook\n",
      "import IPython\n",
      "print \"IPython version:      %6.6s (need at least 1.0)\" % IPython.__version__\n",
      "\n",
      "# Numpy is a library for working with Arrays\n",
      "import numpy as np\n",
      "print \"Numpy version:        %6.6s (need at least 1.7.1)\" % np.__version__\n",
      "\n",
      "# SciPy implements many different numerical algorithms\n",
      "import scipy as sp\n",
      "print \"SciPy version:        %6.6s (need at least 0.12.0)\" % sp.__version__\n",
      "\n",
      "# Pandas makes working with data tables easier\n",
      "import pandas as pd\n",
      "print \"Pandas version:       %6.6s (need at least 0.11.0)\" % pd.__version__\n",
      "\n",
      "# Module for plotting\n",
      "import matplotlib\n",
      "print \"Mapltolib version:    %6.6s (need at least 1.2.1)\" % matplotlib.__version__\n",
      "\n",
      "# SciKit Learn implements several Machine Learning algorithms\n",
      "import sklearn\n",
      "print \"Scikit-Learn version: %6.6s (need at least 0.13.1)\" % sklearn.__version__\n",
      "\n",
      "# Requests is a library for getting data from the Web\n",
      "import requests\n",
      "print \"requests version:     %6.6s (need at least 1.2.3)\" % requests.__version__\n",
      "\n",
      "# Networkx is a library for working with networks\n",
      "import networkx as nx\n",
      "print \"NetworkX version:     %6.6s (need at least 1.7)\" % nx.__version__\n",
      "\n",
      "#BeautifulSoup is a library to parse HTML and XML documents\n",
      "import bs4\n",
      "print \"BeautifulSoup version:%6.6s (need at least 4.0)\" % bs4.__version__\n",
      "\n",
      "#MrJob is a library to run map reduce jobs on Amazon's computers\n",
      "import mrjob\n",
      "print \"Mr Job version:       %6.6s (need at least 0.4)\" % mrjob.__version__\n",
      "\n",
      "#Pattern has lots of tools for working with data from the internet\n",
      "import pattern\n",
      "print \"Pattern version:      %6.6s (need at least 2.6)\" % pattern.__version__\n",
      "\n",
      "#Seaborn is a nice library for visualizations\n",
      "import seaborn\n",
      "print \"Seaborn version:      %6.6s (need at least 0.3.1)\" % seaborn.__version__"
     ],
     "language": "python",
     "metadata": {},
     "outputs": [
      {
       "output_type": "stream",
       "stream": "stdout",
       "text": [
        "IPython version:       2.1.0 (need at least 1.0)\n",
        "Numpy version:         1.8.1 (need at least 1.7.1)\n",
        "SciPy version:        0.14.0 (need at least 0.12.0)\n",
        "Pandas version:       0.14.0 (need at least 0.11.0)\n",
        "Mapltolib version:     1.3.1 (need at least 1.2.1)\n",
        "Scikit-Learn version: 0.14.1 (need at least 0.13.1)\n",
        "requests version:      2.3.0 (need at least 1.2.3)\n",
        "NetworkX version:      1.8.1 (need at least 1.7)\n",
        "BeautifulSoup version: 4.3.1 (need at least 3.2)\n",
        "Mr Job version:        0.4.2 (need at least 0.4)\n",
        "Pattern version:         2.6 (need at least 2.6)\n",
        "Seaborn version:       0.3.1 (need at least 0.3.1)\n"
       ]
      }
     ],
     "prompt_number": 10
    },
    {
     "cell_type": "markdown",
     "metadata": {},
     "source": [
      "If any of these libraries are missing or out of date, you will need to [install them](https://github.com/cs109/content/wiki/Installing-Python#installing-additional-libraries) and restart IPython"
     ]
    },
    {
     "cell_type": "markdown",
     "metadata": {},
     "source": [
      "## Hello matplotlib"
     ]
    },
    {
     "cell_type": "markdown",
     "metadata": {},
     "source": [
      "The notebook integrates nicely with Matplotlib, the primary plotting package for python. This should embed a figure of a sine wave:"
     ]
    },
    {
     "cell_type": "code",
     "collapsed": false,
     "input": [
      "#this line prepares IPython for working with matplotlib\n",
      "%matplotlib inline  \n",
      "\n",
      "# this actually imports matplotlib\n",
      "import matplotlib.pyplot as plt  \n",
      "\n",
      "x = np.linspace(0, 10, 30)  #array of 30 points from 0 to 10\n",
      "y = np.sin(x)\n",
      "z = y + np.random.normal(size=30) * .2\n",
      "plt.plot(x, y, 'ro-', label='A sine wave')\n",
      "plt.plot(x, z, 'b-', label='Noisy sine')\n",
      "plt.legend(loc = 'lower right')\n",
      "plt.xlabel(\"X axis\")\n",
      "plt.ylabel(\"Y axis\")           "
     ],
     "language": "python",
     "metadata": {},
     "outputs": [
      {
       "metadata": {},
       "output_type": "pyout",
       "prompt_number": 11,
       "text": [
        "<matplotlib.text.Text at 0xc17c8d0>"
       ]
      },
      {
       "metadata": {},
       "output_type": "display_data",
       "png": "iVBORw0KGgoAAAANSUhEUgAAAYoAAAERCAYAAABl3+CQAAAABHNCSVQICAgIfAhkiAAAAAlwSFlz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\nQmCC\n",
       "text": [
        "<matplotlib.figure.Figure at 0x36ec978>"
       ]
      }
     ],
     "prompt_number": 11
    },
    {
     "cell_type": "markdown",
     "metadata": {},
     "source": [
      "If that last cell complained about the `%matplotlib` line, you need to update IPython to v1.0, and restart the notebook. See the [installation page](https://github.com/cs109/content/wiki/Installing-Python)"
     ]
    },
    {
     "cell_type": "markdown",
     "metadata": {},
     "source": [
      "## Hello Numpy\n",
      "\n",
      "The Numpy array processing library is the basis of nearly all numerical computing in Python. Here's a 30 second crash course. For more details, consult Chapter 4 of Python for Data Analysis, or the [Numpy User's Guide](http://docs.scipy.org/doc/numpy-dev/user/index.html)"
     ]
    },
    {
     "cell_type": "code",
     "collapsed": false,
     "input": [
      "print \"Make a 3 row x 4 column array of random numbers\"\n",
      "x = np.random.random((3, 4))\n",
      "print x\n",
      "print\n",
      "\n",
      "print \"Add 1 to every element\"\n",
      "x = x + 1\n",
      "print x\n",
      "print\n",
      "\n",
      "print \"Get the element at row 1, column 2\"\n",
      "print x[1, 2]\n",
      "print\n",
      "\n",
      "# The colon syntax is called \"slicing\" the array. \n",
      "print \"Get the first row\"\n",
      "print x[0, :]\n",
      "print\n",
      "\n",
      "print \"Get every 2nd column of the first row\"\n",
      "print x[0, ::2]\n",
      "print"
     ],
     "language": "python",
     "metadata": {},
     "outputs": [
      {
       "output_type": "stream",
       "stream": "stdout",
       "text": [
        "Make a 3 row x 4 column array of random numbers\n",
        "[[ 0.60055802  0.71333873  0.25148143  0.53201881]\n",
        " [ 0.25098112  0.59223546  0.91753216  0.26645571]\n",
        " [ 0.59649042  0.86196867  0.16560765  0.51400996]]\n",
        "\n",
        "Add 1 to every element\n",
        "[[ 1.60055802  1.71333873  1.25148143  1.53201881]\n",
        " [ 1.25098112  1.59223546  1.91753216  1.26645571]\n",
        " [ 1.59649042  1.86196867  1.16560765  1.51400996]]\n",
        "\n",
        "Get the element at row 1, column 2\n",
        "1.91753215518\n",
        "\n",
        "Get the first row\n",
        "[ 1.60055802  1.71333873  1.25148143  1.53201881]\n",
        "\n",
        "Get every 2nd column of the first row\n",
        "[ 1.60055802  1.25148143]\n",
        "\n"
       ]
      }
     ],
     "prompt_number": 12
    },
    {
     "cell_type": "markdown",
     "metadata": {},
     "source": [
      "Print the maximum, minimum, and mean of the array. This does **not** require writing a loop. In the code cell below, type `x.m<TAB>`, to find built-in operations for common array statistics like this"
     ]
    },
    {
     "cell_type": "code",
     "collapsed": false,
     "input": [
      "#your code here\n"
     ],
     "language": "python",
     "metadata": {},
     "outputs": [],
     "prompt_number": 5
    },
    {
     "cell_type": "markdown",
     "metadata": {},
     "source": [
      "Call the `x.max` function again, but use the `axis` keyword to print the maximum of each row in x."
     ]
    },
    {
     "cell_type": "code",
     "collapsed": false,
     "input": [
      "#your code here\n"
     ],
     "language": "python",
     "metadata": {},
     "outputs": [],
     "prompt_number": 6
    },
    {
     "cell_type": "markdown",
     "metadata": {},
     "source": [
      "Here's a way to quickly simulate 500 coin \"fair\" coin tosses (where the probabily of getting Heads is 50%, or 0.5)"
     ]
    },
    {
     "cell_type": "code",
     "collapsed": false,
     "input": [
      "x = np.random.binomial(500, .5)\n",
      "print \"number of heads:\", x"
     ],
     "language": "python",
     "metadata": {},
     "outputs": [],
     "prompt_number": 7
    },
    {
     "cell_type": "markdown",
     "metadata": {},
     "source": [
      "Repeat this simulation 500 times, and use the [plt.hist() function](http://matplotlib.org/api/pyplot_api.html#matplotlib.pyplot.hist) to plot a histogram of the number of Heads (1s) in each simulation"
     ]
    },
    {
     "cell_type": "code",
     "collapsed": false,
     "input": [
      "#your code here\n"
     ],
     "language": "python",
     "metadata": {},
     "outputs": [],
     "prompt_number": 8
    },
    {
     "cell_type": "markdown",
     "metadata": {},
     "source": [
      "## The Monty Hall Problem\n",
      "\n",
      "\n",
      "Here's a fun and perhaps surprising statistical riddle, and a good way to get some practice writing python functions\n",
      "\n",
      "In a gameshow, contestants try to guess which of 3 closed doors contain a cash prize (goats are behind the other two doors). Of course, the odds of choosing the correct door are 1 in 3. As a twist, the host of the show occasionally opens a door after a contestant makes his or her choice. This door is always one of the two the contestant did not pick, and is also always one of the goat doors (note that it is always possible to do this, since there are two goat doors). At this point, the contestant has the option of keeping his or her original choice, or swtiching to the other unopened door. The question is: is there any benefit to switching doors? The answer surprises many people who haven't heard the question before.\n",
      "\n",
      "We can answer the problem by running simulations in Python. We'll do it in several parts.\n",
      "\n",
      "First, write a function called `simulate_prizedoor`. This function will simulate the location of the prize in many games -- see the detailed specification below:"
     ]
    },
    {
     "cell_type": "code",
     "collapsed": false,
     "input": [
      "\"\"\"\n",
      "Function\n",
      "--------\n",
      "simulate_prizedoor\n",
      "\n",
      "Generate a random array of 0s, 1s, and 2s, representing\n",
      "hiding a prize between door 0, door 1, and door 2\n",
      "\n",
      "Parameters\n",
      "----------\n",
      "nsim : int\n",
      "    The number of simulations to run\n",
      "\n",
      "Returns\n",
      "-------\n",
      "sims : array\n",
      "    Random array of 0s, 1s, and 2s\n",
      "\n",
      "Example\n",
      "-------\n",
      ">>> print simulate_prizedoor(3)\n",
      "array([0, 0, 2])\n",
      "\"\"\"\n",
      "def simulate_prizedoor(nsim):\n",
      "    #compute here\n",
      "    return answer\n",
      "#your code here\n"
     ],
     "language": "python",
     "metadata": {},
     "outputs": [],
     "prompt_number": 9
    },
    {
     "cell_type": "markdown",
     "metadata": {},
     "source": [
      "Next, write a function that simulates the contestant's guesses for `nsim` simulations. Call this function `simulate_guess`. The specs:"
     ]
    },
    {
     "cell_type": "code",
     "collapsed": false,
     "input": [
      "\"\"\"\n",
      "Function\n",
      "--------\n",
      "simulate_guess\n",
      "\n",
      "Return any strategy for guessing which door a prize is behind. This\n",
      "could be a random strategy, one that always guesses 2, whatever.\n",
      "\n",
      "Parameters\n",
      "----------\n",
      "nsim : int\n",
      "    The number of simulations to generate guesses for\n",
      "\n",
      "Returns\n",
      "-------\n",
      "guesses : array\n",
      "    An array of guesses. Each guess is a 0, 1, or 2\n",
      "\n",
      "Example\n",
      "-------\n",
      ">>> print simulate_guess(5)\n",
      "array([0, 0, 0, 0, 0])\n",
      "\"\"\"\n",
      "#your code here\n"
     ],
     "language": "python",
     "metadata": {},
     "outputs": [],
     "prompt_number": 10
    },
    {
     "cell_type": "markdown",
     "metadata": {},
     "source": [
      "Next, write a function, `goat_door`, to simulate randomly revealing one of the goat doors that a contestant didn't pick."
     ]
    },
    {
     "cell_type": "code",
     "collapsed": false,
     "input": [
      "\"\"\"\n",
      "Function\n",
      "--------\n",
      "goat_door\n",
      "\n",
      "Simulate the opening of a \"goat door\" that doesn't contain the prize,\n",
      "and is different from the contestants guess\n",
      "\n",
      "Parameters\n",
      "----------\n",
      "prizedoors : array\n",
      "    The door that the prize is behind in each simulation\n",
      "guesses : array\n",
      "    THe door that the contestant guessed in each simulation\n",
      "\n",
      "Returns\n",
      "-------\n",
      "goats : array\n",
      "    The goat door that is opened for each simulation. Each item is 0, 1, or 2, and is different\n",
      "    from both prizedoors and guesses\n",
      "\n",
      "Examples\n",
      "--------\n",
      ">>> print goat_door(np.array([0, 1, 2]), np.array([1, 1, 1]))\n",
      ">>> array([2, 2, 0])\n",
      "\"\"\"\n",
      "#your code here\n"
     ],
     "language": "python",
     "metadata": {},
     "outputs": [],
     "prompt_number": 11
    },
    {
     "cell_type": "markdown",
     "metadata": {},
     "source": [
      "Write a function, `switch_guess`, that represents the strategy of always switching a guess after the goat door is opened."
     ]
    },
    {
     "cell_type": "code",
     "collapsed": false,
     "input": [
      "\"\"\"\n",
      "Function\n",
      "--------\n",
      "switch_guess\n",
      "\n",
      "The strategy that always switches a guess after the goat door is opened\n",
      "\n",
      "Parameters\n",
      "----------\n",
      "guesses : array\n",
      "     Array of original guesses, for each simulation\n",
      "goatdoors : array\n",
      "     Array of revealed goat doors for each simulation\n",
      "\n",
      "Returns\n",
      "-------\n",
      "The new door after switching. Should be different from both guesses and goatdoors\n",
      "\n",
      "Examples\n",
      "--------\n",
      ">>> print switch_guess(np.array([0, 1, 2]), np.array([1, 2, 1]))\n",
      ">>> array([2, 0, 0])\n",
      "\"\"\"\n",
      "#your code here\n"
     ],
     "language": "python",
     "metadata": {},
     "outputs": [],
     "prompt_number": 12
    },
    {
     "cell_type": "markdown",
     "metadata": {},
     "source": [
      "Last function: write a `win_percentage` function that takes an array of `guesses` and `prizedoors`, and returns the percent of correct guesses"
     ]
    },
    {
     "cell_type": "code",
     "collapsed": false,
     "input": [
      "\"\"\"\n",
      "Function\n",
      "--------\n",
      "win_percentage\n",
      "\n",
      "Calculate the percent of times that a simulation of guesses is correct\n",
      "\n",
      "Parameters\n",
      "-----------\n",
      "guesses : array\n",
      "    Guesses for each simulation\n",
      "prizedoors : array\n",
      "    Location of prize for each simulation\n",
      "\n",
      "Returns\n",
      "--------\n",
      "percentage : number between 0 and 100\n",
      "    The win percentage\n",
      "\n",
      "Examples\n",
      "---------\n",
      ">>> print win_percentage(np.array([0, 1, 2]), np.array([0, 0, 0]))\n",
      "33.333\n",
      "\"\"\"\n",
      "#your code here\n"
     ],
     "language": "python",
     "metadata": {},
     "outputs": [],
     "prompt_number": 13
    },
    {
     "cell_type": "markdown",
     "metadata": {},
     "source": [
      "Now, put it together. Simulate 10000 games where contestant keeps his original guess, and 10000 games where the contestant switches his door after a  goat door is revealed. Compute the percentage of time the contestant wins under either strategy. Is one strategy better than the other?"
     ]
    },
    {
     "cell_type": "code",
     "collapsed": false,
     "input": [
      "#your code here\n"
     ],
     "language": "python",
     "metadata": {},
     "outputs": [],
     "prompt_number": 14
    },
    {
     "cell_type": "markdown",
     "metadata": {},
     "source": [
      "Many people find this answer counter-intuitive (famously, PhD mathematicians have incorrectly claimed the result must be wrong. Clearly, none of them knew Python). \n",
      "\n",
      "One of the best ways to build intuition about why opening a Goat door affects the odds is to re-run the experiment with 100 doors and one prize. If the game show host opens 98 goat doors after you make your initial selection, would you want to keep your first pick or switch? Can you generalize your simulation code to handle the case of `n` doors?"
     ]
    }
   ],
   "metadata": {}
  }
 ]
>>>>>>> upstream/master
}