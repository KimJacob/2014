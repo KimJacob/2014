<<<<<<< HEAD
{
 "metadata": {
  "name": "",
  "signature": "sha256:79fd153a6c497e2cecca8767d0266985feb4a1fc815dadf0c8d330b2ff4eb3db"
=======
<<<<<<< HEAD
{
 "metadata": {
  "name": "",
  "signature": "sha256:c3f92e6bccbb7ccb12ea954ec371279a425ebc3a89a106ba24a757e98c332cde"
>>>>>>> upstream/master
 },
 "nbformat": 3,
 "nbformat_minor": 0,
 "worksheets": [
  {
   "cells": [
    {
     "cell_type": "markdown",
     "metadata": {},
     "source": [
      "# Homework 0\n",
      "\n",
      "### Due Tuesday, September 9, 2014 (but no submission is required)\n",
      "\n",
      "---\n",
      "\n",
      "Welcome to CS109 / STAT121 / AC209 / E-109 (http://cs109.github.io/2014/).  In this class, we will be using a variety of tools that will require some initial configuration. To ensure everything goes smoothly moving forward, we will setup the majority of those tools in this homework. While some of this will likely be dull, doing it now will enable us to do more exciting work in the weeks that follow without getting bogged down in further software configuration. This homework will not be graded, however it is essential that you complete it timely since it will enable us to set up your accounts. You do not have to hand anything in, with the exception of filling out the online survey. \n",
      "\n",
      "## Class Survey, Piazza, and Introduction\n",
      "\n",
      "**Class Survey**\n",
      "\n",
      "Please complete the mandatory course survey located [here](https://docs.google.com/forms/d/1uAxk4am1HZFh15Y8zdGpBm5hGTTmX3IGkBkD3foTbv0/viewform?usp=send_form). It should only take a few moments of your time. Once you fill in the survey we will sign you up to the course forum on Piazza and the dropbox system that you will use to hand in the homework. It is imperative that you fill out the survey on time as we use the provided information to sign you up for these services. \n",
      "\n",
      "**Piazza**\n",
      "\n",
      "Go to [Piazza](https://piazza.com/harvard/fall2014/cs109) and sign up for the class using your Harvard e-mail address. \n",
      "\n",
      "You will use Piazza as a forum for discussion, to find team members, to arrange appointments, and to ask questions. Piazza should be your primary form of communication with the staff. Use the staff e-mail (staff@cs109.org) only for individual requests, e.g., to excuse yourself from a mandatory guest lecture. All homeworks, and project descriptions will be announced on Piazza first. \n",
      "\n",
      "**Introduction**\n",
      "\n",
      "Once you are signed up to the Piazza course forum, introduce yourself to your classmates and course staff with a follow-up post in the introduction thread. Include your name/nickname, your affiliation, why you are taking this course, and tell us something interesting about yourself (e.g., an industry job, an unusual hobby, past travels, or a cool project you did, etc.). Also tell us whether you have experience with data science. \n",
      "\n",
      "## Programming expectations\n",
      "\n",
      "All the assignments and labs for this class will use Python and, for the most part, the browser-based IPython notebook format you are currently viewing. Knowledge of Python is not a prerequisite for this course, **provided you are comfortable learning on your own as needed**. While we have strived to make the programming component of this course straightforward, we will not devote much time to teaching prorgramming or Python syntax. Basically, you should feel comfortable with:\n",
      "\n",
      "* How to look up Python syntax on Google and StackOverflow.\n",
      "* Basic programming concepts like functions, loops, arrays, dictionaries, strings, and if statements.\n",
      "* How to learn new libraries by reading documentation.\n",
      "* Asking questions on StackOverflow or Piazza.\n",
      "\n",
      "There are many online tutorials to introduce you to scientific python programming. [Here is one](https://github.com/jrjohansson/scientific-python-lectures) that is very nice. Lectures 1-4 are most relevant to this class.\n",
      "\n",
      "## Getting Python\n",
      "\n",
      "You will be using Python throughout the course, including many popular 3rd party Python libraries for scientific computing. [Anaconda](http://continuum.io/downloads) is an easy-to-install bundle of Python and most of these libraries. We recommend that you use Anaconda for this course.\n",
      "\n",
      "Please visit [this page](https://github.com/cs109/content/wiki/Installing-Python) and follow the instructions to set up Python.\n",
      "\n",
      "<hline>\n",
      "\n",
      "## Hello, Python\n",
      "\n",
      "The IPython notebook is an application to build interactive computational notebooks. You'll be using them to complete labs and homework. Once you've set up Python, please download this HW0 ipython notebook and open it with IPython by typing\n",
      "\n",
      "```\n",
      "ipython notebook <name_of_downloaded_file>\n",
      "```\n",
      "\n",
      "For the rest of the assignment, use your local copy of this page, running on IPython.\n",
      "\n",
      "Notebooks are composed of many \"cells\", which can contain text (like this one), or code (like the one below). Double click on the cell below, and evaluate it by clicking the \"play\" button above, or by hitting shift + enter"
     ]
    },
    {
     "cell_type": "code",
     "collapsed": false,
     "input": [
      "x = [10, 20, 30, 40, 50]\n",
      "for item in x:\n",
      "    print \"Item is \", item"
     ],
     "language": "python",
     "metadata": {},
     "outputs": [
      {
       "output_type": "stream",
       "stream": "stdout",
       "text": [
        "Item is  10\n",
        "Item is  20\n",
        "Item is  30\n",
        "Item is  40\n",
        "Item is  50\n"
       ]
      }
     ],
     "prompt_number": 1
    },
    {
     "cell_type": "markdown",
     "metadata": {},
     "source": [
      "## Python Libraries\n",
      "\n",
      "We will be using a several different libraries throughout this course. If you've successfully completed the [installation instructions](https://github.com/cs109/content/wiki/Installing-Python), all of the following statements should run."
     ]
    },
    {
     "cell_type": "code",
     "collapsed": false,
     "input": [
      "#IPython is what you are using now to run the notebook\n",
      "import IPython\n",
      "print \"IPython version:      %6.6s (need at least 1.0)\" % IPython.__version__\n",
      "\n",
      "# Numpy is a library for working with Arrays\n",
      "import numpy as np\n",
      "print \"Numpy version:        %6.6s (need at least 1.7.1)\" % np.__version__\n",
      "\n",
      "# SciPy implements many different numerical algorithms\n",
      "import scipy as sp\n",
      "print \"SciPy version:        %6.6s (need at least 0.12.0)\" % sp.__version__\n",
      "\n",
      "# Pandas makes working with data tables easier\n",
      "import pandas as pd\n",
      "print \"Pandas version:       %6.6s (need at least 0.11.0)\" % pd.__version__\n",
      "\n",
      "# Module for plotting\n",
      "import matplotlib\n",
      "print \"Mapltolib version:    %6.6s (need at least 1.2.1)\" % matplotlib.__version__\n",
      "\n",
      "# SciKit Learn implements several Machine Learning algorithms\n",
      "import sklearn\n",
      "print \"Scikit-Learn version: %6.6s (need at least 0.13.1)\" % sklearn.__version__\n",
      "\n",
      "# Requests is a library for getting data from the Web\n",
      "import requests\n",
      "print \"requests version:     %6.6s (need at least 1.2.3)\" % requests.__version__\n",
      "\n",
      "# Networkx is a library for working with networks\n",
<<<<<<< HEAD
      "import networkx as nx\n",
      "print \"NetworkX version:     %6.6s (need at least 1.7)\" % nx.__version__\n",
      "\n",
      "#BeautifulSoup is a library to parse HTML and XML documents\n",
      "import bs4\n",
      "print \"BeautifulSoup version:%6.6s (need at least 3.2)\" % bs4.__version__\n",
      "\n",
      "#MrJob is a library to run map reduce jobs on Amazon's computers\n",
      "import mrjob\n",
      "print \"Mr Job version:       %6.6s (need at least 0.4)\" % mrjob.__version__\n",
=======
      "# import networkx as nx\n",
      "# print \"NetworkX version:     %6.6s (need at least 1.7)\" % nx.__version__\n",
      "\n",
      "#BeautifulSoup is a library to parse HTML and XML documents\n",
      "import bs4\n",
      "print \"BeautifulSoup version:%6.6s (need at least 4.0)\" % bs4.__version__\n",
      "\n",
      "#MrJob is a library to run map reduce jobs on Amazon's computers\n",
      "# import mrjob\n",
      "# print \"Mr Job version:       %6.6s (need at least 0.4)\" % mrjob.__version__\n",
>>>>>>> upstream/master
      "\n",
      "#Pattern has lots of tools for working with data from the internet\n",
      "import pattern\n",
      "print \"Pattern version:      %6.6s (need at least 2.6)\" % pattern.__version__\n",
      "\n",
      "#Seaborn is a nice library for visualizations\n",
      "import seaborn\n",
      "print \"Seaborn version:      %6.6s (need at least 0.3.1)\" % seaborn.__version__"
     ],
     "language": "python",
     "metadata": {},
     "outputs": [
      {
<<<<<<< HEAD
       "output_type": "stream",
       "stream": "stdout",
       "text": [
        "IPython version:       2.2.0 (need at least 1.0)\n",
        "Numpy version:         1.8.1 (need at least 1.7.1)"
       ]
      },
      {
       "output_type": "stream",
       "stream": "stdout",
       "text": [
        "\n",
        "SciPy version:        0.14.0 (need at least 0.12.0)\n",
        "Pandas version:       0.13.0 (need at least 0.11.0)"
=======
       "ename": "ImportError",
       "evalue": "No module named pattern",
       "output_type": "pyerr",
       "traceback": [
        "\u001b[0;31m---------------------------------------------------------------------------\u001b[0m\n\u001b[0;31mImportError\u001b[0m                               Traceback (most recent call last)",
        "\u001b[0;32m<ipython-input-5-866a670aaf39>\u001b[0m in \u001b[0;36m<module>\u001b[0;34m()\u001b[0m\n\u001b[1;32m     40\u001b[0m \u001b[0;34m\u001b[0m\u001b[0m\n\u001b[1;32m     41\u001b[0m \u001b[0;31m#Pattern has lots of tools for working with data from the internet\u001b[0m\u001b[0;34m\u001b[0m\u001b[0;34m\u001b[0m\u001b[0m\n\u001b[0;32m---> 42\u001b[0;31m \u001b[0;32mimport\u001b[0m \u001b[0mpattern\u001b[0m\u001b[0;34m\u001b[0m\u001b[0m\n\u001b[0m\u001b[1;32m     43\u001b[0m \u001b[0;32mprint\u001b[0m \u001b[0;34m\"Pattern version:      %6.6s (need at least 2.6)\"\u001b[0m \u001b[0;34m%\u001b[0m \u001b[0mpattern\u001b[0m\u001b[0;34m.\u001b[0m\u001b[0m__version__\u001b[0m\u001b[0;34m\u001b[0m\u001b[0m\n\u001b[1;32m     44\u001b[0m \u001b[0;34m\u001b[0m\u001b[0m\n",
        "\u001b[0;31mImportError\u001b[0m: No module named pattern"
>>>>>>> upstream/master
       ]
      },
      {
       "output_type": "stream",
       "stream": "stdout",
       "text": [
<<<<<<< HEAD
        "\n",
        "Mapltolib version:     1.3.1 (need at least 1.2.1)\n",
        "Scikit-Learn version: 0.14.1 (need at least 0.13.1)"
       ]
      },
      {
       "output_type": "stream",
       "stream": "stdout",
       "text": [
        "\n",
        "requests version:      2.3.0 (need at least 1.2.3)\n",
        "NetworkX version:        1.9 (need at least 1.7)"
       ]
      },
      {
       "output_type": "stream",
       "stream": "stdout",
       "text": [
        "\n",
        "BeautifulSoup version: 4.3.2 (need at least 3.2)\n",
        "Mr Job version:        0.4.2 (need at least 0.4)\n",
        "Pattern version:         2.6 (need at least 2.6)\n",
        "Seaborn version:       0.4.0 (need at least 0.3.1)"
       ]
      },
      {
       "output_type": "stream",
       "stream": "stdout",
       "text": [
        "\n"
       ]
      }
     ],
     "prompt_number": 2
=======
        "IPython version:       1.2.1 (need at least 1.0)\n",
        "Numpy version:         1.8.2 (need at least 1.7.1)\n",
        "SciPy version:        0.13.3 (need at least 0.12.0)\n",
        "Pandas version:       0.13.1 (need at least 0.11.0)\n",
        "Mapltolib version:     1.3.1 (need at least 1.2.1)\n",
        "Scikit-Learn version: 0.14.1 (need at least 0.13.1)\n",
        "requests version:      2.2.1 (need at least 1.2.3)\n",
        "BeautifulSoup version: 4.2.1 (need at least 4.0)\n"
       ]
      }
     ],
     "prompt_number": 5
>>>>>>> upstream/master
    },
    {
     "cell_type": "markdown",
     "metadata": {},
     "source": [
      "If any of these libraries are missing or out of date, you will need to [install them](https://github.com/cs109/content/wiki/Installing-Python#installing-additional-libraries) and restart IPython"
     ]
    },
    {
     "cell_type": "markdown",
     "metadata": {},
     "source": [
      "## Hello matplotlib"
     ]
    },
    {
     "cell_type": "markdown",
     "metadata": {},
     "source": [
      "The notebook integrates nicely with Matplotlib, the primary plotting package for python. This should embed a figure of a sine wave:"
     ]
    },
    {
     "cell_type": "code",
     "collapsed": false,
     "input": [
      "#this line prepares IPython for working with matplotlib\n",
      "%matplotlib inline  \n",
      "\n",
      "# this actually imports matplotlib\n",
      "import matplotlib.pyplot as plt  \n",
      "\n",
      "x = np.linspace(0, 10, 30)  #array of 30 points from 0 to 10\n",
      "y = np.sin(x)\n",
      "z = y + np.random.normal(size=30) * .2\n",
      "plt.plot(x, y, 'ro-', label='A sine wave')\n",
      "plt.plot(x, z, 'b-', label='Noisy sine')\n",
      "plt.legend(loc = 'lower right')\n",
      "plt.xlabel(\"X axis\")\n",
      "plt.ylabel(\"Y axis\")           "
     ],
     "language": "python",
     "metadata": {},
     "outputs": [
      {
       "metadata": {},
       "output_type": "pyout",
<<<<<<< HEAD
       "prompt_number": 3,
       "text": [
        "<matplotlib.text.Text at 0x10bf08b50>"
=======
       "prompt_number": 11,
       "text": [
        "<matplotlib.text.Text at 0xc17c8d0>"
>>>>>>> upstream/master
       ]
      },
      {
       "metadata": {},
       "output_type": "display_data",
<<<<<<< HEAD
       "png": "iVBORw0KGgoAAAANSUhEUgAAAY8AAAESCAYAAAAFYll6AAAABHNCSVQICAgIfAhkiAAAAAlwSFlz\nAAALEgAACxIB0t1+/AAAIABJREFUeJzs3Xd4FOXawOHfzJb0AiaE0IsMTTooRZAjomChKB6sHFAQ\nQZBPRRT1UCygHkGkikgREFCwIIJY6KDSW4AwFBGBAIFASN8y8/2x2ZCQQgLZzCb73teVi+zO7OyT\nZWafeTsIgiAIgiAIgiAIgiAIgiAIgiAIgiAIgiAIgiAIgiAIguABkpFvrijKHOAB4Lyqqo3y2N4R\nWA4cz3zqG1VV3y25CAVBEIS8mA1+/7nAFGB+AftsUFW1WwnFIwiCIBSCbOSbq6q6Cbh0nd0MLR0J\ngiAIuRld8rgeHWirKMpe4DQwXFXVgwbHJAiC4PMMLXkUwi6gqqqqTXBVb31vcDyCIAgCXlAlpChK\nDWBFXg3meez7F9BCVdWE/PbRNE2XJMP/LEEQhFJFKuIXp1dXWymKEoWrJ5auKMrtgFRQ4gCQJIn4\n+KSSCdDLRUaGiM8ik/gsrhKfxVXis7hxhiYPRVEWA3cBEYqi/AOMBiwAqqrOBHoBgxRFcQCpwGNG\nxSoIgiBcZWjyUFX18etsnwZMK6FwBEEQhELy9gZzQRAEwQuJ5CEIgiAUmUgegiAIQpGJ5CEIgiAU\nmUgegiAIQpGJ5CEIgiAUmUgegiAIQpGJ5CEIgiAUmUgegiAIQpGJ5CEIgiAUmUgegiAIQpGJ5CEI\ngiAUmUgegiAIQpGJ5CEIgiAUmUgeHrB1q4l+/fy5dMnoSGDkSD/eecdqdBiCIJQxInl4wGefWVi5\n0sLs2cZ+aR87BrNnW5k924qmGRqKIAhljEgexUzTYMsWEwBz51rIyDAuli+/dP2bmipx4oRY110Q\nhOIjkkcxO3BAJiFBxmLRiY+X+e47YxZr1HVYuPDq44MHTYbEIQhC2SSSRzHbuNH1Jf3qqzZMJp2Z\nM63oesnHsWuXzJEjULGiq77q4EHxXy0IyckQGyuuheIgPsVitmmTq6Tx2GN2HnzQwYEDpqxqrJK0\nbJkFgBEjbAAcOiT+qwVh6FB/7rorkJ07xfVws8QnWIxsNvjzTxOK4qRiRZ2BA11f3DNnlmzDud0O\n339vJjISeve2U66cLqqtBJ8XGyuzcqUFXZcYNcrfkBqBskQkj2K0a5eJ1FSJO+90AtCypUaLFk5+\n+cXE8eMl12C9fr2JixdlHnsMLBZo0MDJiRMSKSklFoIgeJ0pU1w3cdWra2zfbuLHH41pjywrRPIo\nRps2ue7u27d3Zj03cKANXZeYNavkSh/uKqunnnI9btBAQ9clDh8W/92Cbzp5UuLbb83Uq+dkyZJU\nzGadsWP9DO0NWdqJb5NitGmTCVnWadfOkfXcgw86qFxZY/FiC4mJno8hKQl++slM7doarVq5nqtf\n391oLqquBN80fboVp1Ni6FAbtWvrPPusnZMnZaZONTqy0kskj2KSkgI7d5po3FgjPPzq82YzPPOM\nndRUiYULLR6PY+VKM+npEr162ZEya8oaNHCVhESjueCLzp+XWLTIQrVqGj17um7sXn45g/BwnXfe\ngYsXxRioGyG+TYrJ1q0m7HaJ9u0dubY9/bSNwECd2bOtOHJvLlZLl7oS1COP2LOeq1tXQ5J00V1X\n8EmzZllIT5cYPNiGObOZo1w5eOWVDBITYcIEMX3PjRDfJsVk40bXWZm9vcMtPNzVdffUKZmVKz3X\nSBcXJ7F5s4lWrZzUqHG1K0lQENSo4epxJXqYCN7u3XetdOgQWCxzw125AnPmWImI0Hj8cXuObf36\n2bn1Vpg3z8LRo6L0UVQieRSTTZtMWK06t9+eO3kADBjg+W6733xjRtclHn3UnmtbgwZOLl2SOHdO\nXCSCd/vmGwuxsSbefNP/po81b56VpCSJgQPtBATk3Ga1wocfgsMh8fbbfjf9Xr7G0OShKMocRVHO\nKYqyv4B9JiuKckRRlL2KojQryfgKKyEBYmJkWrVyEhiY9z61a+vce6+DHTtMHhugtGyZBYtFp1u3\n3MnjaqO5uF8QvFdcnMTp065zdNkyC6tW3XhJPS0NPv3UQkiITr9+tjz36dEDWrd2sHq1hc2bRYeS\nojD6m2Qu0CW/jYqi3A/cqqpqHeA5YEZJBVYUW7a47vjd4zvy48lBgwcOyBw8aKJTJwfly+fe3qCB\nlrmfuEAE77Vzp+v8fPRRO35+OsOH+91wg/bixRYuXJDp189GaGje+0gSvP22q7/uqFF+OAu+hIVs\nDE0eqqpuAgqq2ewGfJG571YgXFGUqJKIrSiuju8ouDX8zjudNGjgZMUKM6dPF2/10TffuO7QHn00\n7xhEjyuhNHAnj8cft/PaaxlcuCAzcmTRq5QcDlf3XH9/neeec5XEw3p1JyIqjIioMMJ6dc/at2lT\njV697MTEmFi6VAwcLCxv/yapDPyT7fEpoIpBseRr0yYzQUE6zZoVvGiGJLlKH06nxOzZrl5R+Z3Q\neclvX6fTVU8cGqrTuXPeyaNGDZ3AQNHjSvBuO3fKyLJO06ZOBg2y07Klk++/t/DDD0X7Uv/uOzMn\nT8o8/ridChV0wnp1x7pxHZKuI+k61o3rKN+kHuzaBcCbb2bg768zbpyfmImhkErDN8m1t+he1V/o\nzBmJY8dk2rZ1YinEMI6ePR1ERGgsWGDF1LN3nie0ed+eqy/QNEhJIax713z3/f13E3FxMt262fHP\np41RlqFePY0jR2TsuZtEBMFwdjvs3WuiXj2N4GAwmWDKlDQCAnRee82P+PjcpfW8bqg0zTUVicmk\n88ILNqTz57FsWp/rtaa4M9CtGwCVK+sMGmTj7FmZ6dNF191SQVGUGvk1mCuK8qmiKI9lexx7vWor\nvYTNm6froOsTJxb+NaNHu14zjcGuX679MZl0PTJS1wMD896e/adyZb1fP9ev69cX/L79+7v227//\npv5kQfCInTtd5+dzz+V8ftIk1/MPP6zrmpZtwz335L4eKlXSf3hhtQ66/lS1DbperVrB10+FClmH\nu3JF16OiXJfd6dMl8zd7k6J+d3t7Bd8PwBBgiaIorYHLqqqeu96L4uOTPB6Y28qV/oCFZs1SiI8v\n3Fqvjz4qMX58EJNsw3ieGcjXFKZ0HZzh5dCjK6MHBkJgIJa1v+UqggGkpMHSpTpVqujUq5dCfPzV\nbZGRITk+i5o1LYA/mzenERXl4dGKXubaz8KXeetn8euvrvOzYcM04uOvnp+PPQZLlgTw7bdmPvss\njYcfdm2LWLMmd7XEmTOMnxYCwOsnB6FFpGLvfB9m9TCmv0/kftPz50nv+QgpI0eh1azFiBEWXnnF\nn+HD7XzySbpn/tAywuiuuouB34G6iqL8oyjKM4qiDFQUZSCAqqqrgOOKohwFZgKDDQw3F113NZZH\nRGhZXWELo0IFnUfbnOAICqu4P8c2Z3QlLv+yjktbdnD5t40k/rCaxCXfYu/wr9zvD/yY0JbkZIlH\neqQjX+d/093jSjSaC97I3VjeokXOa0mW4ZNP0gkM1Hn9df8CxyptpAN/0Jb7m5yk4o6vuHjgGFe+\nXErC9n04oytl7eeMrsTlb3+Eli3x//5byt/ZiqC3XuPJ+85Sv76TJUvM7N8vrpOClLkRY7qu6yV1\nV3X0qETbtsH06GHns88KeZeiaQRO+ICj/1tJU/bSybSe35yuxOCMrkTC3th8X1q+ST1XPW3mvldm\nz+fpR2BlWif2KI9Qdd6bOG+tk7X/tXeYCQlQr14I99zjYNGitBv4i0svb73bNoK3fhatWwdx4YKE\nqibneSM0Z46F11/35777HMz/PJGIZvWRL8Tn2Oc+v7X8kvEvVq1KoWXLnEnIvG8PoU+7asGvLFiC\no3FTIm8J4srnXxD03tuYTp5ACwllxYNT6bH4aTqG72LN5ZZIEtjbdyRx2XKP/e3eoEKF0CLlA5Fa\nb4J7SpLrje9wky5fIvTp3gT9bzy3VUukQ7PLrHF2ZHdEJ1cyWLCkwNdfWbAEZ3SlrH3P1riDn+13\n06TcCZqo31Ku0534z5tNfnOQlC/vWpZWlDwEb5OQAMePyzRv7sy3BN23r5327R38/LOZH+/9HPlC\nPLr1auP29oh7+SXjX7Rr58iVOAAcjZuSsDeWhL2xOBo3dT0py2T07EXClu0kv/s+WMx0X9yHrtJq\n1l9uzkoeyL8zi48T3yI3obDjOwBMB2Iod29H/H79GVvHu7n0y3qee8V14n9076qcJ3Q+rj35ly83\n43BIPPJSRRJnz0f38yNkxEuE9nkM6cKFPI/RoIHG6dMyly8X8Y8VBA/atctdZZX/jZgsw6R34gmW\nU3n50ECOt3+Cy9+uzLqheq/BQgBefDHv0eQF8vMj7bnBJGzbS+qwV/hQfwUZJ6/yP+yZTcOmuDNZ\nJRdBJI8b5nS6RpZXrarlmIQwL37ffE25+zthOvEXKS8NJ3HxN+jlb+Gee5zUqqXxzTeWPLshXs+y\nZRZkWadnTwe2h3pwaf0f2Np3xO/nnyh/V2to1ixXN0Z328yhQ2KkueA9duxwnY8tW+afPKSLF2k0\n7AEmasNIJJwBprnYW91Bwt5Ytn97mB82RdC4sZOOHW98mLgeGkbKm6NpKB3iOT7jMPWYwaAbPl5Z\nJpLHDYqJkbl82TUFu5Ttez9Hv/NHHiLordcIHdQf3WQm8YvFpI4c5erAjutOasAAGxkZEhMnFm26\n9uPHJXbuNNGhg5OoKFfy0ipVJnHp9ySPeQ/pQjzs2ZNrXEijkOOAmONK8C7uxvJmzfL+4pfjzhDe\noyuWvbt58kk7/+poZ+16K4sWuQZXTZ1qRdclhg2z5bgeb5S9fUfGMpowLvMG4zhKbZwVo69btexL\nxDfIDcprCvZco1g3bSDwsxk4qtfg8i/rsXV9INdxeve2U6GCxuzZVtq0CWLRInOhBvG5l5rNNYOu\nLJM2eGierzHFneH2z4cAInkI3kPTXNVWtWtrec7LJp/4i/CHumA+HEvq80NImTiZjydlEBqq89//\n+rF9u8zXX1uoXVvj/vuLpwt64rLl3BJtYTqDSSGYp1hIevPWOBo1KZbjlwXiG+QGuds7sjeW5zWK\nFUDKyMjRCyq74GD45ZdUnnnGRlycxP/9XwBt2gSxcKEFWz5Vt7ruSh6BgTpduxbtYqlnPorZrIsl\naQWvoaoySUlSnu0dpsOxhHfrgunkCVJGvEHK2PdAkqhUSefdd9Nd3dQfCcRulxgyxOYu1BeLKwuW\n0Dt6A4/5f8dWWjNh1W0ETvqo+N6glBPJ4wZkZLhWDqxX72qVUYGuU46uVEnn/fcz2L49hf79bZw7\nJ/Hyy/60aRPE/Pm5k8jOnTInTsh07eogODjvY9rbd8z1nFa+POkLF1CnjkZsrIxW+KEpguAxV8d3\nOHNU+4Z3+Rfh3btgOhtH8jvjSR3+eo5rqXdvB/fe6yA9XSI6WstzHZub4e6g8va+e6hU0cHbjCJm\n/M9Yf/mpWN+ntBLJ4wbs2mUiLU3KtWpgXl/YhemC6xYdrTNunCuJDBhgIz5eYvhwf1q3DmLePAsZ\nrpmjs5aaLehiSVy2HCpXznqsA8gmnFHR1K+vkZIicfJkmRvmI5RC7vVtOn71Yo5qX8uunUgJCaS8\n8hppA1/I9TpJggkT0mnVysno0RlYPTQlVXg4TJlmw4mZp6WFyANfxHRE9cyblSIiedyAjRvz7qKb\nNijnCe4e9He9LrjXqlhR5733XElk4EAbFy5IjBjhSiKzZ1tYvtxMZKRGhw7X6VXyww9Z3RjTBg1B\nvhBP6NCBNKjvnp5dVF0Jxtu500RgoE6zXXNzbZMA/0UL8n1tVJTOypWpWVOWeEr79k6ef97GEb0O\nI1JGu7rDJ/p2f3eRPG7Apk0mZFmnTZurX97SxYsED3sB3WxGi4gsUokjP1FROu+840oizz9vIyFB\nYuRIfxISZB5+2IH5ejOTNW+eNS4kZcx7ZNxzL9b1a2n61/eAaDQXjJeUBLGxMk2bOjFL3r0S0xtv\nZFC/vpNPGcTPxxRCBvXHl1ePEt8eRZSc7Kq2atpUIyws80ldJ2T4MEznz5HyxmguHjx2QyWO/ERF\n6bz9tiuJDB5so1EjZ77LauZLkkia/CnOClG0+mokIJKHYLzdu03ouqux/GarfT3N3x+mT0/HatV5\nxrKQxN92E/jBe0aHZRjx7VFEf/5pwuGQclRZ+X29GL+VP2Br0460QUM89t4VKuiMGZPBmjWp1KpV\n9GVN9IgIkqbPoorzb8LlRA4d8ECQglAE2SdDTH3hxRzbbrTa15MaNtQYOTKD8/Zy9A/4ksBJH2H9\n4TujwzKESB5FdO34Dvnk3wSPfBUtOISkKZ9SrH0FPcDeoSPpL75EY20Px4+bSE01OiLBl2Ulj/pJ\nhLz6f+iyXGzVvp4yaJCdO+90sCKtM7OsLxD64iBMMXkuSVSmieRRRJs2mfDz02nVyglOJyFDn0dO\nTiJ53Ido1aobHV6hpLz2Jg0jz6Eh89e0X4wOR/BRuu7qaVW1qkatue9gOvk3aUNfKvZq3+ImyzBl\nSjqhoTovSx9zLDWasL5PICVcNDq0EiWSRxFcuCBx4ICJ2293EhAAAZ9Ow/rHFjIe6EZG7yeMDq/w\nLBZu7d8WgOOf/Irp2BGDAxJ80YkTEhcvyrSsdYGAz6bjqFmLlJdHGB1WoVSurPPBB+mkZFh4Mnot\n+slT3FKvZo555Mo6kTyK4Pff3V10nZgOxBA0/m20yAokffTJdQcCepv67csBsN9Wl5CBz5LvcHZB\n8BB3lVW72LlImkbyhMkQEGBwVIX3yCMOeva0sy2uGuMZiQQ+NX27SB5FkDW+o3UaoYMHINlsJE2a\nin7LLQZHVnT16rmGl++N6oxl3x6C3h1jaDyC78lKHue+I+2p/2C/s4PBERXdBx+kU4V/GMtottMy\n63lfmL5dJI8i2LTJTEiITtvV72A+dIC0Ps9g69zF6LBuSHAwVK+usc9eH3vtOgR+OhXrGtH+IZSc\nnb/bsZJB48gzpIx62+hwbkh4OMylH07MPMVCUgg0OqQSI5JHIZ06JfHXXzLt6sUTMuNjHDVrkTzm\nXaPDuin16zu5mGDi2PsL0K1WQvs8nmv9D0HwhLQUjZhYP5qxG/v776GHlzM6pBvWoYPGS0xEpS6v\n8j8AtLAwr+0tVlxE8igk9yy69x6Z7hpwN+0z8p2VsJRo0MBVdbVfb4SzajUkuz3X+h9lvd5WMEbs\nhN9w6GZaVT+H7cHSfaOSuGw571Scym3sZwaD2Uw7sPrhrFXb6NA8SiSPQgjr1Z1tw74BoPPlZaT+\n33AcLW83OKqb17ChK3kcPChjOn4s13ZfqLcVSp587ix7Z+0GoPGgVqWus0lebAu/YNotbwEwOnom\ncvx5AqZ8bHBUniWSx3WE9eqOZeM61nI3UZylIQfwX7SgTNyR18+cIFGs7SGUpOCRr7I1wzWGo/k9\noQZHUzwcjZtS/9BCOnRwsDauIRvLdyNwxlTk06eMDs1jRPK4Dsum9XzDI8RRiS6sRgJMZ+PKxB15\nzZo6/v46hw7JXj+vkFA2WFf9iN+Py/nT0oHISI2qVYs+zY43Gz7c1eV9TORUpPR0gt4ba3BEniOS\nx3Vk6FZG8CEWbLxF6W4gv5bJ5Oqyq6oyF5csxxldKWubLklcWv+7147yFUof6Uoiwa+/wj+Wmpy2\nV6BlS2dZqLHKoXVrJ+3bO1h3uCoba/XBf9lXmPfsMjosjxDJ4zomVZ/AX9RiKFO4FVe7QFm6I69f\nXyMjQ+L4cZkrC5bgjK6EFhqKpOsETplkdHhCGeBeHfCWW6tiOhvHhvtdM9G2aFE2l7J89VVX6WNs\nqGvJ2qBRb7jmYiljRPIowIULEuPjnqE8F7NKHd440+fNaNDA3e4hZy27eTHmKM5KlQn4/FPkM6cN\njlAozcJ6db+6OmDmc7t+TQSgZcuyuRaGu/Sxdk8kG+54Geufv2Nd9aPRYRU7kTwKMGGsjSu2AP4b\n8jGhFQPKVInDrX79qz2usvj7kzriDaT0dAInfGBQZEJZYNm0Ptdz21JvQ8ZJkyZlM3nA1baPtxmF\nbjYT9PZ/y9wUQCJ55OPIEZl5X4ehcJinx1YlYd/hMlXicHOP9bh2Sdr0fz+Oo46C/6IFmI6KiROF\n4mHDwk5a0Nh8iKAgo6PxnDZtnNx5p4O1W8NY3/VdzH8dJ2DuLKPDKlYieeRj7AgHTt3E+9Efoz32\nb6PD8ZiICJ0KFbTcqwqazaS8MRrJ6SRo/DvGBCeUevZ27XM83kdj0gmgWZfSNx9cUblLH+9cehEt\nNIzACR8gXUowOKriY2jyUBSli6IosYqiHFEU5bU8tndUFCVRUZTdmT9vlURcGzaY+GVLGB1Zx91j\n23D9xcJLt/r1Nf75R+bKlZzP2+5/EHvzFvit+B7z7p3GBCeUarYu9+d4/HvofQA0uzfciHBKVNu2\nrtLHus0BrH/0Y+TLlwmc+KHRYRUbw5KHoigmYCrQBWgAPK4oSv08dt2gqmqzzB+P95V1OmHM6zoS\nGh/U+hRbtx6efkvD5Vd1hSSR8parn3rQe6Vz4jrBQGlpBEz+GM0/AGdURZzRldjcahhQdhvLr+Uu\nfbx37Emc1WoQMGcWpuNHDY6qeBhZ8rgdOKqq6glVVe3AEiCvSW5KtCf4kiUWDhwL4j98Qd23H3Et\nG1bGZe9xdS37nR2wdbwb68Z1WDasK+nQhFIsYMFcTOfPkT5wMAn7VRL2xrL9WATh4Tq1apW9rqt5\nadvWSbt2Dtaut7L+qWlIdjtBb482OqxiYeQ3Y2Xgn2yPT2U+l50OtFUUZa+iKKsURWngyYCSk+H9\ndyQCSWF0o2Wldrr1orpa8sj7dEh5awyAa82PMthfXfAAd6kjKJjU54cArq7vJ07ING/u9IV7sizu\n0sf4rZ2xt7oDv1UrsPyxxeCobp6RlfmF+RbaBVRVVTVVUZSuwPeAcr0XRUaG3FBAU6bAuQQYzXhq\nfDIcKpT+eXcK81m0besabX7kiJXISGvuHTq1h969sXz1FZEbf4FevTwQqefd6HlRFnn8s/hkDpw/\nByNHElGvBgBbt7o2dehg9qr/C0/H0qMH3HUXrFljYffsz7l9eyPC334Ltm0r1TUbhk0OoChKa2CM\nqqpdMh+PBDRVVfMdWKAoyl9AC1VV8+2yoOu6Hh+fVOR4Tp+WaHtHAOG2cxxo+yyO778u8jG8TWRk\nCIX9LO68M5C4OJmjR5PznDLCdPwo5dq1wlmjJpc2bSt1nQiK8lmUdR7/LNLSKN+qMVJKCgk79met\ntDlunJVJk/xYsiSVu+/2jjaPkjovtmwx0bNnIPfc42BF6OP4f7sMPfNCs7fvSOKy5R6P4XoqVAgt\nUj4wMu3tAOooilJDURQr0Bv4IfsOiqJEKYoiZf5+OyAVlDhuxrhxVtJsJsbxBvz3VU+8hVdr0EAj\nKUni1Km8zx9nrVtJf/I/mI8dxX/xwhKOTihNsto6+g/MsUSze9nZ5s29I3GUpHbtnLRp4+C338zs\nPOyq0Sjta+cYljxUVXUAQ4CfgYPAV6qqHlIUZaCiKAMzd+sF7FcUZQ8wCfDIVLZ79sgsXWqlKbvp\nfW88jhatPPE2Xs3d7pFXo7lb6vDX0AMCCPzfeEhLK6nQhNIkj7YOcPVi3LXLRJ06TsLLfi/dPLnn\nvBp/oGeubaVx7RxD6x5UVf0J+Oma52Zm+30aMM2TMeg6jB7tB8AEXiHt9bI1c25hudf2OHTIxH33\n5X1nqFWMJm3AIAInTyRg9mekDRlWkiEKpYC71JE67JUcpY7Dh2VSUqQyOxliYbhLHyv/eJDttKQV\nO4wO6aaU3taaYrJqlZk//jDTjeW07Vke522NjA7JEIUpeQCkDhmGFhZO4OQJSImXSyI0obTIp9QB\nV6usfGV8R14k6WrPq7Hk7K5bGufN8+nkYbPB2LFWzNj5QB5J6og3jA7JMFWq6ISE6NdNHnp4OVKH\nvoR8+TK31KlGRFQYYb1K9xrUQvHIr60DYOdO13nVooXvJg+AO+900rq1g5U8yA5aAKDLMgnb9pa6\nefN8OnnMmWPhxAkTg5hB9cda4qxdx+iQDCNJrqqrY8dk0tPz30/TIOGX3eygBT/QjRi9Yalt8BOK\nUQGlDnCVPAIDderV891qK8hZ+hjjNx4tKAhJ0/D/erHBkRVd6epvWYwuXYKJE6yEy4mMkseR+soa\no0MyXIMGGtu2mfn+ezMBAXDmjMSZMzJnz7r+jYuTOHtWwuH4Lus15blIPJFZDX4Je2MN/AsEo+TX\n1gGQmAiHD5u4804HJlM+B/Ah7ds7ueMOByu3dmbtvAN0+o9CwNRJpD/xNKXpA/LJ5BHWqzsfbbyP\ny7zGBMYS1K87yVWrGR2W4dztHi++GJBrm8mkU7GiTpMmGjV3fksVTrGZO9lBK45RmzoU73w9p09L\nxMVJtGzp23eqpUIBpY6MDBg50h+AVq18u8rKTZJcPa969TLzwezKtOv9BAEL5uH343Iyuj9sdHiF\n5nPJI6xXd8wb1/Ml8wnnEi8wDfOKcpgff6rU1TkWtx497KiqTECATnS066dSJY3oaJ3ISD3rpiis\n1wysG9fxP4azg1bspQm1olOLtcHv1Vf92bDBRExMMuXKFdthBQ/Ir9Rx8aJEv37+/PmnmRYtnAwc\nWLYWQ7oZ7ds7advWNe5j9dQ36fHlfAI+mUhGt56UloXdfa7Nw7JpPVtox2mq8DDf4ocN0/lzpa6P\ntSeEh8O4cRn89782+ve388ADDpo106hYUc9Rmk5cthxndCWasBeAvTTh0oY/ii356rqrjtxul9iz\np/QU431SPqWOI0dkunYN5M8/zXTvbufbb1MpX97AOL2MJMGYMRkAjJ5Zk7SHemKJ2Ydl3W8GR1Z4\nPpc8AJZkjjV8jNLVNc6bXFmwhNsqnANcC/z4fzGn2I595ozEpUuuu6/du0Xy8GZ59bDatMnE/fcH\ncuKEzMsvZzBzZjoBuWtCfV7TphqPPGJn/34T8+u/B0Dg5I8NjqrwfC55pN15N8voRSTn+ReuKcZL\nYx9rozlzm+TrAAAgAElEQVQaN8USs5nICCd7paYEfjaDArtpFUFMzNXTUiQPL5ZHqePLLy307h1A\naipMmZLG66/bSvPcfx73xhsZ+PnpvDO/Dol33Y/1982Yt281OqxC8bn/1lVDl3OeKHqxDDNOnNGV\nyuTa5CWl4W06f+vVuRKfUWzdDffvv5owdu2SxSzwXiasV3ciosKIqFExq9ThLHcLb79t5aWX/AkJ\ngWXL0ujd22F0qF6valWdgQNtnDkjM6Gaq9QROHmiwVEVjs8ljxUzXFUt/7Z+L0ocxaBhQ1dvqL3m\nFgRMn+yaxOgmuUseLVs6iY+XOX26dDQg+oKwXt2xblyXNakfgGPxt/TvlcHUqX7Urq3x008ptGkj\nelYV1osv2rjlFo2Pv6vD6aZd8Pv5J0yHDhod1nX5VPKw2WDFpggqcZqGK8eIEkcxaNjQ9SWxs2lf\nzMePYV31400fMybGRESERpcurjtXUXXlPSyb1ud4fIZo7j7/NT9ujuDOOx2sWpXiM6sEFpfQUNfA\nweRkiTG3TAEgcIr3t334VPLYMuc4lxyhPFzlT2jim3NYFTd3yWN3xa7okkTg1I9varXBxEQ4eVLm\nttu0rKksdu0SycMb7aUxd7CVnbSkX8BilixJE92qb1CfPnZq19aYu742MbUewO+7Zch/nzA6rAL5\nVPJY/plrKZBugysYHEnZceutGlarTsypcti6PIBl966bWmLzwAFXorjtNidNmjiRJJ3du33qNPVq\n9vYdAfiJLrRjC6eoyriQ9/johypY81iEUigciwVGjcrA6ZR4LXgaktNJ4PTJRodVIJ+5Km2HjrPi\nVAuqW87Q5JkmRodTZlgsoCgasbEyVwb9HwABN1Hk3r/fdUredptGcDDUrauxZ4+pOJpShGKQuPR7\nVFM9HmUpGjJfhw+g/7EXcTYR1b83q0sXB23aOFi1rzprKvTGf/FCpPPnjQ4rXz6TPDaN2UwSofT4\n10UkWTTAFqeGDTXS0yXU8q2xtW6L35pfMR2IuaFjxcS4Sh6NGrmqw5o100hNlVBVnzlVvZr+61qe\ndM4nhWA+D3+Fe5b1MTqkMiP7wMFXLZPQ0zMInDXD4Kjy5xNXpHThAt9vcFVVPfRydYOjKXvcjeYH\nD8pZC0TdaJF7/36ZwECdWrXcycN1bFF15R0+ej2FHbTisc7n6Kx+KDqcFLNmzTQeftjO7tMVWRj8\nPP5zZiFdSTQ6rDz5xBWpfTqHFdr91L4lgUbNRKmjuLkbzQ8ckLHdcx+OuvVcDX6n/inScTIyQFVl\n6tfXsqZDca93LRrNjffH/BN8dOpxavqfZtzMQKPDKbPcAwfflMeTkWTDf17xzd5QnK6bPBRFeUxR\nlLDM399RFGW1oigtPB9aMUlJYc3sM6QSRPcnrKVlzrFSxV3yOHDABLJM6gvDkBwOAmYWbQVhVZVx\nOCRuu+1qA0f9+hp+frrormuwhAQY9N9KyGh89qZKcLDREZVd1arpDBhg49SVMCZZXyNw5jRISzM6\nrFwKU/J4S1XVREVRbgfuBRYAUzwbVvHxX7KQr1MeBKDHoyJzeEL58hAdrXHggOt0ynj4UZyVKhOw\n4AukSwmFPk72xnI3i8XV/nHwoOyN149P0HV4ZbDOmbRbGBM5lSbPlZ57x9Jq2DAb5ctrjNdf52K8\nhv+SL40OKZfCJA975r+dgdmqqn4J+HsupGLkcGCfNp+f6Er9OjafX8XMkxo21IiLk0lIAKxW0ga+\ngJSaQsDczwt9jKuN5Tm7VjVv7sTplHLMeSWUnIULLaxcG8pdrOeFNwNKzZThpVlYmGvNjyS7P2NM\n7xA4bTI4vGu6l8JcjZqiKI8BjwO/Zj5XKnp0+/24nB9PNSUDf7o/Ika9elKOqisg/en/oIWFE/D5\np4Uucu/fLyPLuZcqvdpoLqquStqRIzJvvWklnEvMixyOo1cvo0PyGX362KlVS2Omsz9HT1qJqHwL\nYb26Gx1WlsIkj6G4EscsVVX/UhRFgczpaL2ZrhMwbTJf0RtwLXQkeE72RnMAPTiEtH79kS9cKFSR\nW9NciadOHY3Aa9pi3clDNJqXrIwMeP55f9LSZWYxgIiB3RAjAUuOxQLv+4/GiZnX+ABJ17FuXEf5\nJvUw79tjdHjXTx6qqv6uqmp3VVU/yXysqqo61POh3RzL5o1c2fs3v0j30bixU8y342FXk8fVL/i0\nZwei+/m5uu1eZ5Tf339LJCdLWcfJrmZNnfBw0Whe0saN82P/fhPPBCzi4aCfSf9PP6ND8jmPHHyP\n9mxkOT3YQAcATHFnvGLxunyXoVUU5f9UVZ2kKMr/AB3IXtGpq6o6wuPR3YTAaZ8wn544dDM9ehTP\nOhNC/mrW1PD317NKHgB6VBTp/36CgAVzsa78AVu3nvm+3t3ekb2nlZskQdOmTtavN3PpEmL+pBKw\nfr2JGTOs1I68zCfxz5E+sC96WLjRYfkcSYKP9OHcwTaG8xFbuQMZ77gRLqjk4a6oTsn8Sc78cT/2\nWqYDMVjX/saisOcB6N7duxqayiKzGerV01BVGXu2GsK0F4a6JkycMqnACRPdjeHukeXXco/3EKUP\nz7twQWLIEH8sFp0vg54jyJRO2nODjA7LJ9nbd+R2tvM4i9hBKxbyFFpEpFcsJZFvyUNV1ZmZ/465\ndpuiKF59BQdOn8w5KrDhSnNatnRStap3ZOqyrmFDJ3v2mDhyRKZBA1cScNa6FdsD3fD7cTkRFV13\nrvb2HUlctjzHa90LQGXvpptd9kbzu+8WE115iq7DSy/5c/68zNgnY7jjy6WkP9wLrWo1o0PzSYnL\nllO+ST3ej3ud7+nBCD6kSxuQvGBkf2EGCS5WFCU42+PKeHOD+T//4PfdMr6qMARNl0VDeQlyt1cc\nPJjztJJPnwLIWkAor0a/mBiZSpU0brkl70TftGnm1O+i5OFRc+da+PlnM+3bOxhx0jXVTNrgFw2O\nyrddWbCEytFORgZP4RwVGf9jc+R/ThodVqF6W8UCOxRFaaYoSlfgd2Becby5oihdFEWJVRTliKIo\nr+Wzz+TM7XsVRWl23YNOmoTkcPBVyLNIkk63bqLKqqTk1WgOYN6zK9e+2Rv94uMlzp6V8y11AERF\n6VSpoollaT0oNlZmzBg/ypfXmP7Cbvw3rcXW/i4xf5XBHI2bkrA3lr4HB1MzIpEp+hD+ev87o8Mq\nVG+rscCLwGZgFtBVVdWbnmwls+prKtAFaAA8rihK/Wv2uR+4VVXVOsBzwPWnmJw4kX8sNfn9WCXa\ntHFSsaL4pikpDRq4x3oUbTCfu70jr8by7Jo1c3LhgsypU2KQWnFLT4eBA/1JT5f4+OMMbl36EQBp\ng72+Y6XP8PeHdydIODHz6jcd4PJlQ+MpTLVVNWAssBSIA4YoilIcnb1vB46qqnpCVVU7sAS4dgRM\nN+ALAFVVtwLhiqJEXe/Ay+yuwzzS6q9iCFMorLAwqFpVy5U83AsIZZd9/firPa0KngFADBb0nAUL\nLBw6ZKJPHxsPND6B3/ff4KhXH9vdnY0OTcimc1eJrorKeq0Dq17fZmgshblF3AxMU1W1L9AO13Ql\nW4vhvSsD2addPZX53PX2qXK9Ay/hMUw4eGLxwzcdpFA0DRs6iY+XOX/+aukgcdlynNGVsh5rQUE5\n1o8vbMmjeXNXchGDBYuXrrvaOqxWnddftxHw2Qwkp5PUwS+KqUi80NgZIfiRzpvftyH5ks2wOPLt\nbZXNvaqqxgKoqmoDhimK0qMY3ruw9UnXnr0Fvu4varCNO7iXn6louQSRITcWXRkRWcJ/f6tWsHo1\nnD4dTMOG2Tb8uAK6dYO4OGRNI9LihHBX76tDhyA0FFq2DC7wu6pTJ5BliImxEhlZ9MJvSX8W3iz7\nZ7FmDRw9Ck8/DfUrOWHhPIiOJvS5fuDnZ1yQJaS0nReRd4cw4o5feGfrvcx8OYb3f7zNkDiumzzc\nieOa574vhvc+DVTN9rgqrpJFQftUyXwuX+7pSB4N+5lLXyzGEZ9085GWUpGRIcSX8N9fo4YZCGDL\nlnSaNcvW061qHdh9iICpnxD89n9JnvAJaS++TEoKHD4cTOvWTi5cuP4cWHXrBrJjh0xcXDLmwtz6\nZDLis/BW134WEyf6AxYefzyF5IlTCE5KInnYK6RdsQHG3dmWhNJ6XgyYWJX57U4wcWVduv+ezK11\nSr5ttzBtHk0URflDUZQ0RVG0zJ/i6Gi/A6ijKEqNzDaU3sAP1+zzA9AnM47WwGVVVc8VdNAlPIYF\nG3dtHyt6iRjg2gkSr5Xepy9acAgBn82AjAwOHZLRdem67R1uzZo5xbK0xejMGYnVq800buykRaN0\nAmbNQAsKJv0/zxgdmlAA/zpV+OCOpdix8NagFEN6IBbmCpwB/BdQcd35jwPevNk3VlXVAQwBfgYO\nAl+pqnpIUZSBiqIMzNxnFXBcUZSjwExg8PWOu5emdGqT5K4REUpYjRo6gYF6rrEebnpoGOlP98V0\n/hz+33yd7zTs+WnWTIz3KE7z51vQNInBaROJrBaJKe4Meni4mIqkFOj8bmvu5WfW7oti1aoiFMOL\nyXVbwxRF2aWqanNFUfarqtoo87kdqqq29Hx4N0LXp09Po1cvMb7DqCJ5166B7N0r89dfyXlWmcun\nT1G+VWOctWrzzB17WbDAjzVrUvKdmiS7/ftlOnUK4umnbUyYkFHomEpr9YQnuD8Lmw2aNQvCfimF\n044oArlabejuDVfWS++l/bw423UwLXbOpmKUxqat9lwzUhdFhQqhReodUZiSh/tb+JKiKE0VRYkA\nbilyZCXE3x+6dBGJw0gNGzpxOPKvWtIqVyGjZy/M6mEO/p6MxaJTt27hqq3q1XNNwChKHjdv5Uoz\n8fEyfR2f50gc4D0ztwoFqza8By8zkX/O+TN5cslOl1+Y5PFVZsIYh6vb7j/AdI9GdRMefBCxvrLB\nrl3bIy+pg1/EgYkDfwVTt65W6GUi3MvSHjokk5paHNH6rrlzLQAMKsTYW8E72e7uzOt1llKZU0yb\nauGvv0qua3VhRphPUFX1gqqqq4HyQJSqqv/zfGg3ZtIkoyMQrtdoDuBseBsHbu9DuuZHo+jzRTq+\ne1la92SKQtEdPCjz559mOnZ0ULNZaK7t2QdxCl5MkpCH9GcCr5Bhkxk1quRWCC9SlxVVVW2qql7x\nVDDFofK1wwyFEueeUTe/RnO3ba1fAKBF3MoiHf/qSHPR4+pGuUsd/frZ0SrlvGic0ZVyDOIUvFvG\nw4/ySOQG/mXayM8/m/n115K5qRJXn1DsgoOhRg3XNCUFdSHc43ANbmp5YCHyicJPJSOmKbk5V67A\n0qUWqlTR6FrrENZVK7ArdXFGVxIljtLIz4/0555ninMQJlnjzTf9SS+B9e9E8hA8omFDJwkJMmfP\n5l8H6+6m21TfTeCnUwt97Bo1dMqV08U0JTdo/nxITZXo08dO8KefIOk6qa+9ScLeWFHiKKXS+/Sj\nQeDfDAmYzYkTMtOne77xPN/k4R5rIQg3wl11lV+jua67tlWv7iS4Shj+ixciJVws1LHdy9L+/bfM\nxYti7qWi0HWYPh0sFp2nOp/Cf+kSHLVqY7v/IaNDE26CXq48aU88xdiU4VQITeWTT6z8849nr42C\nSh6PKorys6Io152IUBCuld/aHm5xcRIXL7rW8EgbOBgpLY2AuZ8X+vjuqqu9e0XhuSi2bDFx6BA8\n9JCD6sumINlspL0wDEyiFFfapT03mFA5mfdD3yMtTeKNN/w9OvI83ytPVdV7gG+B3xVF6eu5EISy\n6GqPq7xPsexrlqc/2QctNIyA2TMh7frzW8HVNc1F1VXRuBvKn/l3Av5fzMEZVZH0fz9ucFRCcdBq\n1CTjwe70PTWO9rdd4OefzcycafHY+xV425a5jvk9wCRFUS4qihKf+VO0vpWCz6lWTSckRM83eVxd\ns9yJHhxCet9nkS9cwP/rxYU6vliWtuji4iRWrTLTpAl02DcDOTmJtOcG+8TMub4ibdAQJGBJTCMq\nEsfYURb+/NMz10iByUNRlNuB74BFQKtsP7d7JBqhzJAk18qCx47JeRYmrq7h4UoCaQOeR7daCZgx\nBZzXn+eqQgWdqlU1du8Wy9IW1oIFFpxOicH9bQR9Nh0tNIz0vmICxLIkaPy7AFTiLF/zb0DnuR5J\nXFh3oNjfq6AG8/dxre43TFXVwaqqHs9c9e+Eqqonij0Socxp2FBD0yQOH859msXEmLjlFo3oaNc3\nvxZVkfRevTEfP4Z19apCHd+9LK2nGwbLArvdlTxCQnSedM5HvhBPet9n0UNyDxAUSi/LpvVZv7dn\nMx8ygrNaFM897ToHilNBJY9IoKmqqr8V71sKviK/RvMrV+Dvv2UaNtRyLP6UNsi1Xnbg9MmFOr4Y\n71F4P/1k5tw5mcf+nUHQ5PHofn6kDhhkdFiCh73Ex/RiKZttrXn33eKtniyowfxZbx9NLni3/BrN\n3cnk2ll0nXXrkdH5Pizbt2Ledv2VjsWytIXnbih/rtpPcPw46b2fRI+KMjgqobjZ23fM8VgCZkW9\nSZ2qqcyYYWXFiuKbul30cxQ8pl49DVnO3Wi+f3/+a5anvTAMgMBpn1z3+I0aOZFlXUxTch2xsTJb\ntphp395Bk6VjQJZJHTzU6LAED0hcthxndKWsxzrg/PkH5ixyrbMzbJg/R48WTzWvuOoEjwkMhFq1\nNA4cMOVo1HaPLM9r9UB7m3ZoISFYf/qRiKgwwnp1z/f4wcFQt67Gvn0mHGIW/nzNm+cqdQxotRNL\nzD7o1QutVm2DoxI85cqCJTijK6GFhSMBAVMnUbeuxscfp5OcLNGvXwDJyTf/PiJ5CB7VoIHGlSsS\np05dvduJiZEJCNC59dbcySPs0R7ISUlIgKTrWDeuo3yTepj37cnz+M2bu5alzatRXoDkZPj6awvR\n0RqPbHvD9eRrrxkblOBRjsZNSdgby8WDx3BWq07AgnnI587Ss6eDAQNsHD5sYvjwmx9AKK44waOu\nXdvDZoPDh2Xq19fyHNScvbeIW0ELE4llaQu2dKmF5GSJvp3/JnDzWmx3/QuaNzc6LKEkWCykDnsF\nKSODgKmuauDRozNo2dLJt99amD375gYQiuQheNS1a3scPixjt0t5tnfcCDE9e/503dVQbjbrDDwz\nFoDUoS8ZHJVQktJ7P4GzchUC5s9BOn8eqxVmz04jIkJj1Cg/tm+/8etGXHGCR11b8rh2cOC1ru0t\nAuCsEJXvNOH16mkEBIgZdvPy558mYmNNPHTXJaqtmY+9aTPs7e8yOiyhJFmtpA59CSktjcAZUwCI\njtaZOTMdTYP+/QOIj7+xBnSRPASPqlRJJzxczyp5XG0sz7vkcW1vEQBblwfynSbctSytk9hYmZSU\nYgy8DJgzJ3OZWflT17TrQ18ix8AawSekP/E0zorRBMz9HOmia+bq9u2dvPGGjbg4mYED/W+ow4lI\nHoJHSZKr6urECYnkZFfJQ5b1rCnb8+LuLeKMjsZRuQr+i+Yjn/w73/2bNdPEsrTXiIuTWLnSTP1b\nM+i0fqyYdt2X+fuTNvT/kFJTCJg5LevpoUNtdOliZ/NmM++/X/T1P0TyEDyuYUMNXZc4eFAmJsZE\n7doagYH57+/uLZKw9zCpb45GcjgInPhhvvtfnWFXnM5u8+ZZcDgkXqjyHbJdTLvu69Ke6osWWYGA\nz2ciXUoAXDd2U6emU7OmxuTJRR99Lq42wePcjearV5tJSpJyjSwvSEbPXjiUuvh/tQj5+LE897n9\ndieSpLNsmUVMkgikp8OCqWmU5yJ91z+DbrWKadd9XUAAqUP+Dzk5iYDPZmQ9HRoKX3yRRpcuRZ/4\nSiQPwePcjebLlllyPC4Uk4nUV0ciOZ0E5VP6qFxZp0cPBzExJn75Rdxdr75nBhfs4QxgFkGkIdls\nlL+9Sb5jZQTfkNanH1pEBAGzPkVKvJz1fL16GvPnF33Rc5E8BI9TFA2TSefs2fynJSlIxkM9cNRv\niN+yrzAdUfPc56WXbABMmODn06UPXYdp6r2YcPACV+u3CxorI/iIoCBSnx+KfCWRgM9n3vThRPIQ\nPM7fnxyjyfPrppsvWSZlxBtImkbghPfz3KVePY2HHrKzZ4+JtWt9t/Txxx8m9tKUh/mWqpwyOhzB\ny6Q/0x+tXDkCZk5DSrq5eW9F8hBKhLuqqmJFjcjIohcNbPc/iL1RE/y++wbToYN57uMufXz0ke+W\nPmbNclUNvkjOae2d0ZXyHSsj+A49OIS054cgX76M/9zPb+pYhiQPRVHKK4ryq6IoqqIovyiKEp7P\nficURdmnKMpuRVG2lXScQvFxd80tcqnDTZJIfe0NJF0n6KO8Sx+33abRtaudnTtNbNjge6WPkycl\nfvrJTNPyJ2jHlqznndGVSNgbm+9YGcG3pD37HFpYuGvQ4E3MkGhUyeN14FdVVRVgTebjvOhAR1VV\nm6mqKpa+LcXc3Wnd/94IW+cu2Ju3wG/F95j278tzn1decZc+rD5X+pgzx4qmSQy7NBZn1Wo4o6NF\niUPIRQ8NI+25QcgXLxLwxZwbPo5RyaMb8EXm718APQrYVwyJLQPatXOyeHEqgwbZbvwgkkTKiDcB\nCPrf+Dx3adxY4957HWzbZmbLFt8pfaSkwJdfWqhgvcTj+iJS3vuQhL2HRYlDyFPagOfRgkNc6+ak\npt7QMYxKHlGqqp7L/P0ckN+SZjrwm6IoOxRFGVAyoQmeIEnQqZOToKCbO479X52wt7oDv9UrMe/Z\nlec+L7+cAcCECUUfNVtaLV1qITFR4nnbZOQ7WmC7r6vRIQleTA8vR9qAgcgX4glYMPeGjuGxu3pF\nUX4FKuax6U3gC1VVy2XbN0FV1fJ5HCNaVdU4RVEigV+BoaqqbirofXXd1yorfNDatdCpE9x/P6xc\nmecuXbvC6tWwYQN06FDC8ZUwXYeGDXWOxjr4W69G9B/fQevWRocleLuLF6F6dQgJgePHkQIDi5QP\nDKkSUhQlFldbxllFUaKBdaqq1rvOa0YDyaqqTihoP13X9fj4pGKMtvSKjAyhTH4Wuk5Yzwew/r6Z\nSyt/xdHqjly7bN8u88ADQXTo4GDZsrSy+1kA69eb+Pe/A3mShcx+6BuuzJ5f4P5l+bMoKl//LILe\nGU3glI/RJQlJ13WpCLVRRlVb/QD8J/P3/wDfX7uDoiiBiqKEZP4eBNwL7C+xCAXvJUmkvpbZ9vHh\nuDx3adVK4667HGzcaGbbtrLdI33WTDMAL5qmkfLmKIOjEUoT8w5XJ1bJVWFTpMKEUVfV+0BnRVFU\n4O7MxyiKUklRFHc9REVgk6Ioe4CtwI+qqv5iSLSC17G3aYetw7+wbliH5c/f89zH3fNq4sSiT/pW\nWhw/LvHrGiut+YNG/2mEs9atRocklCL5XTuFUeZ6Molqq6vKepHcvH0r5R7ojK1dexK/y7vt4+GH\nA9i82czWrVCzZtn7LN4cITFrXjBf+vXl3l2j0CMjr/uasn5eFIWvfxYRUWHuUgcAUhFyQtkuzwtl\nmqPVHWR06ox1yyYiosKIiAojrFf3HPu4Sx/vvGNEhJ6VlARLFpmpxGnuH1qtUIlDELLLa+XOwhLJ\nQyjV5ITMtQl0HUnXsW5cR/km9bJmkG3b1knr1g5+/BH27Stbp/tXs9JIsvnzfNB87C8MNjocoRTK\na+XOwipbV5Pgc/Ia65F9BllJulr6KEvjPjQNZk/T8SOdp0ZEcNMDaASf5V65EzhdlNeJ5CGUeR06\nOGnTBn76yUJMTNk45dfNP8uxpCgeC11J8IBeRocjlGLulTslqFKU15WNK0nwWXnV2V47n5MkwajM\nHqwff1w2Sh+ff+Bq5O0/IhjMZoOjEXyRSB5CqXZtna0OXJn1Ra75nO67D5o1c7JihYVDh0r3aX/s\n672sudicDiG7qDugjdHhCD6qdF9FgsDVOlvtlggAQoYNgrS0HPu42j5cc16V6tKHrjN3zFkAnn3R\n7PrDBMEAInkIpZ67zvbioeOkDRyM+dhRgt5/N9d+nTs7adTIyfLlZlS1dJ36Yb26ExEVhimqBgsv\ndKVawHnuHVLT6LAEH1a6riBBuI6UkaNw1qhJwKdTMW/bmmObu+eVrkulqvQR1qs71o3rkHSdOTxD\nKkEMkafjd2CP0aEJPkwkD6FsCQwkafIMIO/qqy5dHDRo4OS778zExZWOKh/LpvUAODAxlSEEkkL/\nlE+yuiMLghFE8hDKHHvrtqQNeN5VffXBezm2yTI8+aQdTZNYu7Z09VJawUP8TQ36MJ9yXDY6HMHH\nieQhlEk5qq+256y+uvtuBwBr1pSOlQbtd7h6VE1hKABDmSKWlxUMJ5KHUDYFBZH0yXQkTSNk2OAc\n1Ve1aulUr66xYYMZu93AGAvD4QCTiRgaso676cRv1I1OFMvLCoYTyUMos+xt2pE64HnMR4/A6NFZ\nz0uSq/SRlCSxc6d3lz6CPngP65ZNTI5y9R4bXG6RKHEIXkEkD6FMS3ljNM4aNWHChKyFbwA6dXJV\nXa1d673Jw/rLTwR+MoGLVRvz5ZVuVKmi0fbgJ6LEIXgFkTyEsi2z+gpNI+TFq72v2rVzYrXqrFnj\nnY3m8sm/CRkyEN3Pj08f/J7UNJm+fe2YvDfXCT5GJA+hzLO3aQdDh2I+eiRr2dqgIGjd2sn+/SbO\nnfOyLrsZGYT274N8+TJX3vuIz3+qjr+/zlNP2YyOTBCyiOQh+Ibx43FWr0HAjClZ1VfuXlfr1nnX\n7XzwqJFY9uwmvfcTrIp+hhMnZHr2dFC+vNGRCcJVInkIviFb76vw++8hIiqMHisGAbBunfdUXfl9\n8zUBcz/HUb8hSR9MZPYc10j4/v1FqUPwLiJ5CD4jcOL/ANcizZKu03jnPKrKp1n/GzidxsYGYDoc\nS8grw9CCQ7gyZz7HzwaxZo2Z22930KiRZnR4gpCDSB6Cz3BP8+EmAV21H7mUZGH3boMvheRkQp99\nGuleHDkAABYESURBVCk1haRJU3HWrsPcua5Sx7PPevtgFMEXieQh+LQurAYwtteVrhPy6v9hVg+T\n+twgbN16kpwMixZZiIrSeOABh3GxCUI+RPIQfEZeqw52Yg1mycG630r+UnBPsx5RMRz/b77G3qIV\nKaPeAWDZMgtJSRJ9+tixlp4JgAUfIpKH4DOuXXXQGVUR//bNaadvZvdeExdjL5RYLNmnWZd0HQD5\nn5OYYw+i6zBnjgWLRadPH1FlJXgnkTwEn+JeddAZXYkrX35N4uJvuKdxHDoyO3p+jOlwbInEcW37\nC4Dp/DlCn36MzZtNxMaaeOghB1FReonEIwhFJZKH4FPcqw5mTSxotdJu0kMA/HyxFeEPdMayaYNH\nY5DjzoCef1KYPdsCwLPPiu65gvcSyUPweQ0b6kRFaawO7oWemkbYYw/j99Wi4n8jpxP/2Z9Rrl0r\n8hrT7oyuxIGPvmP1ajONGztp2VJ0zxW8l0gegs9zzbLr5EJyABvHr0UPDCJ06PMEfjiuwBJCUZhi\n9hP+YGdCRg4Hk4mkiVNytr9EVyJhbyyztzZB0yT697chedmsKYKQnSHJQ1GURxVFOaAoilNRlOYF\n7NdFUZRYRVGOKIryWknGKPgW9yy7v1xsyeWVv+KsVoOgj96nfCPF1SMqKoywXt2LfuCUFILG/pdy\nnTtg2bmD9IcfJWHLDtKf+k/O9pcFS0hLg4ULLZQvr9G9u+ieK3g3o0oe+4GewMb8dlAUxQRMBboA\nDYDHFUWpXzLhCb6mQwcHsuyaZdep1OXST2vQQkIwnT+X1SPKunEd5ZvUw7xvT57HyOp6m5loLGt/\npfxdrQmc9gla5apcXvItSZ/ORq9QAcjd/rJ8uZmEBJmnnrITEFCSf70gFJ0hI6NUVY0FUBSloN1u\nB46qqnoic98lQHfgkKfjE3xPeDi0bOlkxw4Tly9DeGQkUnJyrv1McWcI79qJjId64KxeHa1qdZxV\nqxH4v3FYt23lFJX5hkd4euMCym98BN1kIvXFl0l5eQQEBub7/roOn39uRZZ1+vYV3XMF7+c9M8Ll\nVhn4J9vjU8AdBsUi+IC773aybZuZDRvMBVcb2e34f7s019MaEr35it9px7u8xXhG0jd8BSlvjbnu\ne+/YIbNvn4n777dTpYronit4P48lD0VRfgUq5rHpDVVVVxTiEOIKEkpUp04O3n/fj7VrXcnD3r4j\n1o3rcuzjjK7ElblfokVEYPrnJPI/JzH9fYLACR/wBf/hd9rRhD0cozYD+JyZV3bz7i6Z5s0L7jk1\ne7Z79lxR6hBKB0P7cyiKsg54RVXVXXlsaw2MUVW1S+bjkYCmquoHBR1T14upe4zgczQNoqPBZILT\np129sKhSxfUAoPL/t3fv8VGUVwPHf5vNhQIiUEIDLcilHkC5KigiqIGAUYpVLCGElCVQEBWK/VgB\nAWm8YMpLFbAUKwgFDJcIIhcjEEKkrVbECIS0XJ7aagEJmGCCkhsk2feP2dzIhQRCBpPz/Yfd2ZnJ\n2fksc+aZ55nz/BhOnix322/uG06nv75BNj/gCF3wooBpP1jM2uxHABg/HqKiwN+/7LYpKdC2LXTq\nBMnJ6CgrZQuHo3q/vOvhtlVFAScCN4tIO+AUMBIYVZUdpqZ+VzORfc/5+9+gx8Kjqsfi3nsbsGGD\nD3v2ZNK1awHeq9bR5JehAHy7ah15FexjWvv1pP3Vl3lMow0nyW/VmoVJQYz8OIsZM/xYvtzJxo1u\nZszIxeW6iHeJ/3kLFviSl+eHy5VDWtq1b3no76KYHosrZ9dQ3UdE5ATQF4gVke2e5a1FJBbAGJMH\nTAZ2AoeBGGOMdpara6pwdsGEBOvsXuaJ9HIcPOjFqlU+SNsspgS8XTT0FuCuu/LZvTuLl1/Owe2G\nZ59tQFBQQ/butWYvvHABVq3yoUkTN7/4hd6yUt8fda6B7Ha73XolYdGrqmJVPRZnzzq45ZZG3HVX\nPps3Z192/YICeOCBhhw44GTTpiz69694VqnUVAdz5/qydq3Vv/Hooxfp0SOfOXMa8NhjF3jxxdyq\nf6GroL+LYklJnzB58mTWrNlA27btqrzdvHkvMXLkaNq1a3/tgqtlLVs2qVY+0CfMlSrhhz9006tX\nAfv2OfmuCufX6GgfDhxwMnz4xUoTB4C/v5uFC3PZvj2Tnj3zeecdH+bMaQBARITWsarMpc/Q1JT3\n3nuPfv36s2vXzmptN3367DqVOK6EJg+lLhEYmEdenoO//a3yLsGzZx3MnetH48ZuIiOr3mq4/fYC\nduzI4tVXc2jRooBHH71Ihw46zqMil5avv9zDmlWVlZXFoUOH+M1vppOQsKvcdbKzs3nmmamMHRvG\nmDEjSUiIB2Dy5Ikc81RgHjx4AEuXLmHs2DAeeyyC9PRvAEhPT2f27GlMmDCGCRPGkJycVGb/06Y9\nxX/+8zkAERFhrFz5JgBvvvlntm3bTHZ2NlOnPsG4ceG4XKF8+KFVtPP11//IphLDxZcvf4N166IB\nWLt2NRMmjMHlGsXy5W9c1TGqzPXQYa7UdWXQoDxeecWPhARnpbP4zZ3rS3q6gxdeyCEgoHonfy8v\nCA+/yOjRF2uqfNb3VqPI2fht21zh514njpdZ5kw5RdP7Aylo/eNyt8kd9jCZkS9V+nc//PCv9O/f\nn4CAAJo2bcaxY0fp1KlzqXU++eQftGjRkvnzFwGQmWk9OFpyYFJOTg5du3Zn4sQnWLLkNbZufReX\nazyLFv2BkJAwunfvyenTp/ntb6cQHV36+aDu3XuSlHSAgIAAvL29SU4+BMChQwd55pmZ+Pr6EhU1\nn4YNG5GRkcGkSRH0738vQUFDWLToFYYPHwHABx/sZsGCxezbt5eTJ0+wbNlqCgoKmDHjaZKSDtCj\nR69Kj8WV0OSh1CV69SqgWTM3CQneuN255Q6dTUz0Ijraly5d8q9qjnGHQ4fm2iU+ficTJ/4KgMDA\nQcTH7yyTPDp2vJk//WkRr7/+R/r1G0CPHmUHTfj4+NCvX38AOnXqQmLiJwAkJu7jf//7omi9rKws\ncnJyaNCgQdGyHj16sXHjelq1as1dd/UnMXEfubk5pKScok2btuTl5fHnPy8mKekgXl4O0tJSSU//\nhptv7kRGRjppaWmkp3/DDTfcgL9/S2Ji1vLpp58QEREGQHZ2DidPntDkoVRtcDrhvvvyePddH44d\n86Jz59IP+OXnw/Tp1glg3rxcfHzsiLLuyIx8qdJWQuFtq5IKR7RVNALucr799hz79ycya9YXFBS4\nyc/Px+Fw8OSTU0ut16ZNW1asWMPHH3/IsmVL6N37DsaO/VWpdZzO4tOol5eD/PzCvi83S5euwqeS\nH0iXLrdy9OgRWrf+CX363Mm5cxls2fIunTpZZfzi4rZz7lwGK1ZE43Q6GTHiIXJzrf6xwMAg9uyJ\n5+zZswQFDSnaZ3j4WH7+8+FXdFyqQ/s8lCpHYGDhkF1nmc9WrvQhOdlJSMhF+vatvJNcXb0y0wd7\nytdfaeIA6zZPcPBQEhIS2LBhK5s2xdKqVWuSkg6UWi8tLQ1fX1+GDHmAUaN+iTHHqvw3+vTpy4YN\n64ve//vfZbf19vbG378lH3wQT9eu3enevRfr10fTs6fVUsjMzKRZs+Y4nU7270/k9OmUom0HDhxM\nfHwce/bsJjAwCIA77+xLbOxWsrOtkYKpqV+Tnp5e9QNTDZo8lCpHYKCVFHbvLt04T011EBXlR5Mm\nbubMqZ2htYoy5euv1u7dcdxzT2CpZffdN5D4+LhSy/7738+ZOHGspzN7GS7X+DL7Ktn/UfL1U0/9\nlmPHDuNyjSI8PIQtW94tN5aePW+jWbPm+Pr60qNHT9LSUotuMw0ZEszRo0dwuULZsSOWm24qHuHV\nvn0HsrOzaNnyRzRv/kPASliDBwczaVIELlcoc+bMIDs7q5pHp2rq3N1Wfc6jmI7nL3Ylx2LQoIYc\nO+bF0aPnadzYWjZlSgNiYnyIisq5qr4OO+nvopgei2L6nIdSNWTQoDwuXHDw0UfWrau9e53ExPjQ\nrVu+lk1X9Z4mD6UqMHCgdesqIcGbvDyYPt0PgN//Pgdn2a4QpeoVHW2lVAV6986nSRNrdsEOHQo4\ncsTJ6NEX6NOn8vLqStUH2vJQqgLe3tb0tMePezF3rh9Nm7qZNUvLiCgFmjyUqtSgQdatq5wcB7Nm\n5dKiRT1/HFwpD71tpVQlBg7Mw9vbTbduBYSHaye5UoW05aFUJVq1crNzZxbr1mVpJ3kdM2BAH+bN\nK56YdO3at1ixYmml22ze/A47dsTWeCxpaanMnj29xvd7LWnyUOoyunUroHlzu6NQNc3Hx4ddu3Zx\n7lwGUPoBv4o8/PCjBAcPrfFYWrTw56WXKp1h+7qjyUMpVS85nd6EhIQQE7O2zGcpKaf49a8n4XKN\nYurUJzhz5jRQuvT5hg3rCQ8PweUaRWTkLNxuN6Ghw8nIsJJRQUEBoaGPFCWnQgcOfEZERBgREWGM\nGzea7OxsUlJOMWbMSADef38bM2c+w9NP/5rQ0OEsWfJa0bb79u1l0qRxjBsXznPPzSgqQ2IH7fNQ\nStkqMtKPbdtq9lQ0bFheleZYCQsL42c/G8bo0WNKLV+wYD4PPjiM4OChxMZuZeHCPxAV9QccDkdR\nFeQ1a1axceM2vL29ycw8j8Ph4P77HyAubjshIaNITNzHT38q3Hhj01L7Xr8+mqefnkHXrt3Jyckp\nt3Di558bVq5ci7e3D2FhjzJiRCg+Pr6sXr2CRYuW4OfXgOjolcTErClTqLG2aMtDKVVvNW7cmODg\noaUKGAIcPpzM4MHBANx//4MkJ5edeKpjx5uJjJxFXNx2vLysDrGhQx8q6hOJjd3C0KHDymzXrVsP\nXnvtVTZuXM93332Ls5zOtNtvv4OGDRvh6+tLu3btSUk5xb/+lcyXX/6XSZPGERERxo4d7xe1iOyg\nLQ+llK0iI3OrNRNjTRsxYhTjx4fz4IOlT/TuCmbpKlw8f/5CDh7cz0cf/Z3Vq1ewenWMp0hhcz77\n7FOOHDlMZOTLZbYPDx9Lv34D+PjjD3n88fG8+uof8fHxLbWOr29xa8TLy1lU5r137zuJjJx7NV+3\nxmjLQylVrzVp0oTAwCDee29LUad5167d2b3bqrAbF7e9qMptYUJxu92cOXOa227rzeOPT+H8+fNF\n1WuHDXuYF154joEDB5fbCf/VVyfp0KEjo0e76Nz5Fo4f/99lY3Q4HNx6azeSk5P46quTgDVF7oly\nZlmsLdryUErVSyVP7KNGhbNp09tF7596ahpRUc+zdu1bNGvWjJkzf1e0jcMB+fn5vPjiHDIzz+N2\nuxkxIpRGjazSy3fffQ8vv/x8mZZMoQ0b1rF/fyIOhxcdOnSkb9+7SU39uige62+UTTpNmzZl1qxI\nIiNncuGC9czRxIlP0KZN25o5INWkJdnrMC03XUyPRTE9FsWuxbE4evQwixcvZPHiyp8Zud5UtyS7\ntjyUUqqGvPXWSrZseYff/a7iaXXrCm151GF6hVlMj0UxPRbF9FgU08mglFJKXXOaPJRSSlWbJg+l\nlFLVZkuHuYiMACKBzkAfY8z+Ctb7EvgWyAcuGmPuqK0YlVJKVcyu0VbJwCPAG5dZzw3cZ4z55tqH\npJRSqqpsSR7GmKMAIlKV1evciDCllPq+u977PNxAvIgkisgEu4NRSilluWYtDxHZBQSU89FMY8y2\nKu7mbmNMioj4A7tE5Kgx5u81F6VSSqkrcc2ShzFmcA3sI8Xzb6qIvAvcAVSaPBxVmQ5MKaXUVbke\nbluVe7IXkYYicoPndSNgCFZHu1JKKZvZkjxE5BEROQH0BWJFZLtneWsRKZxdPgD4u4gcBD4B3jPG\nxNkRr1JKKaWUUkoppZRSSimllFJKqbqnzgxrFZFgYCHgBN40xsyzOSRbiEgbYDXQEushy6XGmNfs\njcpeIuIEEoGTxpjy5watB0SkKfAmcCvWb2OcMWavvVHZQ0SeBcKBAqxRnBHGmFx7o6odIrICGAp8\nbYzp5lnWHIgBbgK+BEKMMRmV7ed6GKp71Twnh8VAMHALMEpEutgblW0uAr8xxtyKNZrtyXp8LApN\nBQ5jnTDrs0XA+8aYLkB34IjN8dhCRNoBE4DbPCdPJxBqa1C16y9Y58qSZgC7jDEC7Pa8r1SdSB5Y\nDw9+boz50hhzEVgP/NzmmGxhjDltjDnoeX0e6wTR2t6o7CMiPwEexLrirjMt7eoSkRuBAcaYFQDG\nmDxjzDmbw7LLt1gXWQ1FxBtoCHxlb0i1x1OlI/2SxQ8BqzyvVwEPX24/dSV5/Bg4UeL9Sc+yes1z\nhdUL6zmZ+moB8AzW7Yn6rD2QKiJ/EZH9IrJMRBraHZQdPFW6XwGOA6eADGNMvL1R2e5Hxpgzntdn\ngB9dboO6kjzq++2IMkSkMbARmOppgdQ7IvIzrPu6B6jHrQ4Pb+A2YIkx5jYgkyrcmqiLRKQj8BTQ\nDqtV3lhERtsa1HXEGOOmCufUupI8vgLalHjfBqv1US+JiA/wDhBtjNlsdzw26gc8JCJfAOuAgSKy\n2uaY7HISa8DAp573G7GSSX3UG/iHMeasMSYP2IT1W6nPzohIAICItAK+vtwGdSV5JAI3i0g7EfEF\nRgJbbY7JFiLiAJYDh40xC+2Ox07GmJnGmDbGmPZYHaIJxpgxdsdlB2PMaeCEFE+iEwT8y8aQ7HQU\n6CsiP/D8fwnCGlBRn20FXJ7XLuCyF512zSRYo4wxeSIyGdiJNXJiuTGmXo4kAe7GGoJ4SEQOeJY9\na4zZYWNM14v6fntzCrDGc4H1HyDC5nhsYYxJ8rRAE7H6wvYDS+2NqvaIyDrgXqCFp8bgHOD3wNsi\nMh7PUF37IlRKKaWUUkoppZRSSimllFJKKaWUUkoppZRSSimlLk9EmovICRHpXWLZTBHZWIN/Y5mI\n3F1T+1PqWqnv9X6UqhYReQh4Gau0RydgO9DTGJNma2BK1TJNHkpVk4i8BaQB9wBRxphyWx4iEo2V\nYPyAz7EmX8oQkXBgMtAf6wnnOOBtY8xSEdkDzDfGxIrIRKwCfrlYpYRCjDHHrumXU6qK6kptK6Vq\n0xRgPPBFRYnDY6oxpo8xpjtW7aTpAMaYaOCfWCUhZgNpxpjC8hglK5r+HxBojOmFVczveI1/E6Wu\nUJ2obaVULQsCzgGdRcTXGHOhgvVcIhIG+AKNAFPis8lYNZUKS6WXJwFYLSLbgFhjzBc1Er1SNUBb\nHkpVg4j4Y00w9QDwGfB8BesNACYB93taHs8BDUqs0gorofgAN5a3D2PMcKyWSSPgAxG5dOpQpWyj\nyUOp6vkTsNQY80+sudHDROT2cta7Eat18o2I+AHjCj/wVLWNwZrh8HlgvYg4S24sIk4R6WiM+dQY\nMw+rX6TnNflGSl0BTR5KVZGIhAA/xRpthTEmA3gS+ItnLuySdmCVPTfAHqxWSsm+jP3GmLeNMSuB\nL4AXL9ne6dnvIRE5CAQAb9T0d1JKKaWUUkoppZRSSimllFJKKaWUUkoppZRSSimllFJKKaWUUvXM\n/wPHE2yc7pnSvwAAAABJRU5ErkJggg==\n",
       "text": [
        "<matplotlib.figure.Figure at 0x106f9d750>"
       ]
      }
     ],
     "prompt_number": 3
=======
       "png": "iVBORw0KGgoAAAANSUhEUgAAAYoAAAERCAYAAABl3+CQAAAABHNCSVQICAgIfAhkiAAAAAlwSFlz\nAAALEgAACxIB0t1+/AAAIABJREFUeJzsnXd4FHX6wD8zsy2dhEBoUiwj0gUBpShFujQJCCgoiO08\nz3an3HmWu9Of3TsbdhTpvXchgIhIkS44YFdaSCCkbJ2Z3x/LhiSEkL7ZzffzPHlgp76ZzM47bweB\nQCAQCAQCgUAgEAgEAoFAIBAIBAKBQCAQCAQCgUAgEAgEAoFAUFZUVe2oqmpKIcsHqqq6TVXVLaqq\nTgiGbAKBQCA4jxyMk6qq+gTwEWAvsNwKvAH0Am4C7lVVtXblSygQCASCAEFRFMAR4FZAKrD8GuCI\npmkZmqZ5gc3AjZUtnEAgEAjOExRFoWnaAsBXyKpYICPP50wgrlKEEggEAkGhBMuiuBgZQEyezzHA\n6SDJIhAIBALAEmwBCnAIuEpV1XggG7/b6dWidjAMw5Skgh6sKoosg2leuNxqhcsug8xM/4/LVfRx\n6teH33+vGBkFgqpMr16wbp3//z17wtq14HbD1q2QkgIbNvj/73Zf/Bji+wOAVIIHZ7AVhQmgquoo\nIFrTtI9UVX0MWI3f2vlE07RjRR1AkiRSUzMrXtJyIJELgzIAps+HkePEjKuBWb8BZnQMZnQ0tlUr\nCt1eN0zSC/mda9WKCZlrUdGIa3GecLkWccmDsW3Kkyj5xReYdn8+jOTxAGBKEr4WrfB27or1y41Y\nD+y74Djua5qTqf2CGZ9QKXKHAyHyKn5xTNM0Q+VLEN+lAxbtUL5let16nJ06C1+rNhdsf8EXA79m\nzX7yKZyPP3nB9uHyQCgPxLU4T7hci8SkOKRCLHLTYsE5/h68nW/Ee0MnzBrxuesSWjdFOXYUACOx\nFnKjhrBzJ0at2mS+9DqegYMrTf6qRu3ascV+/le1GEXYEvHhJCzaIcw81p5etx7pew4VqiQAMuYt\nRq9bL/ezkVATMzaO6JdfIPKl5wt3YwkE1QyjVm2yn38ZT78B+ZQEwNmps9Dr1kOvW4+MWfNh61ay\nnv430tkM4u4eQ+zdY5FOngyS5KGDUBQVjWkS+cYrRP9zInrtJM5++GnujXt26qxL7p7vRp+zkDMr\nvkBv1JioN14h5r5x4HRWwi8hEAQZ08SofWFJ1aW+R75WbUjfc+j8C5nFgvOhRzidsgVvh+uxL11E\nQtf22OfNJi55EIlJcSQmxRGXXH0tjcIQrqeKxDSJ+tfTRE56C71hI87MXYzR5PIyH1ZKSyPuzlFY\nt23F2649GVNmYtauHTYuhvJAXIvzhMO1iHzpP0S98Sqm1Yrk9QLnLfKSkO9aGAaOyR8S/fxzSDk5\nF2xblFs4HCiJ60koiopC14l+8nEiPp+M7yqVjLmLMerVL7/ju93EPPpnHPNmo1/WkIxpc0i4sWPI\nPxDKi3B4OJYXoX4tHFMmE/O3R/A1uZzMV//Ha3f9wFJXb2q1qUMdNZo6dUzq1jWpU8c4969JYqKJ\nXIi/pLBrIf/8EwkdWheeOFIKZRQqlERRBDvrKSzw+eDVV200aGCSnOwlwuIl5qH7cSyYi7dFKzJm\nL8SsVat8T2q3k/nuh+hXXEnUyy9QY0AvuOpKEnfvBsDbtRsZ8xaX7zkFgkrGtmYl0U8+hpGYSMbM\n+ZyMvZJXXLeg62DukGBH4ftZLCZJSX6lcdllBk884ebKKwuP6RmNm4AkiZhfEQhFUQ6kpCj897/+\nNL0XnrdxT/wcHv7xSxLbdyRjxlzMuBoVc2JJIufxJ9Evv4KY++/mzK4feZo3mc8w4jedJqnBHmp2\nUal5VQ1q1zapXds496//JyHBRFEqRjSBoKxYvt1B7L3jwG4nY9ocjMuvYMGHFnw+ieefdzF6tJcT\nJySOHZM5dkzi+HGZ48elfP/fs0dm504FhwPeeuvi9Unert0uyDDU69QpVhyxOiBcT+XAP1qn8PGx\nQdzBVFZK/Ukza2KVvAwZ4uP+Pxu0bGlU6PkNA5bXeZiJvEQqtUkkFQOZdGoWuZ8s+030++7z8tBD\nngqVsbIJdXdLeRKK10L+8Qfib+mFlJ7O2c9n4undD4AePSI5dEhm795sEhMvbQHoOrRtG0VOjsSB\nA1nUr3/xa5E3lRbAOWYcWa+/WT6/UBVEpMdWIrHDBrPyWFviSedTxvGreRnvWx6kSQMPcxdG0LNn\nFIMHR7BihQVdL//z790rM2BAJHczmRwieYkn+YP6pJGICzs/1W7P6tXZTJuWwxtvuJg40c348R4G\nDvTSvr3OmTMSn31mLX/BBIJSIp06RdyoYcinTpH18hu5SmLfPpn9+xV69fIVS0kAKAoMHOgjI0Pi\nyy+LNp9zMwzr1MXX5Aoipn6KNWVdmX+fcEC4nsrIgS/P8AcNuJ1pWNCx4OQ+3yTGexezYJbG++/b\n2LDBwtdfW2jc2OCeezyMGuUlOrps5z19Gl580c6UKVZMUyK5Vgr/TR1DA/7I3caSlEDc9De4tlXA\norlQU40YEcGGDRbOnIEaFeQhEwiKTU4OcXcMx/LTj2Q/+ldcd47PXTV7tv+FZuTIwvqJXpyBA318\n+KGNJUusjBx58e0CqbQAyr69xPfpRsyjf+b0xq8rzn0cIgiLoows4xYAbmFZvuWyZNKjh86cOU42\nbcpmzBgPx49LPPWUg9ato/n73+0sXWrh+PGSef8MA6ZPt9KpUxSffWbjyisN5s7NYdKB62hQIKnK\n07PXJVP7Wrb0K4/9+0WwQhBkfD5i7xuH9duduEaMImfi07mrPB6YP99CYqLBzTeXTFG0b69Tt67B\nypUWzmXWXhK9ZStyHnsC5egfRD3zjxKdLxwRiqKMLI0aiYKPvqzKXVawCKhpU4PXX3fz7bfZTJzo\nJiLC5JNPbNx9dwStWkVz7bVR3HOPgw8+sLJjh3zRfmZ79vjdTI8+6sDplHjmGRcpKTncdNM5S2HJ\nknPFeXXxNb6ciBlTsWz7pkj5A/GTffvErSAIDnHJg/2FbvUSsK9eieem7mS+8bY/E+kca9daSEuT\nGTbMh7WEnlJZhltu8XHmjJTbT7A45Dz8ON5WbYiYOQ3b2lWX3iGMEcHsMnDihETLltF0I4UUegDF\ny7v2eGDbNoWdOxV27FDYuVPm1KnzD2qbzaRlS4PrrtO57jqdpk0NPv7Yyuef+91MQ4d6ee45N3Xr\n5vfT5g1aWrZ+TfygPviat+T02o1gKdzLeOSIRKdO0SQne5k06RJda0OIUAzgVhRV+VoU1s9Mr1OH\ns9Pm5LOGx451sGqVlZSUbJo3L3lyyNatCoMGRTJ+PLz0UvGvhXLwO+Jv7oqRUJPTm7aGVSNBUXBX\nScx67if+MqkVryS9ymPy/wBKVclpmvDzz1Ku4tixQ+HAARldz//nUVWdl15y06VL4VHxgg+EmL88\ngGPWdLJeeBnnPQ8Uuo9hwOWXR9OokcHGjRdWp4YqVfnhWNlU5WtxsUZ/eV+4Tp6UaN06imbNDNat\nK909ahjQpk0UHo/Mvn2ZJbJKIt58negX/oUr+TYyJ31UqvNXRUTBXWXg87Hu81QAur3UjfQB95f6\nUJIETZqYNGniIznZ73/NyYE9e/xKY98+mXbtdMaP95boBs96+t/YVi4n8qUXcA8aipFU54JtZBma\nNzf49lsZpxMiIkr9awgEFcKCBRZ0XWLUqGIGGAoh4H76+GMbX36p0KNH8VMQnQ8+jH3lMhzzZuO+\nZTCe/reUWo5QRTimS8vkqazNup6rYo7ReEDTcj98ZCTccIPOQw95+PBDF/fdVzIlAWDWqkX2P55B\nzjxL1LNPXXS7li11dF3i0CFxOwgqF1298LuTN8ZnmjBzphWr1WTo0JIFsQsyaJB//6VLS/h+bLGQ\n+db7mHY7MX99GCktrUxyhCLiyVAKpNPpbH/pS3KI4uahjmCLUySusePwtrkWx4K5WDdvKnSbFi0C\nAW2R+SSoRNxupJxs8jqeCrbe37dP5uBBhd69fdSsWbYWGx066NStCytWWIud/ZQrl3o12ROfRj6V\nSvTfHy+THKGIUBSlIPLVF1me1Q2A3kPtwRXmUigKWa/8F1OSiJ74uD+SXoDzKbLidhBUHhGfT0b5\n7Vdcw0ZctPX+rFmB2onSu50CyDLceiucPi2xeXPJX4qc9z+It31HHIsWYFuysMzyhBLiyVBClEMH\ncUz+mGWWIcTGGnToUAHl1uWMr01bXGPHY9G+J+KDSResb9rUwGIxhUUhqDSkrEwi//sqRkws2S+8\nnH9mxDncbpg/30qtWkaJYgpFMXy4/99ly0oRnlUUMt+ahBkRQcyTjyGlppaLTKGAUBQlwTSJfnoi\n+41m/OqrT8+eeonjBsEi+6lnMBITiXr9JeQ/8g+Wt9tBVQ0OHpQrpM2IQFCQiPfeQT51CueDf8FM\nKLwn2Zo1Fk6flkhOLnntxMXo0gVq1TJYscKCrxQhD/2Kq8h+6lnktDRinni02nScFYqiBNhWr8S2\nMYXFTR4GoFevsgXXKhOzRjxZz/wHKSeH6H9OvGB9ixYGOTkSP/wgbglBxSKlphIx6W2MWrXJufdP\nF90u0LLjttvK7nYKoCj+7Ke0NJmvviqdBe2ccD+eGzpjX76ExDo1qsVEPPFUKC5uN9HP/B1TUVgS\neRuKYtKzZ+goCgD3iFH+8Y/Ll2BdvzbfOhGnEFQWkW++hpydRfZjT3CxpmcnTkisW6fQurVOs2bl\n2305kP20ZEkpqwNkmYDpLZkmkmli25RCQuumWPbuLi8xqxTiqVBMIj6YhPLzT/wy+jF2fhdFhw46\n8fGX3q9KIctkvvwGpqIQM/Gv4DpfiX2+lYeIUwgqDvnXX4j47BP0Ro1xjbnrotvNn++vnSiPIHZB\nrr9eL5P7CcC6/cLWOMqxo8SOKaLrYAgjFEUxkE8c9wfeatZkafMnMU0ppNxOedGbt8A54X6Un38i\n8p3/5S5v0cL/hiR6PgkqkqhX/g/J4yF74j/BZit0G9P0ZzvZbCZDh5a/olAUGDDA737askW8GBUH\n8VQoBlEv/MtvKk98mjWbYwHo0yd0o745T/wdPakOka++6G/GlhTHZeMH06iRwf79cnWJzwkqGeW7\nA9jnzsLXvCXuockX3W7PHplDhxT69PGRUEGtlcrqfvJ27XbBssLSe8MFoSgugWXXThyzpuNr1oKM\n4XeSkuKfK3HllRU7ta4iMWNiMRMScv2rAR9r2xMrSU+XOXo05FuACaogUS/+G8k0yf7ns34//0Uo\nz9qJi3HDDTqJiaV3P2XMW4xet17uZ1OSOL1hS4n7vIUKQlEUhWEQ/Y8nAMh64WW+3mYjO1uiTx9f\n3g7IIYly6OAFy9q6vgZEQFtQ/li2fu1vIX5DZzw9el10O7cbFiywUru2QffuFWe1B9xPp07JfP11\n6dxPgYl4RmwskmkSMTl8GgYWRDwRCiG3P37deKw7t+MeOARv566sWeM3U0M1PnEprmUXIALagnLG\nNIl+/lkAsv/5HEW9Za1ebeHMGYnhw30X64xfbpTV/RSYiJe2+xBGjRpEfPy+v5tnGCIURQEC/fED\nLhkAyzdbUPbsZs0aCzExJtdfH7rxiQCF+Vhb1T4GiIC2oHyxrV2FddtW3H0H4GvfschtA26n8qyd\nuBgB99Py5WWcZx8djXP8vchpaThmTi03+aoS4olQAOuXGy5Yppw8ye+jnuHXX2W6d/ddLFkjpLjA\nx2qzYd+3kcREQ4xFFZQfuk7UC//ClGWy//FMkZueOCGxfr3Ctdf6h3VVNBYL9O9fNvdTAOeE+zEj\nIoic9DYl7jgYAghFUUyWu28GoHfv8HE7BXysps2G5PFgObCPFi0MfvtN5syZYEsnCAfs8+dgOfgd\n7hGj0JteU+S2c+daMAypUqyJAGUuvjuHmZiIa/QYlN9+xb5ofnmIVqUQiqIAF0t7W9zwz8iySc+e\noe92ChDwsZ79bDoAkR+8m6dCW1gVgjLidhP1yv9h2mxkP/GPIjfNWztx662Vpyg6ddKpWbMc3E9A\nzgMPYSqKvz4pzHLMhaIoQMachZh5omh63XocXv892w/Gct11epl74ldFPD164bvyKuwL5tKqYTog\n4hSC0pObDNKwNsqvv+Acdw9Gg8uK3GfXLhlNU+jXz0eNGpUkKOfdT6mpMlu3lu3lyGjYCPeQYVgO\nfofti9UXrH/vPSu9e0eSlVWm0wQF8TQogHXDeiSfDzMiIreAZt06BcOQ6N07fKyJfMgyzvseRPJ6\naXdgGiAynwSlo7BkEPui+ZfsgVQZtRMXo7zcTwA5Dz0KQMTb/8u3/OefJV54wc7u3QrLl4feBGqh\nKAoQ8dF7AJxZsiq3P/7atf4/bDjFJwriGj4SIz6elotfJjLS4MABcWsISk6hySAnjhfZA8nlgoUL\nrSQlGdx0U+W/jHXu7Hc/LVtWdveT3qw57l59sG3dgmXb+X5Q//qXHY/HnxY8f36IzCbIg3ga5EE5\nchj7urV4O1yPr/W1gH8g3Pr1Fho2NLj66tCtxr4kkZE477oby+k0WtY+jqbJOJ3BFkoQ7mzdqnDb\nbRFkZEiMGOGt8NqJwsjrfvrmm7Jb0s5zVkXkO/8FYPNmheXLrbRvr9O2rc6mTQonT4ZWxa5QFHmI\n+Ph9AHLufSB32TffKGRmSvTuHfrV2JfCNf5eTKuVtqdT0HWJQ4fE7SEoGcXtgbR9u0xycgSDBkXy\n9dcWevXy8eCDF47prSwGDiw/95O34w1423fEvmoF5v6D/POf/nHJL7zgYtgwL4Yhlct5KhPxJDiH\nlHEGx6wZ6PUb4Ok/MHd5uFdj58VIqoN7aDJtM1IAEacQlJyMuYsuSAbJO+J01y6ZUaMiGDAgik2b\nLHTr5mPFimymT3dWWAPA4tCli05Cgt/9ZJTVcSBJubGK2X/bz3ffKYwc6aVNG4PBg33Ishly7qdK\nV2uqqsrAJKAV4AYmaJr2Q571jwJ3A4GBtPdpmqZVtFyOGdOQcrJxPvYEAfvXNP0tBaKiTDp1CtNA\ndgFy7nuQa+f8BRA9nwQlx/LNVn8yiMOBEZ+Qa0ns2yfz6qs2Vq3yPyA7d/bx5JOeKtPlIOB+mjbN\nxrZtSpnl8vTuS+qVHfjXzkFEReo89ZQbgNq1TW68UWfDBgs//STRpEloZFEG40kwBLBpmtYJmAi8\nXmB9W2CMpmndz/1UuJJA14n45APMiAhcY+7MXXzkiMzPP8t06+bDbq9wKaoEestWqJ3iseBl/zZ3\nsMURhBgRn34IQMasBaTvOcQ+a1vGjXPQs2cUq1ZZ6dDBx4IFOSxc6KwySiJAebqfkGWea/ARaSTy\nZMulJCWdVwiBOpEFC0LHqgiGougMrALQNO0b4LoC69sB/1BV9UtVVS8c7lwB2FavRPn1F1zJIzHj\nz9u/a9b4XS99+oS/2ykvxgP30ozv+O57W5mzQATVB+nECezLluBreg3f1+nCvfc66NYtkuXLrbRr\npzN7dg5Llzrp0qVq3lRduujEx5ssWWLh9OmyHevwYZkPN7fkcuUX/rZ3HFJ6Wu66AQN8OBwm8+db\nQqYuLxiKIhY4m+ezfs4dFWAmcB/QA+iiquqAihYokBLrvOf+fMvXrLEgSeFVjV0cPL360Dr6CDm6\nnR+3lfEbI6g2REyfguT1kj12AsOHR7FokZVWrQxmzMhhxYocunfXq3RCiNUK48Z5OHlSZuTISM6e\nvfQ+F+OZZ+z4fBLPj9iBw3kmXwvymBh/qv2RI4oobL0Yqqq+rqrq8DyffyuwPjbP/x9QVfWfRR3P\nLCt79pgmmObNN+dbnJZmmopimtdfX+YzhCT/HfalCaY5fejcYIsiCAW8XtNs0MA0Y2LMLWuzTDDN\n0aNN0zCCLVjJ0HXTvOsu/yOhc2fTzMws+TGWL/fv36OHaRpnM00zIcE0a9Y0zays3G0WLfJv8/jj\n5Sh8CSnJczsYOVpfAQOBuaqqXg/sDaxQVTUO2KuqajMgB79V8cmlDpiamllqYaJffo0IIOOue/Dk\nOY5/uHsE3bu7SU0NXtpeSahVK6ZM1yIvTZKvgfmwa9Uxev16EiIiyuW4lUV5XotQpzKuhW35UuJ+\n/x3n+HuYec7H369fDqdOVS1rvDjX4sUXISPDwcKFVvr18zF9urPYt7/XCw8/HIksyzzzTA6nXCaR\n4+4h6vWXyXrzXZz3+FPv27WDuLhopk83+etfs1GqeIJhMOyehYBLVdWv8AeyH1VVdZSqqvdompaB\nP8CdAmwC9muatqqiBJFOncIxfw6+JpfjublP7nJNk3n7bX8v8XCuxi6KFu39v/9uZ1Mc8+cEWRpB\nVSfgWnGOu4dVqyxERvqze0IRRYF33nHRv7+XzZstjBsXgbuYeR2TJ1s5ckRh7FgvzZr582ydE+7H\nlGWinnqSxKQ44pIHY7fDoEFejh8ve4vzyqDSLQpN00zggYKL86yfiT9OUeFETP0Uye3GNeE+kGU8\nHnjnHRtvvGHD4/G3Ow78sasbsbHQuIGHXb9fi+P9v+C6fWyRk8kE1RflsIbtyw14OndFs1zD4cMK\n/fp5Q80IzYfVCh984GLcOIkvvrBwzz0OPvnEhbWIRKVTpyRefdVOXJzJk0+e90LE3jceKVCccW4+\nfULrpgx/fCVTp7ZiwQJLlQ3wB6i+kRSvF8enH2NEx+AaeTu7dsn06hXJSy/ZiY83+ewzJ2+/7arW\nz8bmrSXSSOS4loU1ZV2wxRFUURyfnrMmxt/DypX+d8++fUPfErfbYfJkJ127+li1ysqf/uTAV8Sv\n9fLLNs6elXjiCXe+LtOF9r86dpS+r/Wnbl2DpUutxbZYgkW1VRT2pYtQjh8jfcQ4nnmtFv36RXLw\noMKYMR42b86mf//Qv9HLSsuW/reg3bQh8oN3gyyNoEqSlYVj9kz0OnXx9B3AqlUWZNmkV6+q/YZc\nXBwO+PxzJ9df72PxYisPP+wotHL7wAGZqVOtqKrOXXcVrwOuLJkMHeojI0Ni3bqq3dKj2iqKiI/e\n4wt60n71K7z3no2GDU0WLMjh9dfdxMUFW7qqQWCI0Y7LhmBLWYdy6GCQJRJUNRzz5yBnnsU15i5S\nz9jYvl2hfXudxMQQKRAoBlFRMH26k3btdObOtfK3v9nz1T+YJjz9tB3DkPj3v90XuKeK6n81bJhf\nqcyfLxRFlSNrwy7u33k/vfiCX4/ZePBBDxs2ZFd5P2FlE7AodtbyB/ojPpwUTHEEVQ3TJGLyR5gW\nC66x4/jiCwXTlMLC7VSQmBiYOTOHFi10pk618dRT55XF8uUWNm/2Nzbs0ePCZ8gF8+mB0ylf4WvV\nhhYtDFRVZ80aC5lVOEmv2imKZcssdBrTksncTYvGGaxencOzz7qJjAy2ZFWPpCSTxESDvSfr4Wty\nOY65s5BSUy+9o6BaYPlmK5aDB3APGISRVCc3PtGvX/gpCoAaNWDuXCdNm+p8/LGN//zHhssFzz1n\nx2Ix+fe/XRfdNzCf3oiNRQIc82YD/vyQW2/14XZLVXqgUbVRFB4PTJjgYPz4CE67I/hPrf+xerNE\n69bVM6upOEgStGhh8NvvMqeJR3K7qdn8CuKSBwdbNEEVINDXyTVuAjk5sHGjBVXVufzy8HE7FaRm\nTZO5c51ccYXBO+/YGTQokl9/lbnnHi9XXHHx3zswnz79mz2YViuOaVNy52oHej9V5Y6y1UZRrF5t\nYckSK+3r/MIeWvPwRAWrrRqnNBWTQJxi/08xAEiQm953qfGWgvAlb18n7w2d2bRJwekMT7dTQZKS\nTObPz6FhQ4PduxUSEw0ef7x4aUtmzZq4+w/Ecugglp3bAWjc2KRdO50vv1Q4caJqPpOqjaLYts1f\n1PJKzp+5Kj4V17ARQZYoNAjEKXZxbb7lyrGjRY63FIQ3gb5OznH3gCSxalX4pMUWh3r1/MkvN9/s\n43//cxEbe+l9Arju8HeodkybkrssOdk/0Gjx4qrpfqo2iuLbGT9gwUvHs19gRscgghLFI2BRFFQU\ngmqMz4fj808xomNwD78NXfc30Kxd26Bt2+rjym3Y0GTGDCe9e5csCcbb9Sb0ho1xLJqPlOnvPDho\nkA9FMats6/FqoSisQ0ewK/NK2vItEbhQfvtVuE6KSZMmJlGyk920ybdcr1X7gvGWguqBbdUKlKN/\n4B4xEjM6hh07FE6dkunTx4dcLZ4oZUSWcd0+BiknB/vC+QDUqmVy0006336r8OOPVc/9VC3+rHu+\nysGHlc58lbtMuE6KhyxDs3Y2DnINThy5y123j80dbymoXkR8er6vE5Drdqpuc1vKgmvk7ZiyjGPa\nZ7nLqvJAo2qhKL6iMwCd2BJkSUKTli11dCzsqdkdvU5djKhoHLOmU2Q/A0FYomjfY/tyI57OXdGv\nbgqQ2wSwa1dRh1RcjLr18PTqg3X3LpR9/gba/fv7iIgwWbCg6g00qh6KIt4/+yivoghURgouTSCg\n/dXfF5C+93vcw29DOX4M2wbR/6m64fjsY8Df1wn8k9x++ME/LjiUmwAGA9cddwH+xACA6Gi/VXbk\niMLevVXr0Vy1pKkADAO+drejMT9Rj2OAX0mk7zkkXCfFpEUL/5tiYBqXa/QYABzTpwZNJkEQKNDX\nCah22U7liadnL/Q6dbHPmwM5OUDVrakIe0Xxww8yp3McdOYr9NpJwpIoBU2bGlgsJvv3+1OMfa2v\nxdesBbbVK0SldjUgLnkwiUlxJF5RP7evU6ChUbg1AaxULBZco25HPpuBfdliAHr00KlRw2ThQkuV\nmlcf9opix1L/g6yDmk76/sPCkigFdjuoqsHBg7L/5pUkf9aGz5fbikAQnsQlD8a2KQXJNJHOOc4d\nUyZj2bubkyclduyQ6dhRz9dWW1B8XKPOWefnaipsNhg40MuJEzJbtlSdgUZhryh2Lj4OQLuRjYMr\nSIjTsqVBTo7EDz+ccz8NG4Fps+GY8TlVLvImKDcKnaVw8gSxY0aydq0lbJsAVhZG4yZ4buyObesW\nlCOHAUhO9l/PqtRRNrwVhdfLN1pNYsjkivGdgi1NSFMwTmEm1MTd7xYs3x/KbUUgqF6I+ET54Lpj\nLHDequiBSwXFAAAgAElEQVTYUad+fYNly6y4Lt5nsFIJa0WRuWgj3+tX0b7+byiR9mCLE9IEMp8C\ncQrIE9SeOS0oMgkqnovNUjj24Rw2blRo2lSnSRNhUZYFd79bMBIScMyZAR4PsgxDh3o5e7bqDDQK\na0Wx+5N9AFzXMzrIkoQ+BS0KAO+N3dDrN/BXl2ZnB0s0QQWSMW8xRlyN3M+BjMF1aW1xuYTbqVyw\n23GNGI186hS21SsAf+txgIULhaKoUKSTJ9m2y29FXHdLYpClCX1iY6FRI4P9++XzIQlFwTXyduSs\nTOxLFwVVPkHFoTe4DBPQayflZgwKt1P5EmgUGDH1MwCaNze4/HKDL76w4HQGUbBzhK2icMybzRbz\nBmTJoF27KpRnFsK0aKGTni5z9Oj5XjSukbcD4JghairCEeWHw1gP7MN7Y3fS9x/G16oNug5r1yok\nJRm0aVN9mgBWJLp6Nd4O12PdmIL86y9IEvTv7yUnR2LTpuBnP4WnojBN5Bmz2E57rrnaR0xMsAUK\nD1q18j8Uduw4f+MajRrj6drNn7Xxw+FgiSaoIByzZgDgGnV77rLt2xXS0mR69xZNAMsT5x13Iplm\n7ktX//5+a2358uAX34Xln9ny7Q72aRG4iKDDDcGWJnwINH0rmLbnuv1cUHuGCGqHFbqOfc5MjNg4\n3P0H5i4OuJ3CdeRpsHAPHIIRE+tPDvH5aNvWoE4dgzVrlKC3VQtLReGYMS23EWD79sLtVF40a2bQ\nvLnOF19YSEs7735y97sFI64G9tkzRKPAMMK6cT3KsaO4hwwj0MjJNM83AezSRXy3ypWoKNy3Dkc5\ndhRbyhfIsl8Zp6fLbN0aXPdT+CmKnBzsC+fxlaMnAB06iJu5PBkxwovPJ7FoUR6rIiIC97DhKCdP\nYFu3NnjCCcoVx8zpQH630+HDMj/+KNOjhw+H42J7CkqLa8y56XdT/TUVAwYE3E/BzX4KO0VhX7YY\nKSuTr5SuJCUZXHaZyPEuT2691Ycsm8ydm99v6rr9XNHQ9M+DIZagnJHOnMa+chk+9Wp8ba/LXS6y\nnSoWX6s2eFu1wbZ2FfKJ49xwg7/308qVwW09HnaKwjFzGj/TmBPZsXTooCNVvWFRIU1Skkm3bv5J\nXIcPn799fC1b423RCtvaVUgnTgRRQkF5YF8wD8njwTXyDvJ+iVautKAoJr16CUVRUbhuH4uk69hn\nTcdqhd69fRw9KrN7d/Ae12GlKOSffsT21ZdsvGo8IOITFcWIEf5WyHPnXhjUlnQdx1zRnTfUccya\nhqkouIafnwJ54oTEt9/KXH+9Tnx8EIULc9zDhmPKMlEv/IvEpDiG7/8XEFz3U1gpCsdsv091c51b\nARGfqCj69vURHW0yb54VI08avfvW4Zh2u2gUGOIoB7/DunsXnp69MJOScpevWSOaAFYGsePHIhkG\nEiCZJgO+e51IKYeVC4P3PAsfRaHrOGbNwIiO4etUFYfDpEULUQxUEURGwqBBXn7/Xebrr89nY5jx\nCbj734LlyGEs27cFUUJBWQj07nLddnu+5WI2duVQsGNvBC76mis5/FskmhacR3bYKArrpg0oR/8g\ndcAdHPzewrXX6thswZYqfBk+3P+wmDOnQFB79Lmg9gwR1A5JvF4c82ZjJCTg6dMvd3FWFmzapHDN\nNTqNGwtrsbK5lQVA8NxPYaMoHDP91YybW96LaUoiPlHB3HCDToMGBkuWWAJTHAHwdr0J/bKGOBYt\nQMrKDJ6AglJh+2IN8qlUXMNGkPdNKyXFgtst3E6VQWEde/smfYtFMVixQiiKUiOdTse+Yhm+q5uy\n9cw1gIhPVDSyDMOHe8nOlnJdEoEVrpG3I+VkY18iGgWGGrlup5F35C4zTXjvPb/SGDxYKIqKJmPe\nYvS69XI/m1Yrxr5tdOlqsGePwu+/V34qZ1goCvuCuf5UvlFj2LbN7zO/7jqhKCqa4cP92U8XuJ9G\n3o4JRD/yIIlJccQlDw6CdIKSIqWmYvtiNd4WrdBbtspdnpKisGOHQv/+Xpo1E3G/yuDs1Fnodeth\n2u1IXi+K9n1u8V0wrIqwUBSOGdMwLRayh97Gzp0KV12lk5AQbKnCnyuvNGnbVmfDBoUTJ86/5cQ8\n+pA/YwN/1oZtUwoJrZti2bs7aLIKLo1j3mwknw93nkps04RXX/W36//rXz3BEq3a4WvVhvQ9h8h8\n5wMAHLOm07evD0kyq4eiUFVVVlX1fVVVt6iqmqKq6hUF1g9UVXXbufUTLnnAXbuw7tuDp1dfDpyq\nQ3a2iE9UJsOHezEMKV+jwELnLB87SuyYkRcsF1QRTNNfO2G14rp1RO7i9esVdu5UGDDAK7IIg4C7\nT3+MGjWwz5lJUk0v7dvrbN2qcOpU5bqfgmFRDAFsmqZ1AiYCrwdWqKpqBd4AegE3Afeqqlq7yKN9\n+ingH8u5fbvf7STiE5XHkCE+rNYLW3oIQgvL3t1YDn6Hp09/zJo1Ab818corwpoIKg4H7qHJ/j5q\nKV/Qv78Pw5BYvbpyrYpgKIrOwCoATdO+Aa7Ls+4a4IimaRmapnmBzcCNRR7t7bcxrTY8PXvlxifa\ntxdvPpVFzZomPXv6OHBAYf9+/+10sTnLgelogqpHbhA7j9tp3TqFXbsUBg700ry5+E4FC9cof2KB\nY9aM3BkVle1+CoaiiAXO5vmsq6oq51mXkWddJhB3qQNKXg8J7VqwY4tOfLzJlVeKm7oyGTHCf/MG\nrIoLsjbsDtL3HMLXqk1Q5BNcApcL+4K56El18HS/GThvTUiSKayJIONrfS2+a5phW72CJrGnaN5c\nZ+NGhcxKzD4PhqI4C+SdOSdrmhZ4smcUWBcDnC7OQU8cM/n1uIP27UUjwMqmVy8fNWqYzJ9vyR1H\nkZu1YbGAz4uUmhpcIQUXxb56BfKZM7iHjwSL/0117VqF3bsVBg3ycc014sUrqEgSrttuR/J4sC+Y\nS//+PjweiXXrgtt6vEJRVfVWVVU/Pff/61VVXZ5nnVVVVU1V1XhVVW2qqu5QVbVuUccz/S8/5hyS\nTTDNF180BUHggQdME0xz1aoCK/73P/+K118PilyCYtC3r/9v9N13pmmapmGYZrt2pilJprl/f5Bl\nE/g5ftw0FcU027Y19+zx/7luu61shyzJczsYKmkh0EtV1a/OfR6nquooIFrTtI9UVX0MWI3f2vlE\n07RjxTno5qjekA3Nm+eQmlo9g9m1asWQmhqcauhbbpF5770oPvzQS9u2rtzlUp/B1LT+Df2jjzl9\nxwQqy9wL5rWoahR1LeRjR0lYswZfu+s4k9gAUjNZvVph585IhgzxUru2i3AyBkP2vpAjib25N/bV\nK6mf9jWNG3dk2TKJ337LqpQBUpWuKDRNM4EHCi7Os34ZsKwkx9Tr1uPLOuOx7jdp3bp6Kolgc911\nBk2aGKxcaSEzE2LOORDNmjXx9OmPfdliLLu/xXdtu+AKKsiHfc5MJMPIrcQO1E1Iksnjj4vYRFXC\nNfIO7KtXEjF7Gv37t2PSJBtffqnQq1fFP/NCv+Cufn2OfzSHfftkWrUyAqN9BZWMJPnnVDidEsuW\nFZhTMfpc1sa5zBpBFcE0ccychulw4B46DPB3iN27V2HoUB9XXy1iE1UJT68+GDVr4pg3m/69nUDl\nZT+FvqL4/Xd2+K7F55NE244gk5wcGGiUv6bC060nelId7Avng9MZDNEEBYhLHkxinRpYfvwBIzYW\nMzbunDVhQ5JMHntMWBNVDpsN17ARyGlpdEpfQe3aBqtWnU8gqUhCX1GAKLSrIjRqZHL99T42b7bw\n2295YhEWC+4Ro5AzzmBfWSKvoqACiEsejG1TCtK5eKZy8iQJrZuy5v3f2L/fb02oqrAmqiIBF2Hk\nnOn06+cjLU3OrR+rSMJCUQQulFAUwSdQUzF/foFGgaOE+6mqUFiLFenYMV77j4ksm/z1r+7KF0pQ\nLPQWLfG2bI3ti9UM6JwGVI77KeQVhWHAjh0KDRsaJCWJgSrBZtAgL3a7yZw5lnzTUPUrr8LbviPW\nTRuQf/8teAIKCmURQ9jja86tt/q48krxParKuEeORvL56Pnb58TF+ZsEVvTk4RIpClVV41RVbV5R\nwpSG77+H06dFI8CqQmysf6b2kSMKu3fnv71co+5AMk0cs2cESToBXNhixUDiOcvzyLLJ448La6Kq\n47p1BKbVSuy8z+nVyz+SeO/ein3nv+TRVVWdoKrqp+ea8x0A5quq+kKFSlUCtmzx/yvcTlWHESMK\nn1PhHjwUMzISx6zpflNQEBSyXnw13+f5Ne5mn68Zw4b5uOIKYU1UdQIp55aD3zGo+WGg4t1PxVFD\nfwIeB0YCi4EWQN+KFKokfHWubE9YFFWHbt10EhMNFi604MmTPGPGxOK+ZTDKLz9j3boleAJWcxzT\n/fPMjRrxeOvU59ka/0NRhDURSrhGjgag/0/vERFhVvgs7WLZK5qmpQP9gRWapvmASqgFLB5btkB0\ntCn60VQhrFYYNsxHerp8QT+a3KD2jKnBEE3g8eCYMxMjIYG0fRqfP3+Ygz9HkZzs4/LLhTURKnh6\n9MKoVZv4JdPpdqMHTVM4cqTiuh4UR1EcUFV1GXAFsFZV1TnA9gqTqIR8/z20a6ejVHyGmKAEBMak\nvvWWjX37zt9m3hs6ozdqjH3ZYqSsEGylEOLY1qxCPpWKa/hIDKud116zoSgmjz4qrImQwmLBNXwk\n8pkzDG7gfxyvWFFxM2GKoyjGAa8AHTVN8wBTgEtPnqtERHyi6tGypUHXrj527lTo2TOKvn0jmTHD\nQrZTxjXydqScHOyLFwZbzGqHY4bf7eQaPZYlSywcOqQwfLiwJkKRgHU++PAbWCwV6366qKJQVfW+\nc/99CugOPKSq6rP4Bw39o8IkKgUiPlH1kCSYM8fJtGk59OrlY/dumUceiaBVq2ge/ukx9tBKuJ8q\nGfnoH9jWf4G33XX4mjbj9deFNRHK6Fc3xdu2HUmbF9P5uhx27VL4/feKcT8Vx6IoeGapkGVBQ5b9\nridB1UNRoHdvnenTnezYkc1jj7mJijL5ZE4CbdjDjdv/y+w308jJCbak1QPHrOn+BoC338nWrQrf\nf68wZIiPJk2ENRGquG67HckwGJawHoAFCyrG/XTJB76qqq01TdtTYNlwTdPmVohEJWTSJNNMTha+\nbgiNFso+H6xZY2Haq2msO1APE5m4OJPhw72MHeuladPySUoIhWtRWdSqFUPqiQwSOrRGPnWKtP0a\nf3mqFjNnWlmwIIcuXarPi1a43RfSmdPUbKmSVr8FDf7YTuPGBps25RSrm3/t2rHFfuEvjkWxWFXV\nJwBUVa2pqupsqpDr6YGCDcsFVRqLBfr39zFjhY0jMW2YGPUmdrvJxx/buOmmSNatE1kJFYH1y40o\nv/6Ca8itZBLD4sUWGjY06NSp+iiJcMSsEY8RG0fijzsZ7J7D998rFVJ8V5wjtgVaqar6NfANsA1/\nnEIgKD0REdQd1oEXsx/hwGsLeecdJ6YpMWVKxWVuVGfyBrGXLbOQkyMxYoQXOeSb+FRv4pIHo6Se\nBGAs/r/x4sGzsOzdXa7nKc5tIgNeIBK/q0oHRNGCoMwEsjZi5kxlxAgf11yjs26dhTNngixYuJGW\nhn35Unzq1fjad2DWLL8yvu02b5AFE5SVvA0ee7OG2pxgVs4gHHeMKdfzFEdR7Ad+AdoB1wOd8FsV\nAkGZ8LVpi++aZthWr0BKS2PoUB9er8TKlWE8ND4YTJ+O5PHgGj2Wn3+R2bLFQufOPho1EkHscMKK\nj9HM4BS1WO3uVq7HLo6i6K9p2nOapvk0TUvVNG0E/roKgaBsSBKukXcgeb04Fsxh8GD/G+6iRcL9\nVG6YJnz8MabVimv4yNz+W8KaCA8KNngMuJ8mt3itXM9TnKynJOB2IAq/YpGBJpqmjS1XSUqJaZpm\nOGUxlIVQzOiQUlOp2fpq9Kuv4XTKV/TpE8nevTL79mWTmFj6N95QvBYVgWXXTuL7dMd9y2DOfDyV\n9u2jSE+X2L8/i6ioYEtX+YTjfZHQuinKsaMAmECLJlkc+SOSffuyiI+/+H7lnfW0AGgNjMEfpxgE\niIECgnLBrFULT6++WA7sw7JvD0OGeNH1C+duC0qHY5r/DdN5x1i2bFH47TeZQYN81VJJhCtnp85C\nr1sPIz4BCbgjfhkej8TixeVnmRdHUSRqmnYnsBRYCHQDOpSbBIJqTyCoXaNnV+56VgVg0SKhKMpM\ndjb2hfPgssvw3tSDmTP9D45Ro4TbKZzwtWpD+p5DpH33A/plDRn73VPIssns2ZWrKNLP/fs90ErT\ntAwgsdwkEFR7Ij56D/D7QRvyG134kq+3yKSu/y64goU49qWLkLMyYdw4MnMUli2z0KiRQceOonYi\nLFEUXGPuor7rB7pf8TM7dyr88EP5NNEojqJYr6rqXGA18Liqqh8AojmMoNywbt6U7/NIZmEis/re\n5UGSKDyImDYFU5Jg3DiWLLHidEqMHOktVtWuIDRxjh6LabVyZ9YkAObOLR+r4pKKQtO0p4C/a5r2\nCzAaOATcWi5nFwgKIZl5yOjMdg4Otighi3JYw7ptK94bu0HjxsyaZUGSTJHtFOaYtWvjHjCQYcfe\nJSbCx9y51nIZJlncwUVHzv27U9O0/2qadrTspxYI/BRM8UviJN1tX/GNtx2//CJef0tDYIqd6447\nOXwYvvnGQpcuOg0aiNqJcMd11wQicXJr7U389pvM1q1lb4sjCvgFQSdj3mL0uvVyP5uRkdzysj9f\nojwzN6oNeabYufsOYMoU/2IRxK4eeG/ojO/qptz1+wsA5RLULmoehUigE1QagRQ/U1FA1xnQKRWL\nxRTZT6Ug7xQ73WJnyhSIiTHp398XbNEElYEk4bxzPDfqKTSMO8OSJZYyt/IvyqLYq6rqjWU7vEBQ\nPAIpftlP/xvJ7abu8il0766zf3/FzgIOR/I2APzyS4Xff4chQ7xERgZZMEGl4R4+EikygjvMz8nO\nLntbnKIUxQPAZFVVX1dV1V6mswgExcQ1+g7MiAgiPvuYIYP8yXWipUfxyTvFTr+mmWgAWE0x42rg\nGprMnWffAcht3VJaLqooNE1bg78iG2Cbqqo3qqraMPBTprMKBBfBrBGPK/k2lF9/YaBtFQ6HycKF\nFkwRgy2SuOTBJCbFkdDmGv8Uu9FjyciAFSssqCq0by8aPlc3XHfdjcphOsYdZONGhePHS2+ZFxnM\n1jQtG3gaf7HdYmBjnh+BoEJw3u0f1540/V1uvtnH4cMK330n8i4uRlzyYGybUpBMM7d5W+Sr/8fS\nd4/jckncdReidqIa4mt9Ld5r2zL27DsYhsT8+aV3PxX57VNV9RbgIHAGaKhpWpPAT6nPKBBcAr1Z\nczydumDblMKwjr8CoqVHUeSdSRBAOX6c2e+eRZZNxlaJ9p2CYOC8awIjzZnYFB9z5lhLbZkXlfU0\nF3gLGK9p2r2apoVXy0VBlSZgVQw8/F8iI00WLiz9TV4dOUhTvvG246abdOrXD7Y0gmDhHnwrNeJM\nblFWcvCgwv79pbPMi9rrBNBS07R1pTqyQFAGPP0GoNerT/z8KfS72cmvv8rs3i3cT4VRsGAR4NOo\nBwFRO1HtiYzENXI0d3o+Akof1C4qmP3nczEKgaDysVhw3XU3cnYWI2JXArBwoch+KoyMeYsx8+S+\neuo0YGrMn4iNNenbV9ROVHdcd95NX1aRaDnD/PkWvKV4dxCvaIIqi/OOuzBtNgZseYa4OJPFiy3l\n0rcm3JBSU8Hnw1QU9Lp1WfSXlRw/LjN0qBeHI9jSCYKNfuVV0LUTo3yfc+qUzIYNJW/pUamKQlXV\nCFVV56uquklV1eWqql7QrlxV1TdVVd2hqmqKqqrrVVWNrUwZBVUHMzER95BhRP34HQOv/YVjx2S2\nbSt735pwI+LTj5A8HrKef4n0Pd8z45urAeF2EpzHeef43DGppXE/VbZF8QCwR9O0G4HPgX8Wsk1b\noLemad01TeuhadrZSpVQUKVwTvAHtUee/QCAhQtF9lM+cnKImPwhRnw8rpF3cPo0rFxpQVV1rr1W\nmF8CP55+t9Cm1u80kw+yaqWFM2dKtn9lK4rOwKpz/18F3Jx3paqqMnAV8JGqqptVVR1XyfIJqhi+\nNm3xtmtP729fIzHey9KlFnzC7Z6LY/YM5PR0nOMmQFQUCxda8XjE3AlBAaxW3GPGMtb4DLdHYsmS\nklkVFaYoVFW9W1XVfXl/gDggYCFknvucl0j8Kbm3A32BP6mq2rKiZBSEBs4J92HFx9C6Wzl1Suar\nr4T7CQBdJ/K9tzFtNpzj/ZbXrFlWFMVk+HChTQX5cY0Zx2hpJhIGc+aUzDKvMEWhadonmqa1zPsD\nZAAx5zaJwV/Il5cc4C1N01yapmUB6znfRkRQTXEPHIJRqzajf3kJEMV3AWwrl6P8/BOuEaMwa9fm\n4EGZ3bsVevTQSUoSRSeC/Bj1G1C7T0t6so5t20r2Harsb9xXQH9gO9AP2FRg/dXATFVV2wIK0AX4\n7FIHrVUr5lKbVBvC9lo8cD83/vs/1IvLZvnyKCZPtmGzFb1L2F6LAB+9C0DEUxOJqBXDG2/4F997\nr+WC3z3sr0UJqNbX4uGHGLvqc76gFyYYUjGNhUr1YqqqGgFMAerin7s9WtO0k6qqPgoc0TRtqaqq\njwG3AV5giqZpHxV1TNM0zdRUUTQO/i9AuF4L+fgxEto259HYj3kz/U6mTcuhd2/9otuH87UAsHyz\nlfiBvXH36cfZqbMBuOmmSH78Ueb777PytRQP92tREqr7tYhLHoRn03Yu50dOkoRUTB0Q8uEuoSjO\nE+5fgph772Lvot/oyDaSk71MmuS66Lbhfi1i7xyNfeUyzixeifeGzhw9KtGmTTTdu/uYPduZb9tw\nvxYlobpfi8SkOCTTJI0EapJebEUhCu4EIYPz7vtpz3YaRxxn5UoLTuel9wlHlB8OY1u1HG/bdniv\n7wTA+vV+L3LPniKILbg0NUkv0fZCUQhCBl+HjvhatuY252dkZ0t88UX1DGpHvPcukmmS86e/5PYP\nX7fOnwkmFIWgKArrC1YchKIQhA6ShHPCfYxiJlA9s5+k1FQcs6ejN2yMZ8AgALxe2LTJQqNGBpdf\nLrKdBBcnY95i9Lr1SryfUBSCkMI9ZBgtle+4hu9YvdQge+D4YItUqURM/hDJ7SbngQdB8VsR27cr\nZGZK9OzpE0V2gktyduqsgLL4o7j7CEUhCCnixoxE1n08yn/xYOfNbzqR0Loplr27gy1axZOTQ8Sn\nH+W26wiwfr1fYfToIdxOgkvja9WG9D2HkKBBcfcRikIQUgSmud3JFC7jV97nflKP6cSOGRlcwSoB\nx6zp+dp1BFi3zoLNZtK588XThQWCsiAUhSAkseHl77yIiwhe5/Fgi1Px6DqR77+Tr10HwPHjEgcO\nKNxwg55XdwgE5YpQFIKQIm/WxngmU5/fmSQ9yI9vzw+eUJWAbcWyfO06AgTcTiLbSVCRCEUhCCny\nZm3Y8fAkL5NjRvLOpmuDLFkFYppETnoTAOcDD+VbtW5doH5CuJ0EFYdQFIKQI5C1oSfV4e6omdSV\njvHJx1bSS1ZDFDJYtn2DdecO3H36oV+l5i73+WDjRgsNGxpceaWYPSGoOISiEIQcgayN9H0axhOP\n84T5Mtk5Mh9+eIkugSFK5LvnrIkHH863fMcOhbNnJXr0EGmxgopFKApBSOMcfw93N1hNbU7w0Qcl\nn9xVlYlLHkxiUhy2VcsxYmLwdrwh33pRjS2oLISiEIQ2djvmsxP5G6+Sma2EjVURlzwY26YUJNNE\nAuTMTBLaXJOvXiSQFtuli4hPCCoWoSgEIY970FDubrONRFL58D2Zs2EwZT1QL5IX5djR3HqREyck\n9u9XuP56kRYrqHiEohCEPpIE/3max3mds9lWPv6oZPOAQxGRFiuoTISiEIQFvo7XM6HvzySQxvtv\nS2SG+MgB/eqmFy6rW4+zU2cBeduKC7eToOIRikIQNkjPTeQR+U3O5Nh5963QfdOW0tKQU0+Stw+s\nXrce6XsO4WvVBp8PNmywcNllBlddJdJiBRWPUBSCsMG4/AomjM0ijjO8/qKHrKxgS1Q6op/9B3Ja\nGs57/+SvF8ljSQDs3KmQkSHSYgWVh1AUgrDCOvEvPGx7n1PZkXz+QehZFdYN63HMmYm3VRuyn3ve\nXy9yzpIIcL5brHA7CSoHoSgEYYWZUJMJj1iJ4SzvvqWQkxNsiUpATg4xf30EU1HIeuMtsBQ+mGnd\nOgtWq0nXrqGnCAWhiVAUgrDD8eex/CXuc1KdsUx7M3Si2lGv/B/Krz/jvP/P+SyIvJw4IbF3rz8t\nNjq6kgUUVFuEohCEHw4Hj75aj2gyeWdSBE5nsAW6NJa9u4l4/x30Ro3J/tvfL7pdSooYUiSofISi\nEIQlNScM5YGkeRx3xzPrpaPBFqdofD6iH30IyTDIfPV/EBl50U1FWqwgGAhFIQhPJIl7X2tEJNm8\n9XE8bpd56X2CRMQHk7Du24PrttF4u/W46HaBtNj69Q2uvlqkxQoqD6EoBGFLXJ/23NdkNX94a7O0\n4ZMkJsURlzw42GLlQ/75J6JeeQEjMZGsf71Q5Lbffitz5oxIixVUPkJRCMKax+I+xoGTl5iI17Rg\n25RCQuum+ZrrBQ3TJOavjyA5nWT95yXMhJpFbi7cToJgIRSFIKypv2cV9/M+v9KImYwC8jfXCyb2\nOTOxbUrB0+Nm3LcOv+T269f702JvvFEEsgWVi1AUgrDnft4HYBV9gyzJeaRTp4h+9h+YkVH+APYl\nfEmpqRK7dyt07CjSYgWVj1AUgrDG27UbKhq1OcGXdMUEjNjYfC0xgkH00xOR09PJ/vs/MS5reMnt\nRVqsIJgIRSEIazLmLcaoW48ubOYPGvCL1Bj57Fks3+6sdFkCE+sSk+JwzJ+D99q2OCfcX6x9RXxC\nEBtBb64AABYqSURBVEyEohCEPWenzqJTzD4A1k6YipGYSMwTj2KfNb3SZMg3sc70p+oqv/2G5cC+\nS+6r65CSYqFePYOmTUVarKDyEYpCEPb4WrWh5by/AfCVpwNn5i7BqFGDmEcexL5ofqXIUNjEOvlU\narGC6rt2yZw+LdGzp0iLFQQHoSgE1YIWLQwiI022bVPQm7cgY84izKhoYh6YgG3l8mCLVyTr1vnd\nTt27C7eTIDgIRSGoFlit0K6dzsGDCmfOgK9NWzJmzge7g9h77sS6fm3FnNg0cUyZXOiqgnMmLsb6\n9RYsFpObbhKBbEFwEIpCUG3o0MH/Rr59uz+DyNehIxnTZoMsE3fX7Vg3byrX80lZmcQ8cDcxf3sE\ns0YNjPiE3HV5J9YVxalTErt3y3TooBMTU67iCQTFRigKQbWhY0e/ovjmGyV3mbfLjWR8Nh0Mg7g7\nbsOy7ZtyOZdyYD81et2EY8E8vNd14PS6zWTMXVToxLqiSElRME1JDCkSBBWhKATVhuuu05FlM5+i\nAPD26MXZj6aA20WNwX1zU1hL1RfKNHFMm0J8vx5YfjhCzp/+wpnFKzEaXIavVZtCJ9YVRSA+0bOn\ncDsJgkdQFIWqqkNVVS00N1FV1XtUVd2uqurXqqoOqGzZBOFLdLQ/qL1rl4LLlX+dp98AdPVqJF3P\nTWEtcV+orCxiHryXmMcewnQ4yJg6m+znnvcHSEqBzwcbNyrUrWvQrJlIixUEj0pXFKqqvgn8H3BB\nop+qqnWAh4BOQB/gRVVVbZUroSCc6dhRx+OR2LNHuWCdcujghcuOHSVucD8ckz/CumkD8tE/wDzf\nsjxvEV3N5lfimDcbb9t2nF63GU+ffmWS9d13baSlyQwYINJiBcGl8KG8FctXwELgvkLWdQC+0jTN\nC3hVVT0CtAJ2VKJ8gjCmY0edjz7yxykCMYtLIWdnEzPx8dzPZmQUviuuRD5+DCX1ZO5yyZmDERVF\n1guvFKstR1EcOiTz6qs2kpIMnnjCXaZjCQRlpcIUhaqqdwOPFFh8l6Zpc1RV7XaR3WKAjDyfM4G4\nChBPUE0JZD5t23ahReHt2g3bppR8y/SkOmQ//S+QJJQfDqMcOYLlyGEsRzSkQmasytnZxI4fQ/qe\nQ6WW0eeDRx5x4PFIvPaakxo1Sn2o/2/v3sOqqtMFjn/Xhg2IiRiiZRHlo7/UxhuZ1NEBMzNhQFDL\naUqtNMdRNDNtJp2TkvdbnjLHzFvaDdNsLCwbHe/3xMuxRjy/MSsCfRqayRDl5t77/LE2N8WtILLA\n/X6eh+dhX9beL4u917t+l/X+hKgW1y1RaK2XAcsquVkOZrIo1gD4+UobhYbKvMFisi9KVbQvQkOh\neXM4cMCXkJAG2Mp2vm7fArffDllZ5u3bbsMnM5Ogil7c6QRf33LdUMV8bMY1/R9mz4ZDh2DAABgw\n4PLLolaGfC5Kyb6oPCu6njz5EpimlPIHAoDWwNdX2ig7++z1jqtOCA1tIPvCzdO+6NQpgNWr7eze\nfe6S2km+K1NKymrkrEzhgof92bCiFsitza64nSda25g4MZDQUBcvv3yO7OwqvUw58rkoJfuiaqya\nHuty/wCglBqjlIrXWv8IzAd2ApuBCVrrQotiFDeoiq6nKFaZKay/fPQJjlubldy+2ovoLsfhgNGj\nAygoMJgzp4BGjar0MkJUO0taFFrr7cD2Mrf/p8zvS4GlVsQlvEPZRPHUU0XX9Fo5767C+eTvaWjk\ncPYa17h46y07Bw/60LdvEbGxct2EqD3kgjvhdVq2dHLzzc4KB7Qr63hgR+44e4zo5t+THVa1lgTA\niRMGM2f607ixk2nTZJaTqF0kUQivYxjm7KeMDBunTl3bBQrvvefH+fMGe/b4EhNTn5MnK/96ZpdT\nPfLzDWbPLiAk5NIBciGsJIlCeKXiabIVjVNcraIiWLPGl0aNXAwfXsjJkzZiYwPZt69yr7lkiZ0D\nB3xISCgiLk66nETtI4lCeKX777/2RLFliw/Z2Tb69i3ilVcKePXVfH75xeDRR+uxdu3VDf+dPGkw\nY4Y/ISFOZsyQLidRO0miEF6pXTsnAQGXFgisjA8+MGs4/e535oD4wIFFrFqVh78/DB9ej7lz/Sq6\nzKKE02nOcsrLM5g1q4DGjaXLSdROkiiEV/Lzg4gIB8eO2cjJqfz22dkGmzb50qaNg7ZtS6/FiI52\n8Nln5wkLczJ7tj8jRwZQcJmGwrJldvbv9yU+vojevaXLSdRekiiE14qMdOByGaSlVb5VsXatLxcu\nGDzxRNElBftatXKyYcN5IiIcrFljp3//evx8UX2Bb781mDrVn5tvdjJzpnQ5idpNEoXwWp4uvPPE\n5YKUFDt2u4t+/SpuCTRp4uLjj88TF1fE3r3lZ0Q5nTBmjNnlNGNGAaGh0uUkajdJFMJrderkwDAq\nP05x9KiN9HQfeva84HEqa2AgLF2az6hRBeVmRL39tp09e3yJjS0iMVG6nETtJ4lCeK2gIGjTxsmh\nQz4UVqJQTEpK+UFsT2w2ePnlQubNyycnx5wRNXmyP40auZg1q0DWmaiCsmuAVGkVQg/ef38lCQm9\nKLyKD8T+/Xv59NO/Vuv711aSKIRXi4x0kJ9vcPTo1X0V8vPh44/tNGnirNQ61gMGFJGSkkdAAOTl\nGUyfnk/TptLlVFkNH03Ab8fWqq9CeAUbN26gR49H2Lx54xWfGxn5AL1796mW963talv1WCFqVGSk\ng+XLzXGKTp2uvNzoF1/4cuaMQVJSEb6V/PZERzvYtOkc6ek+xMRIl1NF6if/N/6p6y77uO2HjEvu\n8zl9iuBHHsTZ7LYKtymITzSXpL2CQ4fSuP32MBIS+jJlysvExMSVPHb06BEWLHgNu92Ov38AU6fO\nYtu2zWRkfE9iYj8mTZpA06a3kJWVSevW9zBu3Evk5uYyc+ZkctzT6p5/fhzNm7coec0JE15k0KDB\ntGrVmiee6MewYSOJjn6QMWOS+POfk9m+fQs7dmwjLy+P4OBgpk+fy6RJ43nssd/RoUMEx48fY+XK\nZUyZMos5c6aTlZWJ0+lk6NDhdOx47xX/3sqQFoXwapUd0K5Mt1NF7rrLRWysLG1aG61f/wlxcQnc\ncUc4drsfx46VrnCwa9d2evToyYIFi+nTpx9nz+ZglPknZmZmMH78RJYsWcm+fbv5z3/+zTvvLKdT\np87Mn7+IF1+cwNy5M8u9X1RUN/bt283p06fw8/MnLe1Lzp3LpaioiJCQxuTk5PDaawtZvHgFFy44\nSE//B/HxfdiwYT0An32WSu/efUhNXUdwcCMWLFjMjBlzmTdvVrXvG2lRCK/WrJmLsDCzQKDLhccD\n+KlTBtu2+XDvvQ6UunLrQ1TeueSpHs/+i7ueynLc2oycd1dVubw7QE5ODvv27eHMmZ/56KPVnDuX\ny9q1q2nT5lcADBw4mHfeWc7o0cMJDQ0tub/YbbeFUa9ePQBCQhpTWFjIyZMnOHw4jc2bNwFw9mz5\nC3a6dIli/PixBAcH8+STg/jwww/Yt28PXbpEYRgGvr6+JCdPoF69QLKzf8ThcBAZ+QALF75OTk4O\nR48eYcyYF5k3bzZffXWkJLE5nU5ycn4hKKj6FgeVRCG8XufODtautXPihI2WLS+fAFavtuNyGVVu\nTYhr98tHn3Bz+1b4nD4FlK4Bcq02bvycuLgERox4DoCCgnweeyyBM2fOEBwczMaNnxMTE0dS0mje\nfXcFn376V2655daS7Y0KzjDCw++iVavWPPxwL7Kz/8WmTV+Ue7xBgwb4+wewefMmpk2bw7Ztm1mz\nZhUTJ07hxIl/snPndhYvXkF+fj7PPjsQl8uFYRg8+GAP5s6dQVRUN2w2G3feeSdNmzZl4MBnOHcu\nl1Wr3qdBgwrXZawy6XoSXu9qup+Kr52oV89FYqIkCivlvLsKx63NSloS1WH9+k/p1Su25La/fwDR\n0d1JdY+XtG59D7NmTWX06BEcPpxWMn5RnCAuTRQGTz01mC1b/s6oUcP4059eIDz8rkve99e/jqKg\noICgoCA6d36AgoJ8mjW7jbAws4WSlDSUyZNfRqlW/PSTudxhbGw8O3du4ze/MWd8JST04/vvv2Pk\nyN8zatQwmjZtWmHiuhZ1vqfU5XK5ZGlDkyzzWKoy+yI93UZ0dH1++9si3ngjv8Ln7NvnQ+/egfTr\nV8Sbb1b8nNpKPhelZF+UatIk6KqP/9KiEF7v7rudNGzo+cK7VavMXlrpdhLeSBKF8Ho2mzlO8d13\nNn788dKTrNxcWLfOTliYk65dr/7aCSFuFJIohKB0nKKi5VHXr/fl/HmD/v2LsMk3Rngh+dgLgecV\n74qvnXj8cel2Et5JEoUQQIcODvz8Lh2n+PZbg717fena9QLh4VJyQ3gnSRRCAAEBZrL46isbubml\n93/4obQmhJBEIYRbZKQDp7N0ISOHw0wUN93kIi5OajPdqA4dSqNXr278618/ltz35ptvlJTKqMiG\nDevZtWtHtcXwz39qVqxYWm2vV90kUQjhdvGFdzt3+pCVZSMxsYjAQCsjE9eb3e7H9OmvlNy+0gVr\nMTFxdO0aVW3v37Kl4umnn62216tuUsJDCLf77is/80kGsWtecrI/qanVe1iKj79AcvLll5s1DIOI\niE6Ai7VrV9OvX/9yj6ekvMeWLRvx8fGlffuODB8+imXL3iIkpDHduj3ExIkv4XK5KCwsZNy48aSn\n/4PMzAxGjBiNw+Fg8OAnWbr0Xex28/OUkfE9M2a8go+PLy6Xi0mTppKZ+QOffPIxr7wynccf70O7\ndh3IyPieRo1uZtq02TidzuteIdYTaVEI4daoEbRq5eDgQR9++sng8899adHCwX33SQHAG5nLZU5S\nGDv2JVav/oCsrMySx7755gRbt/6dRYveZtGi5WRmZrBnz66SFkd6+tc0bBjM3LnzeeGFP5Gfn0eP\nHo+wY8d2nE4n+/fvJSLivpIkAZCW9iVt2rTltdcWMmTIMHJzc8u1YE6fPsXQocNZtGg5Z878THr6\nsRqpEOuJtCiEKKNzZwfHj/swZYo/BQUGjz8uJcFrUnJygcez/+spKKghzz03lqlTJ9G2bXsAMjK+\n45572uLjY7Yy27fvyLffflOyzf33d+GHH35g/Pix+Pr6MmjQEAIDA+nYMYL9+/fy+eepDB48tNz7\nxMUl8P77Kxk79jluuqk+w4YllSQrgIYNgwkNbQJAkyZNKSws4OTJbzh69PB1rRDribQohCijeJwi\nJcWOzeaif3/pdvImXbr8mjvuCC8ZyA4Pv5Njx77G4XDgcrk4cuQwYWHhJc8/fPggISGNmTdvAYMG\nDWbx4r8AEB+fSGrqOs6c+bncYkUAO3dup337jrz++kK6dXuI995bWa5FUdGJSXh4OD16PMIbb7zF\nzJmv0r37w9VeIdYTaVEIUUZxogDo3t3BLbfItRM3OsMwyh2oR48ey8GDBwBo3rwF3bv3YPjwIbhc\nTtq160hUVDdOnNAYhkGLFi2ZNGkC69Z9hMPh4JlnzNZDmza/Iisr85LxDoBWrVozbVoydrsdp9PJ\nc8+9cFH3U/lMYRgGCQn9mDVrKiNH/p7z58/Rt+9j1V4h1pM636iW6rGlpDJmqaruC5cLOnSoz+nT\nNpYtyyM+vu5Pi5XPRama2hdOp5OkpGd59dUFBNbSKXNSPVaIKjIMs0JsRISDnj3rfpIQNe/UqSyG\nDBnAQw/1rLVJorKkRXEDkTPHUrIvSsm+KCX7opS0KIQQQlQbSRRCCCE8kkQhhBDCI0umxyql+gCP\naq2frOCx14EuwFnABSRqrXNqOEQhhBBuNZ4o3ImgJ3D4Mk+JAHpqrf9Tc1EJIYS4HCu6nnYDw6lg\nxpVSyga0BJYopXYppZ6p6eCEEEKUd91aFEqpIcDzF939tNZ6tVKq22U2CwTmA/PcsW1VSqVprb+6\nXnEKIYTw7LolCq31MmBZJTc7D8zXWucDKKW2AO0BSRRCCGGR2lbr6W4gRSkVAfgAXYEVnjYwarLg\niRBCeCGrEoXL/QOAUmoMcEJrnaqUegfYCxQBK7TW6RbFKIQQQgghhBBCCCGEEEIIIYQQQgghhKiN\n6uzUUvdV3AuBdkAB8KzW+hvPW92YlFJ2YDkQDvgDU7XWqdZGZR2lVBPgIPCQ1lpbHY+VlFLjgXjA\nDizQWq+0OCRLuI8XSwEFOIGhWuv/szaqmqWUigRmaq0fVEq1wLz0wAl8DSRprS+77m9drh6bCPhp\nrf8LeAl41eJ4rPQkkK21jgJ6AQssjscy7qT5FnDO6lis5q6A8ID7O9INaG5pQNbqCdTXWncFJgPT\nLI6nRiml/ggswTyRBLP6xQT3McMAEjxtX5cTRRfgCwCt9X6gk7XhWGoNMNH9uw3w5jU85wBvAqet\nDqQW6Al8pZRaB6QCn1ocj5XygIZKKQNoCBRaHE9NOwH0pbQXKUJrvcP9+wagh6eN63KiCALKlh93\nuJuXXkdrfU5rnauUaoCZNP5sdUxWUEo9jdmy2ui+q852rVaTUOBe4FHgD8D71oZjqd1AAHAcs8X5\nhrXh1Cyt9ceUP4Es+93IxUyel1WXD6w5QIMyt21aa6dVwVhNKRUGbAHe0VqvsjoeizwDPKyU2gp0\nAFYqpZpaHJOVfgI2aq0vuMdq8pVSja0OyiJ/BHZrre+m9LPhZ3FMVip7rGwAnPH05LqcKHYDsQBK\nqfuBo9aGYx33wXAj8Eet9QqLw7GM1jpaa91Na/0gcAQYpLX+0eq4LLQLc8wKpVQzoD7wb0sjsk59\nSnsgfsYc3PexLhzLHVZKRbt/jwF2eHpybSsKWBl/xTx73O2+7c1rV0zAbDpOVEoVj1XEFFfhFd5J\na/2ZUipKKfUl5knhCE8zW25wc4C3lVI7MZPEeK11nsUxWaH4/z8Wc90fP+AY8JF1IQkhhBBCCCGE\nEEIIIYQQQgghhBBCCCGEEEIIIYSoTZRS3ZRSp5RSoWXuG6eUuqa550qpe5VSS649QiGEEJZTSs12\nF9dDKXW/UkorpYKsjkuImuDtRdOEuCru8uVfAm8DI4GB7qrFFz/vMeAFoJ7751nMciJHgSFa6y1K\nqb9hVhY4Dkxyrw/wAjAIswbPl1rrP9TAnyXEVanLtZ6EqDFa6yLMdT/mASmXSRI2YBjwG611B2AW\n8KLW+iwwGFiolEoCLmitF5XZzgdzTZV73T9Od20mIWoFSRRCXL2uQDZmjbFLCsq5qxf3AWKUUpOB\npzCL0aG13gpsxVwwZ/BF2zmAPUAaMAn4i9b61HX8O4SoFEkUQlwFpVQbIBl4AHPp3f+u4Dk3YR7s\nw4FtwHzc3zH3gjl3Y668d/fF22qtEzHXjDCAL5RSUdfhzxCiSiRRCHEFSqkA4ENgnNb6O8yWwij3\nGsTlngo4gBmYiSKW0lLWIzDLXCcCS5VSgWVeP0QpdQz4Wms9CbNkfNvr9gcJUUmSKIS4snnA/2qt\nPwDQWmcAzwPvlT3gYw5aHwHSge2YA9h3KKXuxFx1MElrfQD4G2bZaxfg0lr/G1gMHFBKpQHBmAvf\nCyGEEEIIIYQQQgghhBBCCCGEEEIIIYQQQgghhBBCCCGEEEKI2uL/AS7SKSN6jh++AAAAAElFTkSu\nQmCC\n",
       "text": [
        "<matplotlib.figure.Figure at 0x36ec978>"
       ]
      }
     ],
     "prompt_number": 11
>>>>>>> upstream/master
    },
    {
     "cell_type": "markdown",
     "metadata": {},
     "source": [
      "If that last cell complained about the `%matplotlib` line, you need to update IPython to v1.0, and restart the notebook. See the [installation page](https://github.com/cs109/content/wiki/Installing-Python)"
     ]
    },
    {
     "cell_type": "markdown",
     "metadata": {},
     "source": [
      "## Hello Numpy\n",
      "\n",
      "The Numpy array processing library is the basis of nearly all numerical computing in Python. Here's a 30 second crash course. For more details, consult Chapter 4 of Python for Data Analysis, or the [Numpy User's Guide](http://docs.scipy.org/doc/numpy-dev/user/index.html)"
     ]
    },
    {
     "cell_type": "code",
     "collapsed": false,
     "input": [
      "print \"Make a 3 row x 4 column array of random numbers\"\n",
      "x = np.random.random((3, 4))\n",
      "print x\n",
      "print\n",
      "\n",
      "print \"Add 1 to every element\"\n",
      "x = x + 1\n",
      "print x\n",
      "print\n",
      "\n",
      "print \"Get the element at row 1, column 2\"\n",
      "print x[1, 2]\n",
      "print\n",
      "\n",
      "# The colon syntax is called \"slicing\" the array. \n",
      "print \"Get the first row\"\n",
      "print x[0, :]\n",
      "print\n",
      "\n",
      "print \"Get every 2nd column of the first row\"\n",
      "print x[0, ::2]\n",
      "print"
     ],
     "language": "python",
     "metadata": {},
     "outputs": [
      {
       "output_type": "stream",
       "stream": "stdout",
       "text": [
        "Make a 3 row x 4 column array of random numbers\n",
<<<<<<< HEAD
        "[[ 0.65698338  0.89123197  0.63188465  0.48945296]\n",
        " [ 0.39433585  0.2540805   0.66097027  0.50821907]\n",
        " [ 0.20620618  0.71859486  0.95531219  0.28558097]]\n",
        "\n",
        "Add 1 to every element\n",
        "[[ 1.65698338  1.89123197  1.63188465  1.48945296]\n",
        " [ 1.39433585  1.2540805   1.66097027  1.50821907]\n",
        " [ 1.20620618  1.71859486  1.95531219  1.28558097]]\n",
        "\n",
        "Get the element at row 1, column 2\n",
        "1.66097027107\n",
        "\n",
        "Get the first row\n",
        "[ 1.65698338  1.89123197  1.63188465  1.48945296]\n",
        "\n",
        "Get every 2nd column of the first row\n",
        "[ 1.65698338  1.63188465]\n",
=======
        "[[ 0.60055802  0.71333873  0.25148143  0.53201881]\n",
        " [ 0.25098112  0.59223546  0.91753216  0.26645571]\n",
        " [ 0.59649042  0.86196867  0.16560765  0.51400996]]\n",
        "\n",
        "Add 1 to every element\n",
        "[[ 1.60055802  1.71333873  1.25148143  1.53201881]\n",
        " [ 1.25098112  1.59223546  1.91753216  1.26645571]\n",
        " [ 1.59649042  1.86196867  1.16560765  1.51400996]]\n",
        "\n",
        "Get the element at row 1, column 2\n",
        "1.91753215518\n",
        "\n",
        "Get the first row\n",
        "[ 1.60055802  1.71333873  1.25148143  1.53201881]\n",
        "\n",
        "Get every 2nd column of the first row\n",
        "[ 1.60055802  1.25148143]\n",
>>>>>>> upstream/master
        "\n"
       ]
      }
     ],
<<<<<<< HEAD
     "prompt_number": 4
=======
     "prompt_number": 12
>>>>>>> upstream/master
    },
    {
     "cell_type": "markdown",
     "metadata": {},
     "source": [
      "Print the maximum, minimum, and mean of the array. This does **not** require writing a loop. In the code cell below, type `x.m<TAB>`, to find built-in operations for common array statistics like this"
     ]
    },
    {
     "cell_type": "code",
     "collapsed": false,
     "input": [
<<<<<<< HEAD
      "#your code here\n",
      "print \"Get maximum of array\"\n",
      "print x.max()\n",
      "print\n",
      "\n",
      "print \"Get minimum of array\"\n",
      "print x.min()\n",
      "print\n",
      "\n",
      "print \"Get mean of array\"\n",
      "print x.mean()\n",
      "print\n"
     ],
     "language": "python",
     "metadata": {},
     "outputs": [
      {
       "output_type": "stream",
       "stream": "stdout",
       "text": [
        "Get maximum of array\n",
        "1.9553121896\n",
        "\n",
        "Get minimum of array\n",
        "1.20620617881\n",
        "\n",
        "Get mean of array\n",
        "1.55440440343\n",
        "\n"
       ]
      }
     ],
=======
      "#your code here\n"
     ],
     "language": "python",
     "metadata": {},
     "outputs": [],
>>>>>>> upstream/master
     "prompt_number": 5
    },
    {
     "cell_type": "markdown",
     "metadata": {},
     "source": [
      "Call the `x.max` function again, but use the `axis` keyword to print the maximum of each row in x."
     ]
    },
    {
     "cell_type": "code",
     "collapsed": false,
     "input": [
<<<<<<< HEAD
      "#your code here\n",
      "x\n",
      "print\n",
      "x.max(true)\n"
     ],
     "language": "python",
     "metadata": {},
     "outputs": [
      {
       "output_type": "stream",
       "stream": "stdout",
       "text": [
        "\n"
       ]
      },
      {
       "ename": "NameError",
       "evalue": "name 'true' is not defined",
       "output_type": "pyerr",
       "traceback": [
        "\u001b[0;31m---------------------------------------------------------------------------\u001b[0m\n\u001b[0;31mNameError\u001b[0m                                 Traceback (most recent call last)",
        "\u001b[0;32m<ipython-input-6-63ecad44ff8a>\u001b[0m in \u001b[0;36m<module>\u001b[0;34m()\u001b[0m\n\u001b[1;32m      2\u001b[0m \u001b[0mx\u001b[0m\u001b[0;34m\u001b[0m\u001b[0m\n\u001b[1;32m      3\u001b[0m \u001b[0;32mprint\u001b[0m\u001b[0;34m\u001b[0m\u001b[0m\n\u001b[0;32m----> 4\u001b[0;31m \u001b[0mx\u001b[0m\u001b[0;34m.\u001b[0m\u001b[0mmax\u001b[0m\u001b[0;34m(\u001b[0m\u001b[0mtrue\u001b[0m\u001b[0;34m)\u001b[0m\u001b[0;34m\u001b[0m\u001b[0m\n\u001b[0m",
        "\u001b[0;31mNameError\u001b[0m: name 'true' is not defined"
       ]
      }
     ],
=======
      "#your code here\n"
     ],
     "language": "python",
     "metadata": {},
     "outputs": [],
>>>>>>> upstream/master
     "prompt_number": 6
    },
    {
     "cell_type": "markdown",
     "metadata": {},
     "source": [
      "Here's a way to quickly simulate 500 coin \"fair\" coin tosses (where the probabily of getting Heads is 50%, or 0.5)"
     ]
    },
    {
     "cell_type": "code",
     "collapsed": false,
     "input": [
      "x = np.random.binomial(500, .5)\n",
      "print \"number of heads:\", x"
     ],
     "language": "python",
     "metadata": {},
<<<<<<< HEAD
     "outputs": [
      {
       "output_type": "stream",
       "stream": "stdout",
       "text": [
        "number of heads: 236\n"
       ]
      }
     ],
=======
     "outputs": [],
>>>>>>> upstream/master
     "prompt_number": 7
    },
    {
     "cell_type": "markdown",
     "metadata": {},
     "source": [
      "Repeat this simulation 500 times, and use the [plt.hist() function](http://matplotlib.org/api/pyplot_api.html#matplotlib.pyplot.hist) to plot a histogram of the number of Heads (1s) in each simulation"
     ]
    },
    {
     "cell_type": "code",
     "collapsed": false,
     "input": [
<<<<<<< HEAD
      "#your code here\n",
      "heads = []\n",
      "\n",
      "for i in range(500):\n",
      "    heads.append(np.random.binomial(500, .5))\n",
      "    \n",
      "plt.hist(heads)"
     ],
     "language": "python",
     "metadata": {},
     "outputs": [
      {
       "metadata": {},
       "output_type": "pyout",
       "prompt_number": 8,
       "text": [
        "(array([   6.,   31.,   66.,  102.,  123.,   90.,   53.,   20.,    8.,    1.]),\n",
        " array([ 220. ,  227.1,  234.2,  241.3,  248.4,  255.5,  262.6,  269.7,\n",
        "         276.8,  283.9,  291. ]),\n",
        " <a list of 10 Patch objects>)"
       ]
      },
      {
       "metadata": {},
       "output_type": "display_data",
       "png": "iVBORw0KGgoAAAANSUhEUgAAAX4AAAEDCAYAAAAyZm/jAAAABHNCSVQICAgIfAhkiAAAAAlwSFlz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\n",
       "text": [
        "<matplotlib.figure.Figure at 0x10bf2ca90>"
       ]
      }
     ],
=======
      "#your code here\n"
     ],
     "language": "python",
     "metadata": {},
     "outputs": [],
>>>>>>> upstream/master
     "prompt_number": 8
    },
    {
     "cell_type": "markdown",
     "metadata": {},
     "source": [
      "## The Monty Hall Problem\n",
      "\n",
      "\n",
      "Here's a fun and perhaps surprising statistical riddle, and a good way to get some practice writing python functions\n",
      "\n",
      "In a gameshow, contestants try to guess which of 3 closed doors contain a cash prize (goats are behind the other two doors). Of course, the odds of choosing the correct door are 1 in 3. As a twist, the host of the show occasionally opens a door after a contestant makes his or her choice. This door is always one of the two the contestant did not pick, and is also always one of the goat doors (note that it is always possible to do this, since there are two goat doors). At this point, the contestant has the option of keeping his or her original choice, or swtiching to the other unopened door. The question is: is there any benefit to switching doors? The answer surprises many people who haven't heard the question before.\n",
      "\n",
      "We can answer the problem by running simulations in Python. We'll do it in several parts.\n",
      "\n",
      "First, write a function called `simulate_prizedoor`. This function will simulate the location of the prize in many games -- see the detailed specification below:"
     ]
    },
    {
     "cell_type": "code",
     "collapsed": false,
     "input": [
      "\"\"\"\n",
      "Function\n",
      "--------\n",
      "simulate_prizedoor\n",
      "\n",
      "Generate a random array of 0s, 1s, and 2s, representing\n",
      "hiding a prize between door 0, door 1, and door 2\n",
      "\n",
      "Parameters\n",
      "----------\n",
      "nsim : int\n",
      "    The number of simulations to run\n",
      "\n",
      "Returns\n",
      "-------\n",
      "sims : array\n",
      "    Random array of 0s, 1s, and 2s\n",
      "\n",
      "Example\n",
      "-------\n",
      ">>> print simulate_prizedoor(3)\n",
      "array([0, 0, 2])\n",
      "\"\"\"\n",
      "def simulate_prizedoor(nsim):\n",
      "    #compute here\n",
<<<<<<< HEAD
      "    answer = np.random.randint(3, size=nsim)\n",
      "    return answer\n",
      "#your code here\n",
      "prize = simulate_prizedoor(3)\n",
      "print prize"
     ],
     "language": "python",
     "metadata": {},
     "outputs": [
      {
       "output_type": "stream",
       "stream": "stdout",
       "text": [
        "[0 0 2]\n"
       ]
      }
     ],
     "prompt_number": 19
=======
      "    return answer\n",
      "#your code here\n"
     ],
     "language": "python",
     "metadata": {},
     "outputs": [],
     "prompt_number": 9
>>>>>>> upstream/master
    },
    {
     "cell_type": "markdown",
     "metadata": {},
     "source": [
      "Next, write a function that simulates the contestant's guesses for `nsim` simulations. Call this function `simulate_guess`. The specs:"
     ]
    },
    {
     "cell_type": "code",
     "collapsed": false,
     "input": [
      "\"\"\"\n",
      "Function\n",
      "--------\n",
      "simulate_guess\n",
      "\n",
      "Return any strategy for guessing which door a prize is behind. This\n",
      "could be a random strategy, one that always guesses 2, whatever.\n",
      "\n",
      "Parameters\n",
      "----------\n",
      "nsim : int\n",
      "    The number of simulations to generate guesses for\n",
      "\n",
      "Returns\n",
      "-------\n",
      "guesses : array\n",
      "    An array of guesses. Each guess is a 0, 1, or 2\n",
      "\n",
      "Example\n",
      "-------\n",
      ">>> print simulate_guess(5)\n",
      "array([0, 0, 0, 0, 0])\n",
      "\"\"\"\n",
<<<<<<< HEAD
      "#your code here\n",
      "def simulate_guess(nsim):\n",
      "    guess = np.array([0,0,0])\n",
      "    return guess\n",
      "\n",
      "guess = simulate_guess(3)\n",
      "print guess"
     ],
     "language": "python",
     "metadata": {},
     "outputs": [
      {
       "output_type": "stream",
       "stream": "stdout",
       "text": [
        "[0 0 0]\n"
       ]
      }
     ],
     "prompt_number": 20
=======
      "#your code here\n"
     ],
     "language": "python",
     "metadata": {},
     "outputs": [],
     "prompt_number": 10
>>>>>>> upstream/master
    },
    {
     "cell_type": "markdown",
     "metadata": {},
     "source": [
      "Next, write a function, `goat_door`, to simulate randomly revealing one of the goat doors that a contestant didn't pick."
     ]
    },
    {
     "cell_type": "code",
     "collapsed": false,
     "input": [
      "\"\"\"\n",
      "Function\n",
      "--------\n",
      "goat_door\n",
      "\n",
      "Simulate the opening of a \"goat door\" that doesn't contain the prize,\n",
      "and is different from the contestants guess\n",
      "\n",
      "Parameters\n",
      "----------\n",
      "prizedoors : array\n",
      "    The door that the prize is behind in each simulation\n",
      "guesses : array\n",
      "    THe door that the contestant guessed in each simulation\n",
      "\n",
      "Returns\n",
      "-------\n",
      "goats : array\n",
      "    The goat door that is opened for each simulation. Each item is 0, 1, or 2, and is different\n",
      "    from both prizedoors and guesses\n",
      "\n",
      "Examples\n",
      "--------\n",
      ">>> print goat_door(np.array([0, 1, 2]), np.array([1, 1, 1]))\n",
      ">>> array([2, 2, 0])\n",
      "\"\"\"\n",
<<<<<<< HEAD
      "#your code here\n",
      "def goat_door(prizedoors, guesses):\n",
      "    import random\n",
      "    \n",
      "    goat_drs = []\n",
      "    \n",
      "    for counter, guess in enumerate(guesses):\n",
      "        doors = [0,1,2]\n",
      "        \n",
      "        # two choices to pick from\n",
      "        if guess == prizedoors[counter]:\n",
      "            doors.remove(guess)\n",
      "            goat_dr = random.choice(doors)\n",
      "        # one choice to pick from\n",
      "        else:\n",
      "            doors.remove(guess)\n",
      "            doors.remove(prizedoors[counter])\n",
      "            goat_dr = doors[0]\n",
      "            \n",
      "        goat_drs.append(goat_dr)\n",
      "        \n",
      "    return np.array(goat_drs)\n",
      "     \n",
      "goatdoors = goat_door(prize,guess)\n",
      "print goatdoors\n",
      "    \n",
      "    "
     ],
     "language": "python",
     "metadata": {},
     "outputs": [
      {
       "output_type": "stream",
       "stream": "stdout",
       "text": [
        "[1 2 1]\n"
       ]
      }
     ],
     "prompt_number": 21
=======
      "#your code here\n"
     ],
     "language": "python",
     "metadata": {},
     "outputs": [],
     "prompt_number": 11
>>>>>>> upstream/master
    },
    {
     "cell_type": "markdown",
     "metadata": {},
     "source": [
      "Write a function, `switch_guess`, that represents the strategy of always switching a guess after the goat door is opened."
     ]
    },
    {
     "cell_type": "code",
     "collapsed": false,
     "input": [
      "\"\"\"\n",
      "Function\n",
      "--------\n",
      "switch_guess\n",
      "\n",
      "The strategy that always switches a guess after the goat door is opened\n",
      "\n",
      "Parameters\n",
      "----------\n",
      "guesses : array\n",
      "     Array of original guesses, for each simulation\n",
      "goatdoors : array\n",
      "     Array of revealed goat doors for each simulation\n",
      "\n",
      "Returns\n",
      "-------\n",
      "The new door after switching. Should be different from both guesses and goatdoors\n",
      "\n",
      "Examples\n",
      "--------\n",
      ">>> print switch_guess(np.array([0, 1, 2]), np.array([1, 2, 1]))\n",
      ">>> array([2, 0, 0])\n",
      "\"\"\"\n",
<<<<<<< HEAD
      "#your code here\n",
      "def switch_guess(guesses,goatdoors):\n",
      "    switch = []\n",
      "    \n",
      "    for counter, guess in enumerate(guesses):\n",
      "        num = guess + goatdoors[counter]\n",
      "        switch.append(3 - num)\n",
      "    \n",
      "    return np.array(switch)\n",
      "    \n",
      "print guess\n",
      "print goatdoors\n",
      "switch = switch_guess(guess,goatdoors)\n",
      "print switch\n",
      "\n",
      "    "
     ],
     "language": "python",
     "metadata": {},
     "outputs": [
      {
       "output_type": "stream",
       "stream": "stdout",
       "text": [
        "[0 0 0]\n",
        "[1 2 1]\n",
        "[2 1 2]\n"
       ]
      }
     ],
     "prompt_number": 41
=======
      "#your code here\n"
     ],
     "language": "python",
     "metadata": {},
     "outputs": [],
     "prompt_number": 12
>>>>>>> upstream/master
    },
    {
     "cell_type": "markdown",
     "metadata": {},
     "source": [
      "Last function: write a `win_percentage` function that takes an array of `guesses` and `prizedoors`, and returns the percent of correct guesses"
     ]
    },
    {
     "cell_type": "code",
     "collapsed": false,
     "input": [
      "\"\"\"\n",
      "Function\n",
      "--------\n",
      "win_percentage\n",
      "\n",
      "Calculate the percent of times that a simulation of guesses is correct\n",
      "\n",
      "Parameters\n",
      "-----------\n",
      "guesses : array\n",
      "    Guesses for each simulation\n",
      "prizedoors : array\n",
      "    Location of prize for each simulation\n",
      "\n",
      "Returns\n",
      "--------\n",
      "percentage : number between 0 and 100\n",
      "    The win percentage\n",
      "\n",
      "Examples\n",
      "---------\n",
      ">>> print win_percentage(np.array([0, 1, 2]), np.array([0, 0, 0]))\n",
      "33.333\n",
      "\"\"\"\n",
<<<<<<< HEAD
      "#your code here\n",
      "def win_percentage(guesses,prizedoors):\n",
      "    win = []\n",
      "    \n",
      "    for counter, guess in enumerate(guesses):\n",
      "        if guess == prizedoors[counter]:\n",
      "            win.append(1)\n",
      "        else:\n",
      "            win.append(0)\n",
      "            \n",
      "    perc = (1.*sum(win))/len(win)\n",
      "    \n",
      "    return perc\n",
      "\n",
      "print win_percentage(guess,prize)\n",
      "print win_percentage(switch,prize)"
     ],
     "language": "python",
     "metadata": {},
     "outputs": [
      {
       "output_type": "stream",
       "stream": "stdout",
       "text": [
        "0.666666666667\n",
        "0.333333333333\n"
       ]
      }
     ],
     "prompt_number": 42
=======
      "#your code here\n"
     ],
     "language": "python",
     "metadata": {},
     "outputs": [],
     "prompt_number": 13
>>>>>>> upstream/master
    },
    {
     "cell_type": "markdown",
     "metadata": {},
     "source": [
      "Now, put it together. Simulate 10000 games where contestant keeps his original guess, and 10000 games where the contestant switches his door after a  goat door is revealed. Compute the percentage of time the contestant wins under either strategy. Is one strategy better than the other?"
     ]
    },
    {
     "cell_type": "code",
     "collapsed": false,
     "input": [
<<<<<<< HEAD
      "#your code here\n",
      "games = 10000\n",
      "\n",
      "prize = simulate_prizedoor(games)\n",
      "guess = simulate_guess(games)\n",
      "\n",
      "goatdoors = goat_door(prize,guess)\n",
      "switch = switch_guess(guess,goatdoors)\n",
      "\n",
      "print win_percentage(guess,prize)\n",
      "print win_percentage(switch,prize)"
     ],
     "language": "python",
     "metadata": {},
     "outputs": [
      {
       "output_type": "stream",
       "stream": "stdout",
       "text": [
        "0.333333333333\n",
        "0.666666666667\n"
       ]
      }
     ],
     "prompt_number": 43
=======
      "#your code here\n"
     ],
     "language": "python",
     "metadata": {},
     "outputs": [],
     "prompt_number": 14
>>>>>>> upstream/master
    },
    {
     "cell_type": "markdown",
     "metadata": {},
     "source": [
      "Many people find this answer counter-intuitive (famously, PhD mathematicians have incorrectly claimed the result must be wrong. Clearly, none of them knew Python). \n",
      "\n",
      "One of the best ways to build intuition about why opening a Goat door affects the odds is to re-run the experiment with 100 doors and one prize. If the game show host opens 98 goat doors after you make your initial selection, would you want to keep your first pick or switch? Can you generalize your simulation code to handle the case of `n` doors?"
     ]
    }
   ],
   "metadata": {}
  }
 ]
<<<<<<< HEAD
=======
=======
{
 "metadata": {
  "name": "",
  "signature": "sha256:c3f92e6bccbb7ccb12ea954ec371279a425ebc3a89a106ba24a757e98c332cde"
 },
 "nbformat": 3,
 "nbformat_minor": 0,
 "worksheets": [
  {
   "cells": [
    {
     "cell_type": "markdown",
     "metadata": {},
     "source": [
      "# Homework 0\n",
      "\n",
      "### Due Tuesday, September 9, 2014 (but no submission is required)\n",
      "\n",
      "---\n",
      "\n",
      "Welcome to CS109 / STAT121 / AC209 / E-109 (http://cs109.github.io/2014/).  In this class, we will be using a variety of tools that will require some initial configuration. To ensure everything goes smoothly moving forward, we will setup the majority of those tools in this homework. While some of this will likely be dull, doing it now will enable us to do more exciting work in the weeks that follow without getting bogged down in further software configuration. This homework will not be graded, however it is essential that you complete it timely since it will enable us to set up your accounts. You do not have to hand anything in, with the exception of filling out the online survey. \n",
      "\n",
      "## Class Survey, Piazza, and Introduction\n",
      "\n",
      "**Class Survey**\n",
      "\n",
      "Please complete the mandatory course survey located [here](https://docs.google.com/forms/d/1uAxk4am1HZFh15Y8zdGpBm5hGTTmX3IGkBkD3foTbv0/viewform?usp=send_form). It should only take a few moments of your time. Once you fill in the survey we will sign you up to the course forum on Piazza and the dropbox system that you will use to hand in the homework. It is imperative that you fill out the survey on time as we use the provided information to sign you up for these services. \n",
      "\n",
      "**Piazza**\n",
      "\n",
      "Go to [Piazza](https://piazza.com/harvard/fall2014/cs109) and sign up for the class using your Harvard e-mail address. \n",
      "\n",
      "You will use Piazza as a forum for discussion, to find team members, to arrange appointments, and to ask questions. Piazza should be your primary form of communication with the staff. Use the staff e-mail (staff@cs109.org) only for individual requests, e.g., to excuse yourself from a mandatory guest lecture. All homeworks, and project descriptions will be announced on Piazza first. \n",
      "\n",
      "**Introduction**\n",
      "\n",
      "Once you are signed up to the Piazza course forum, introduce yourself to your classmates and course staff with a follow-up post in the introduction thread. Include your name/nickname, your affiliation, why you are taking this course, and tell us something interesting about yourself (e.g., an industry job, an unusual hobby, past travels, or a cool project you did, etc.). Also tell us whether you have experience with data science. \n",
      "\n",
      "## Programming expectations\n",
      "\n",
      "All the assignments and labs for this class will use Python and, for the most part, the browser-based IPython notebook format you are currently viewing. Knowledge of Python is not a prerequisite for this course, **provided you are comfortable learning on your own as needed**. While we have strived to make the programming component of this course straightforward, we will not devote much time to teaching prorgramming or Python syntax. Basically, you should feel comfortable with:\n",
      "\n",
      "* How to look up Python syntax on Google and StackOverflow.\n",
      "* Basic programming concepts like functions, loops, arrays, dictionaries, strings, and if statements.\n",
      "* How to learn new libraries by reading documentation.\n",
      "* Asking questions on StackOverflow or Piazza.\n",
      "\n",
      "There are many online tutorials to introduce you to scientific python programming. [Here is one](https://github.com/jrjohansson/scientific-python-lectures) that is very nice. Lectures 1-4 are most relevant to this class.\n",
      "\n",
      "## Getting Python\n",
      "\n",
      "You will be using Python throughout the course, including many popular 3rd party Python libraries for scientific computing. [Anaconda](http://continuum.io/downloads) is an easy-to-install bundle of Python and most of these libraries. We recommend that you use Anaconda for this course.\n",
      "\n",
      "Please visit [this page](https://github.com/cs109/content/wiki/Installing-Python) and follow the instructions to set up Python.\n",
      "\n",
      "<hline>\n",
      "\n",
      "## Hello, Python\n",
      "\n",
      "The IPython notebook is an application to build interactive computational notebooks. You'll be using them to complete labs and homework. Once you've set up Python, please download this HW0 ipython notebook and open it with IPython by typing\n",
      "\n",
      "```\n",
      "ipython notebook <name_of_downloaded_file>\n",
      "```\n",
      "\n",
      "For the rest of the assignment, use your local copy of this page, running on IPython.\n",
      "\n",
      "Notebooks are composed of many \"cells\", which can contain text (like this one), or code (like the one below). Double click on the cell below, and evaluate it by clicking the \"play\" button above, or by hitting shift + enter"
     ]
    },
    {
     "cell_type": "code",
     "collapsed": false,
     "input": [
      "x = [10, 20, 30, 40, 50]\n",
      "for item in x:\n",
      "    print \"Item is \", item"
     ],
     "language": "python",
     "metadata": {},
     "outputs": [
      {
       "output_type": "stream",
       "stream": "stdout",
       "text": [
        "Item is  10\n",
        "Item is  20\n",
        "Item is  30\n",
        "Item is  40\n",
        "Item is  50\n"
       ]
      }
     ],
     "prompt_number": 1
    },
    {
     "cell_type": "markdown",
     "metadata": {},
     "source": [
      "## Python Libraries\n",
      "\n",
      "We will be using a several different libraries throughout this course. If you've successfully completed the [installation instructions](https://github.com/cs109/content/wiki/Installing-Python), all of the following statements should run."
     ]
    },
    {
     "cell_type": "code",
     "collapsed": false,
     "input": [
      "#IPython is what you are using now to run the notebook\n",
      "import IPython\n",
      "print \"IPython version:      %6.6s (need at least 1.0)\" % IPython.__version__\n",
      "\n",
      "# Numpy is a library for working with Arrays\n",
      "import numpy as np\n",
      "print \"Numpy version:        %6.6s (need at least 1.7.1)\" % np.__version__\n",
      "\n",
      "# SciPy implements many different numerical algorithms\n",
      "import scipy as sp\n",
      "print \"SciPy version:        %6.6s (need at least 0.12.0)\" % sp.__version__\n",
      "\n",
      "# Pandas makes working with data tables easier\n",
      "import pandas as pd\n",
      "print \"Pandas version:       %6.6s (need at least 0.11.0)\" % pd.__version__\n",
      "\n",
      "# Module for plotting\n",
      "import matplotlib\n",
      "print \"Mapltolib version:    %6.6s (need at least 1.2.1)\" % matplotlib.__version__\n",
      "\n",
      "# SciKit Learn implements several Machine Learning algorithms\n",
      "import sklearn\n",
      "print \"Scikit-Learn version: %6.6s (need at least 0.13.1)\" % sklearn.__version__\n",
      "\n",
      "# Requests is a library for getting data from the Web\n",
      "import requests\n",
      "print \"requests version:     %6.6s (need at least 1.2.3)\" % requests.__version__\n",
      "\n",
      "# Networkx is a library for working with networks\n",
      "import networkx as nx\n",
      "print \"NetworkX version:     %6.6s (need at least 1.7)\" % nx.__version__\n",
      "\n",
      "#BeautifulSoup is a library to parse HTML and XML documents\n",
      "import bs4\n",
      "print \"BeautifulSoup version:%6.6s (need at least 4.0)\" % bs4.__version__\n",
      "\n",
      "#MrJob is a library to run map reduce jobs on Amazon's computers\n",
      "import mrjob\n",
      "print \"Mr Job version:       %6.6s (need at least 0.4)\" % mrjob.__version__\n",
      "\n",
      "#Pattern has lots of tools for working with data from the internet\n",
      "import pattern\n",
      "print \"Pattern version:      %6.6s (need at least 2.6)\" % pattern.__version__\n",
      "\n",
      "#Seaborn is a nice library for visualizations\n",
      "import seaborn\n",
      "print \"Seaborn version:      %6.6s (need at least 0.3.1)\" % seaborn.__version__"
     ],
     "language": "python",
     "metadata": {},
     "outputs": [
      {
       "output_type": "stream",
       "stream": "stdout",
       "text": [
        "IPython version:       2.1.0 (need at least 1.0)\n",
        "Numpy version:         1.8.1 (need at least 1.7.1)\n",
        "SciPy version:        0.14.0 (need at least 0.12.0)\n",
        "Pandas version:       0.14.0 (need at least 0.11.0)\n",
        "Mapltolib version:     1.3.1 (need at least 1.2.1)\n",
        "Scikit-Learn version: 0.14.1 (need at least 0.13.1)\n",
        "requests version:      2.3.0 (need at least 1.2.3)\n",
        "NetworkX version:      1.8.1 (need at least 1.7)\n",
        "BeautifulSoup version: 4.3.1 (need at least 3.2)\n",
        "Mr Job version:        0.4.2 (need at least 0.4)\n",
        "Pattern version:         2.6 (need at least 2.6)\n",
        "Seaborn version:       0.3.1 (need at least 0.3.1)\n"
       ]
      }
     ],
     "prompt_number": 10
    },
    {
     "cell_type": "markdown",
     "metadata": {},
     "source": [
      "If any of these libraries are missing or out of date, you will need to [install them](https://github.com/cs109/content/wiki/Installing-Python#installing-additional-libraries) and restart IPython"
     ]
    },
    {
     "cell_type": "markdown",
     "metadata": {},
     "source": [
      "## Hello matplotlib"
     ]
    },
    {
     "cell_type": "markdown",
     "metadata": {},
     "source": [
      "The notebook integrates nicely with Matplotlib, the primary plotting package for python. This should embed a figure of a sine wave:"
     ]
    },
    {
     "cell_type": "code",
     "collapsed": false,
     "input": [
      "#this line prepares IPython for working with matplotlib\n",
      "%matplotlib inline  \n",
      "\n",
      "# this actually imports matplotlib\n",
      "import matplotlib.pyplot as plt  \n",
      "\n",
      "x = np.linspace(0, 10, 30)  #array of 30 points from 0 to 10\n",
      "y = np.sin(x)\n",
      "z = y + np.random.normal(size=30) * .2\n",
      "plt.plot(x, y, 'ro-', label='A sine wave')\n",
      "plt.plot(x, z, 'b-', label='Noisy sine')\n",
      "plt.legend(loc = 'lower right')\n",
      "plt.xlabel(\"X axis\")\n",
      "plt.ylabel(\"Y axis\")           "
     ],
     "language": "python",
     "metadata": {},
     "outputs": [
      {
       "metadata": {},
       "output_type": "pyout",
       "prompt_number": 11,
       "text": [
        "<matplotlib.text.Text at 0xc17c8d0>"
       ]
      },
      {
       "metadata": {},
       "output_type": "display_data",
       "png": "iVBORw0KGgoAAAANSUhEUgAAAYoAAAERCAYAAABl3+CQAAAABHNCSVQICAgIfAhkiAAAAAlwSFlz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\nQmCC\n",
       "text": [
        "<matplotlib.figure.Figure at 0x36ec978>"
       ]
      }
     ],
     "prompt_number": 11
    },
    {
     "cell_type": "markdown",
     "metadata": {},
     "source": [
      "If that last cell complained about the `%matplotlib` line, you need to update IPython to v1.0, and restart the notebook. See the [installation page](https://github.com/cs109/content/wiki/Installing-Python)"
     ]
    },
    {
     "cell_type": "markdown",
     "metadata": {},
     "source": [
      "## Hello Numpy\n",
      "\n",
      "The Numpy array processing library is the basis of nearly all numerical computing in Python. Here's a 30 second crash course. For more details, consult Chapter 4 of Python for Data Analysis, or the [Numpy User's Guide](http://docs.scipy.org/doc/numpy-dev/user/index.html)"
     ]
    },
    {
     "cell_type": "code",
     "collapsed": false,
     "input": [
      "print \"Make a 3 row x 4 column array of random numbers\"\n",
      "x = np.random.random((3, 4))\n",
      "print x\n",
      "print\n",
      "\n",
      "print \"Add 1 to every element\"\n",
      "x = x + 1\n",
      "print x\n",
      "print\n",
      "\n",
      "print \"Get the element at row 1, column 2\"\n",
      "print x[1, 2]\n",
      "print\n",
      "\n",
      "# The colon syntax is called \"slicing\" the array. \n",
      "print \"Get the first row\"\n",
      "print x[0, :]\n",
      "print\n",
      "\n",
      "print \"Get every 2nd column of the first row\"\n",
      "print x[0, ::2]\n",
      "print"
     ],
     "language": "python",
     "metadata": {},
     "outputs": [
      {
       "output_type": "stream",
       "stream": "stdout",
       "text": [
        "Make a 3 row x 4 column array of random numbers\n",
        "[[ 0.60055802  0.71333873  0.25148143  0.53201881]\n",
        " [ 0.25098112  0.59223546  0.91753216  0.26645571]\n",
        " [ 0.59649042  0.86196867  0.16560765  0.51400996]]\n",
        "\n",
        "Add 1 to every element\n",
        "[[ 1.60055802  1.71333873  1.25148143  1.53201881]\n",
        " [ 1.25098112  1.59223546  1.91753216  1.26645571]\n",
        " [ 1.59649042  1.86196867  1.16560765  1.51400996]]\n",
        "\n",
        "Get the element at row 1, column 2\n",
        "1.91753215518\n",
        "\n",
        "Get the first row\n",
        "[ 1.60055802  1.71333873  1.25148143  1.53201881]\n",
        "\n",
        "Get every 2nd column of the first row\n",
        "[ 1.60055802  1.25148143]\n",
        "\n"
       ]
      }
     ],
     "prompt_number": 12
    },
    {
     "cell_type": "markdown",
     "metadata": {},
     "source": [
      "Print the maximum, minimum, and mean of the array. This does **not** require writing a loop. In the code cell below, type `x.m<TAB>`, to find built-in operations for common array statistics like this"
     ]
    },
    {
     "cell_type": "code",
     "collapsed": false,
     "input": [
      "#your code here\n"
     ],
     "language": "python",
     "metadata": {},
     "outputs": [],
     "prompt_number": 5
    },
    {
     "cell_type": "markdown",
     "metadata": {},
     "source": [
      "Call the `x.max` function again, but use the `axis` keyword to print the maximum of each row in x."
     ]
    },
    {
     "cell_type": "code",
     "collapsed": false,
     "input": [
      "#your code here\n"
     ],
     "language": "python",
     "metadata": {},
     "outputs": [],
     "prompt_number": 6
    },
    {
     "cell_type": "markdown",
     "metadata": {},
     "source": [
      "Here's a way to quickly simulate 500 coin \"fair\" coin tosses (where the probabily of getting Heads is 50%, or 0.5)"
     ]
    },
    {
     "cell_type": "code",
     "collapsed": false,
     "input": [
      "x = np.random.binomial(500, .5)\n",
      "print \"number of heads:\", x"
     ],
     "language": "python",
     "metadata": {},
     "outputs": [],
     "prompt_number": 7
    },
    {
     "cell_type": "markdown",
     "metadata": {},
     "source": [
      "Repeat this simulation 500 times, and use the [plt.hist() function](http://matplotlib.org/api/pyplot_api.html#matplotlib.pyplot.hist) to plot a histogram of the number of Heads (1s) in each simulation"
     ]
    },
    {
     "cell_type": "code",
     "collapsed": false,
     "input": [
      "#your code here\n"
     ],
     "language": "python",
     "metadata": {},
     "outputs": [],
     "prompt_number": 8
    },
    {
     "cell_type": "markdown",
     "metadata": {},
     "source": [
      "## The Monty Hall Problem\n",
      "\n",
      "\n",
      "Here's a fun and perhaps surprising statistical riddle, and a good way to get some practice writing python functions\n",
      "\n",
      "In a gameshow, contestants try to guess which of 3 closed doors contain a cash prize (goats are behind the other two doors). Of course, the odds of choosing the correct door are 1 in 3. As a twist, the host of the show occasionally opens a door after a contestant makes his or her choice. This door is always one of the two the contestant did not pick, and is also always one of the goat doors (note that it is always possible to do this, since there are two goat doors). At this point, the contestant has the option of keeping his or her original choice, or swtiching to the other unopened door. The question is: is there any benefit to switching doors? The answer surprises many people who haven't heard the question before.\n",
      "\n",
      "We can answer the problem by running simulations in Python. We'll do it in several parts.\n",
      "\n",
      "First, write a function called `simulate_prizedoor`. This function will simulate the location of the prize in many games -- see the detailed specification below:"
     ]
    },
    {
     "cell_type": "code",
     "collapsed": false,
     "input": [
      "\"\"\"\n",
      "Function\n",
      "--------\n",
      "simulate_prizedoor\n",
      "\n",
      "Generate a random array of 0s, 1s, and 2s, representing\n",
      "hiding a prize between door 0, door 1, and door 2\n",
      "\n",
      "Parameters\n",
      "----------\n",
      "nsim : int\n",
      "    The number of simulations to run\n",
      "\n",
      "Returns\n",
      "-------\n",
      "sims : array\n",
      "    Random array of 0s, 1s, and 2s\n",
      "\n",
      "Example\n",
      "-------\n",
      ">>> print simulate_prizedoor(3)\n",
      "array([0, 0, 2])\n",
      "\"\"\"\n",
      "def simulate_prizedoor(nsim):\n",
      "    #compute here\n",
      "    return answer\n",
      "#your code here\n"
     ],
     "language": "python",
     "metadata": {},
     "outputs": [],
     "prompt_number": 9
    },
    {
     "cell_type": "markdown",
     "metadata": {},
     "source": [
      "Next, write a function that simulates the contestant's guesses for `nsim` simulations. Call this function `simulate_guess`. The specs:"
     ]
    },
    {
     "cell_type": "code",
     "collapsed": false,
     "input": [
      "\"\"\"\n",
      "Function\n",
      "--------\n",
      "simulate_guess\n",
      "\n",
      "Return any strategy for guessing which door a prize is behind. This\n",
      "could be a random strategy, one that always guesses 2, whatever.\n",
      "\n",
      "Parameters\n",
      "----------\n",
      "nsim : int\n",
      "    The number of simulations to generate guesses for\n",
      "\n",
      "Returns\n",
      "-------\n",
      "guesses : array\n",
      "    An array of guesses. Each guess is a 0, 1, or 2\n",
      "\n",
      "Example\n",
      "-------\n",
      ">>> print simulate_guess(5)\n",
      "array([0, 0, 0, 0, 0])\n",
      "\"\"\"\n",
      "#your code here\n"
     ],
     "language": "python",
     "metadata": {},
     "outputs": [],
     "prompt_number": 10
    },
    {
     "cell_type": "markdown",
     "metadata": {},
     "source": [
      "Next, write a function, `goat_door`, to simulate randomly revealing one of the goat doors that a contestant didn't pick."
     ]
    },
    {
     "cell_type": "code",
     "collapsed": false,
     "input": [
      "\"\"\"\n",
      "Function\n",
      "--------\n",
      "goat_door\n",
      "\n",
      "Simulate the opening of a \"goat door\" that doesn't contain the prize,\n",
      "and is different from the contestants guess\n",
      "\n",
      "Parameters\n",
      "----------\n",
      "prizedoors : array\n",
      "    The door that the prize is behind in each simulation\n",
      "guesses : array\n",
      "    THe door that the contestant guessed in each simulation\n",
      "\n",
      "Returns\n",
      "-------\n",
      "goats : array\n",
      "    The goat door that is opened for each simulation. Each item is 0, 1, or 2, and is different\n",
      "    from both prizedoors and guesses\n",
      "\n",
      "Examples\n",
      "--------\n",
      ">>> print goat_door(np.array([0, 1, 2]), np.array([1, 1, 1]))\n",
      ">>> array([2, 2, 0])\n",
      "\"\"\"\n",
      "#your code here\n"
     ],
     "language": "python",
     "metadata": {},
     "outputs": [],
     "prompt_number": 11
    },
    {
     "cell_type": "markdown",
     "metadata": {},
     "source": [
      "Write a function, `switch_guess`, that represents the strategy of always switching a guess after the goat door is opened."
     ]
    },
    {
     "cell_type": "code",
     "collapsed": false,
     "input": [
      "\"\"\"\n",
      "Function\n",
      "--------\n",
      "switch_guess\n",
      "\n",
      "The strategy that always switches a guess after the goat door is opened\n",
      "\n",
      "Parameters\n",
      "----------\n",
      "guesses : array\n",
      "     Array of original guesses, for each simulation\n",
      "goatdoors : array\n",
      "     Array of revealed goat doors for each simulation\n",
      "\n",
      "Returns\n",
      "-------\n",
      "The new door after switching. Should be different from both guesses and goatdoors\n",
      "\n",
      "Examples\n",
      "--------\n",
      ">>> print switch_guess(np.array([0, 1, 2]), np.array([1, 2, 1]))\n",
      ">>> array([2, 0, 0])\n",
      "\"\"\"\n",
      "#your code here\n"
     ],
     "language": "python",
     "metadata": {},
     "outputs": [],
     "prompt_number": 12
    },
    {
     "cell_type": "markdown",
     "metadata": {},
     "source": [
      "Last function: write a `win_percentage` function that takes an array of `guesses` and `prizedoors`, and returns the percent of correct guesses"
     ]
    },
    {
     "cell_type": "code",
     "collapsed": false,
     "input": [
      "\"\"\"\n",
      "Function\n",
      "--------\n",
      "win_percentage\n",
      "\n",
      "Calculate the percent of times that a simulation of guesses is correct\n",
      "\n",
      "Parameters\n",
      "-----------\n",
      "guesses : array\n",
      "    Guesses for each simulation\n",
      "prizedoors : array\n",
      "    Location of prize for each simulation\n",
      "\n",
      "Returns\n",
      "--------\n",
      "percentage : number between 0 and 100\n",
      "    The win percentage\n",
      "\n",
      "Examples\n",
      "---------\n",
      ">>> print win_percentage(np.array([0, 1, 2]), np.array([0, 0, 0]))\n",
      "33.333\n",
      "\"\"\"\n",
      "#your code here\n"
     ],
     "language": "python",
     "metadata": {},
     "outputs": [],
     "prompt_number": 13
    },
    {
     "cell_type": "markdown",
     "metadata": {},
     "source": [
      "Now, put it together. Simulate 10000 games where contestant keeps his original guess, and 10000 games where the contestant switches his door after a  goat door is revealed. Compute the percentage of time the contestant wins under either strategy. Is one strategy better than the other?"
     ]
    },
    {
     "cell_type": "code",
     "collapsed": false,
     "input": [
      "#your code here\n"
     ],
     "language": "python",
     "metadata": {},
     "outputs": [],
     "prompt_number": 14
    },
    {
     "cell_type": "markdown",
     "metadata": {},
     "source": [
      "Many people find this answer counter-intuitive (famously, PhD mathematicians have incorrectly claimed the result must be wrong. Clearly, none of them knew Python). \n",
      "\n",
      "One of the best ways to build intuition about why opening a Goat door affects the odds is to re-run the experiment with 100 doors and one prize. If the game show host opens 98 goat doors after you make your initial selection, would you want to keep your first pick or switch? Can you generalize your simulation code to handle the case of `n` doors?"
     ]
    }
   ],
   "metadata": {}
  }
 ]
>>>>>>> 0f0c826ea5f101a0ce561155e31a28e7ad39aa2d
>>>>>>> upstream/master
}